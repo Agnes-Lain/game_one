{
 "cells": [
  {
   "cell_type": "code",
   "execution_count": 8,
   "id": "formal-coffee",
   "metadata": {},
   "outputs": [
    {
     "name": "stdout",
     "output_type": "stream",
     "text": [
      "The autoreload extension is already loaded. To reload it, use:\n",
      "  %reload_ext autoreload\n"
     ]
    }
   ],
   "source": [
    "%load_ext autoreload\n",
    "%autoreload 2\n",
    "\n",
    "from sklearn.metrics.pairwise import cosine_similarity"
   ]
  },
  {
   "cell_type": "code",
   "execution_count": 9,
   "id": "skilled-disability",
   "metadata": {},
   "outputs": [],
   "source": [
    "import pickle\n",
    "import numpy as np\n",
    "import pandas as pd\n",
    "\n",
    "with open(\"content_base_svd.pickle\", \"rb\") as f:\n",
    "    CBP = pickle.load(f)"
   ]
  },
  {
   "cell_type": "code",
   "execution_count": 11,
   "id": "hydraulic-change",
   "metadata": {},
   "outputs": [
    {
     "data": {
      "text/plain": [
       "TfidfVectorizer(min_df=0.05, stop_words='english')"
      ]
     },
     "execution_count": 11,
     "metadata": {},
     "output_type": "execute_result"
    }
   ],
   "source": []
  },
  {
   "cell_type": "code",
   "execution_count": 43,
   "id": "american-soldier",
   "metadata": {},
   "outputs": [
    {
     "name": "stdout",
     "output_type": "stream",
     "text": [
      "5|exceptional|8|61.54, 1|skip|3|23.08, 3|meh|2|15.38\n",
      "4|PC\n",
      "Action, Strategy, Simulation, Casual, Indie\n",
      "Action, Strategy, Simulation, Casual, Indie\n",
      "29520|VDimension\n",
      "21824|VDimension\n",
      "game-413719-Animal Revolt Battle Simulator has added to list\n",
      "(1, 317)\n"
     ]
    }
   ],
   "source": [
    "game_id = 413719\n",
    "    \n",
    "    \n",
    "if game_id in CBP.latent_df.index:\n",
    "    v1 = np.array(cbp.latent_df.loc[game_id]).reshape(1, -1)\n",
    "    sim1 = cosine_similarity(cbp.latent_df, v1).reshape(-1)\n",
    "    dictDf = {'content': sim1}\n",
    "    reco_df = pd.DataFrame(dictDf, index = cbp.latent_df.index)\n",
    "    x = reco_df.sort_values('content', ascending=False, inplace=False)[1:16]\n",
    "    y = x.reset_index().to_dict()\n",
    "    #  if game not in model, need to transform with tf and svd\n",
    "else:\n",
    "    game_meta = CBP.get_metadata(game_id)\n",
    "    game_matrix = CBP.model_tf.transform(game_meta)\n",
    "    print(game_matrix.shape)\n",
    "    game_pred = CBP.model_svd.transform(game_matrix)\n",
    "    v1 = CBP.latent_df.values\n",
    "    sim2 = cosine_similarity(game_pred, v1).reshape(-1)\n",
    "    dictDf = {'content': sim2}\n",
    "    reco_df = pd.DataFrame(dictDf, index = CBP.latent_df.index)\n",
    "    final = reco_df.sort_values('content', ascending=False, inplace=False)[1:16]\n",
    "    final_dict = final.reset_index().to_dict()"
   ]
  },
  {
   "cell_type": "code",
   "execution_count": 44,
   "id": "moving-correction",
   "metadata": {},
   "outputs": [
    {
     "data": {
      "text/plain": [
       "{'index': {0: 10008,\n",
       "  1: 364976,\n",
       "  2: 47104,\n",
       "  3: 46604,\n",
       "  4: 10366,\n",
       "  5: 17061,\n",
       "  6: 536941,\n",
       "  7: 22406,\n",
       "  8: 52037,\n",
       "  9: 61600,\n",
       "  10: 11122,\n",
       "  11: 428820,\n",
       "  12: 428680,\n",
       "  13: 15768,\n",
       "  14: 296117},\n",
       " 'content': {0: 0.8056788329154819,\n",
       "  1: 0.8055022064163493,\n",
       "  2: 0.8045950708709744,\n",
       "  3: 0.8010115720211912,\n",
       "  4: 0.8008749933792887,\n",
       "  5: 0.8004198327917466,\n",
       "  6: 0.7993553539586361,\n",
       "  7: 0.7968758854649872,\n",
       "  8: 0.7942826828200027,\n",
       "  9: 0.7904301393136035,\n",
       "  10: 0.7891922387199558,\n",
       "  11: 0.7889993319422238,\n",
       "  12: 0.7883860114607262,\n",
       "  13: 0.7876947214247891,\n",
       "  14: 0.7864366052238515}}"
      ]
     },
     "execution_count": 44,
     "metadata": {},
     "output_type": "execute_result"
    }
   ],
   "source": [
    "final_dict"
   ]
  },
  {
   "cell_type": "code",
   "execution_count": 9,
   "id": "numeric-building",
   "metadata": {},
   "outputs": [
    {
     "data": {
      "text/plain": [
       "{'index': {0: 3436,\n",
       "  1: 3624,\n",
       "  2: 1159,\n",
       "  3: 3305,\n",
       "  4: 3373,\n",
       "  5: 3507,\n",
       "  6: 3743,\n",
       "  7: 5327,\n",
       "  8: 46422,\n",
       "  9: 3761,\n",
       "  10: 4472,\n",
       "  11: 44764,\n",
       "  12: 982,\n",
       "  13: 4119,\n",
       "  14: 57956,\n",
       "  15: 2614,\n",
       "  16: 3924,\n",
       "  17: 261316,\n",
       "  18: 44762,\n",
       "  19: 244884},\n",
       " 'content': {0: 0.9999999999999997,\n",
       "  1: 0.6551546429692747,\n",
       "  2: 0.6443465769667206,\n",
       "  3: 0.6417570994018951,\n",
       "  4: 0.61636055985356,\n",
       "  5: 0.611249330453524,\n",
       "  6: 0.5996983603233759,\n",
       "  7: 0.5960252090932302,\n",
       "  8: 0.5917893684362481,\n",
       "  9: 0.5912210645544471,\n",
       "  10: 0.5889591233728765,\n",
       "  11: 0.5855147926100301,\n",
       "  12: 0.5830459456259484,\n",
       "  13: 0.5794127520004456,\n",
       "  14: 0.5769427652008053,\n",
       "  15: 0.5734629805714246,\n",
       "  16: 0.5728759079071044,\n",
       "  17: 0.5691859611391601,\n",
       "  18: 0.5674106050775295,\n",
       "  19: 0.5650410033069615}}"
      ]
     },
     "execution_count": 9,
     "metadata": {},
     "output_type": "execute_result"
    }
   ],
   "source": [
    "y"
   ]
  },
  {
   "cell_type": "code",
   "execution_count": 18,
   "id": "seventh-albert",
   "metadata": {},
   "outputs": [
    {
     "data": {
      "text/plain": [
       "(17695, 200)"
      ]
     },
     "execution_count": 18,
     "metadata": {},
     "output_type": "execute_result"
    }
   ],
   "source": [
    "cbp.latent_df.shape"
   ]
  },
  {
   "cell_type": "code",
   "execution_count": 26,
   "id": "organic-hurricane",
   "metadata": {},
   "outputs": [
    {
     "data": {
      "text/plain": [
       "0      0.098278\n",
       "1      0.205785\n",
       "2     -0.087645\n",
       "3      0.282411\n",
       "4      0.095206\n",
       "         ...   \n",
       "195    0.000931\n",
       "196    0.001228\n",
       "197   -0.024363\n",
       "198   -0.039989\n",
       "199    0.024378\n",
       "Name: 3436, Length: 200, dtype: float64"
      ]
     },
     "execution_count": 26,
     "metadata": {},
     "output_type": "execute_result"
    }
   ],
   "source": [
    "cbp.latent_df.loc[game_id]"
   ]
  },
  {
   "cell_type": "code",
   "execution_count": null,
   "id": "advanced-singing",
   "metadata": {},
   "outputs": [],
   "source": []
  }
 ],
 "metadata": {
  "kernelspec": {
   "display_name": "Python 3",
   "language": "python",
   "name": "python3"
  },
  "language_info": {
   "codemirror_mode": {
    "name": "ipython",
    "version": 3
   },
   "file_extension": ".py",
   "mimetype": "text/x-python",
   "name": "python",
   "nbconvert_exporter": "python",
   "pygments_lexer": "ipython3",
   "version": "3.8.6"
  },
  "toc": {
   "base_numbering": 1,
   "nav_menu": {},
   "number_sections": true,
   "sideBar": true,
   "skip_h1_title": false,
   "title_cell": "Table of Contents",
   "title_sidebar": "Contents",
   "toc_cell": false,
   "toc_position": {},
   "toc_section_display": true,
   "toc_window_display": false
  },
  "varInspector": {
   "cols": {
    "lenName": 16,
    "lenType": 16,
    "lenVar": 40
   },
   "kernels_config": {
    "python": {
     "delete_cmd_postfix": "",
     "delete_cmd_prefix": "del ",
     "library": "var_list.py",
     "varRefreshCmd": "print(var_dic_list())"
    },
    "r": {
     "delete_cmd_postfix": ") ",
     "delete_cmd_prefix": "rm(",
     "library": "var_list.r",
     "varRefreshCmd": "cat(var_dic_list()) "
    }
   },
   "types_to_exclude": [
    "module",
    "function",
    "builtin_function_or_method",
    "instance",
    "_Feature"
   ],
   "window_display": false
  }
 },
 "nbformat": 4,
 "nbformat_minor": 5
}
