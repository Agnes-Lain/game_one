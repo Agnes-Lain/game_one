{
 "cells": [
  {
   "cell_type": "code",
   "execution_count": 13,
   "id": "waiting-metallic",
   "metadata": {},
   "outputs": [],
   "source": [
    "import pickle5 as pickle\n",
    "with open(\"content_base_svd.pickle\", \"rb\") as f:\n",
    "    CBP = pickle.load(f)"
   ]
  },
  {
   "cell_type": "code",
   "execution_count": 16,
   "id": "opening-contemporary",
   "metadata": {},
   "outputs": [],
   "source": [
    "from sklearn.metrics.pairwise import cosine_similarity\n",
    "import pandas as pd"
   ]
  },
  {
   "cell_type": "code",
   "execution_count": 17,
   "id": "complete-balance",
   "metadata": {},
   "outputs": [
    {
     "data": {
      "text/plain": [
       "{'index': {0: 29297,\n",
       "  1: 1274,\n",
       "  2: 17206,\n",
       "  3: 26258,\n",
       "  4: 311050,\n",
       "  5: 46556,\n",
       "  6: 72597,\n",
       "  7: 50067,\n",
       "  8: 64543,\n",
       "  9: 255827,\n",
       "  10: 22779,\n",
       "  11: 274783,\n",
       "  12: 6254,\n",
       "  13: 21195,\n",
       "  14: 21234},\n",
       " 'content': {0: 0.7559926059043063,\n",
       "  1: 0.6748449985061846,\n",
       "  2: 0.6619452493785302,\n",
       "  3: 0.6383116338343358,\n",
       "  4: 0.6253643149064134,\n",
       "  5: 0.6047417699963464,\n",
       "  6: 0.5993794195137714,\n",
       "  7: 0.5950467493069569,\n",
       "  8: 0.5886692034845318,\n",
       "  9: 0.5793417359162293,\n",
       "  10: 0.5770369947385108,\n",
       "  11: 0.5742204067566854,\n",
       "  12: 0.5701697022844624,\n",
       "  13: 0.5667161896872331,\n",
       "  14: 0.5666470047506929}}"
      ]
     },
     "execution_count": 17,
     "metadata": {},
     "output_type": "execute_result"
    }
   ],
   "source": [
    "game_id = 446900\n",
    "v1 = np.array(CBP.latent_df.loc[game_id]).reshape(1, -1)\n",
    "sim1 = cosine_similarity(CBP.latent_df, v1).reshape(-1)\n",
    "dictDf = {'content': sim1}\n",
    "reco_df = pd.DataFrame(dictDf, index = CBP.latent_df.index)\n",
    "final = reco_df.sort_values('content', ascending=False, inplace=False)[1:16]\n",
    "final.reset_index().to_dict()"
   ]
  },
  {
   "cell_type": "code",
   "execution_count": 8,
   "id": "buried-poverty",
   "metadata": {},
   "outputs": [],
   "source": [
    "CBP.matrix_tf"
   ]
  },
  {
   "cell_type": "code",
   "execution_count": 23,
   "id": "conditional-scenario",
   "metadata": {},
   "outputs": [],
   "source": [
    "params = {\n",
    "  \"index\": {\n",
    "    \"0\": 29297,\n",
    "    \"1\": 1274,\n",
    "    \"2\": 17206,\n",
    "    \"3\": 26258,\n",
    "    \"4\": 311050,\n",
    "    \"5\": 46556,\n",
    "    \"6\": 72597,\n",
    "    \"7\": 50067,\n",
    "    \"8\": 64543,\n",
    "    \"9\": 255827,\n",
    "    \"10\": 22779,\n",
    "    \"11\": 274783,\n",
    "    \"12\": 6254,\n",
    "    \"13\": 21195,\n",
    "    \"14\": 21234\n",
    "  },\n",
    "  \"content\": {\n",
    "    \"0\": 0.7559926059043063,\n",
    "    \"1\": 0.6748449985061846,\n",
    "    \"2\": 0.6619452493785302,\n",
    "    \"3\": 0.6383116338343358,\n",
    "    \"4\": 0.6253643149064134,\n",
    "    \"5\": 0.6047417699963464,\n",
    "    \"6\": 0.5993794195137714,\n",
    "    \"7\": 0.5950467493069569,\n",
    "    \"8\": 0.5886692034845318,\n",
    "    \"9\": 0.5793417359162293,\n",
    "    \"10\": 0.5770369947385108,\n",
    "    \"11\": 0.5742204067566854,\n",
    "    \"12\": 0.5701697022844624,\n",
    "    \"13\": 0.5667161896872331,\n",
    "    \"14\": 0.5666470047506929\n",
    "  }\n",
    "}"
   ]
  },
  {
   "cell_type": "code",
   "execution_count": 26,
   "id": "apart-confidentiality",
   "metadata": {},
   "outputs": [],
   "source": [
    "a = params['index'].values()"
   ]
  },
  {
   "cell_type": "code",
   "execution_count": 27,
   "id": "specific-dylan",
   "metadata": {},
   "outputs": [
    {
     "data": {
      "text/plain": [
       "dict_values([29297, 1274, 17206, 26258, 311050, 46556, 72597, 50067, 64543, 255827, 22779, 274783, 6254, 21195, 21234])"
      ]
     },
     "execution_count": 27,
     "metadata": {},
     "output_type": "execute_result"
    }
   ],
   "source": [
    "for game_id in a:\n",
    "    "
   ]
  },
  {
   "cell_type": "code",
   "execution_count": null,
   "id": "relative-demand",
   "metadata": {},
   "outputs": [],
   "source": []
  }
 ],
 "metadata": {
  "kernelspec": {
   "display_name": "Python 3",
   "language": "python",
   "name": "python3"
  },
  "language_info": {
   "codemirror_mode": {
    "name": "ipython",
    "version": 3
   },
   "file_extension": ".py",
   "mimetype": "text/x-python",
   "name": "python",
   "nbconvert_exporter": "python",
   "pygments_lexer": "ipython3",
   "version": "3.8.6"
  },
  "toc": {
   "base_numbering": 1,
   "nav_menu": {},
   "number_sections": true,
   "sideBar": true,
   "skip_h1_title": false,
   "title_cell": "Table of Contents",
   "title_sidebar": "Contents",
   "toc_cell": false,
   "toc_position": {},
   "toc_section_display": true,
   "toc_window_display": false
  },
  "varInspector": {
   "cols": {
    "lenName": 16,
    "lenType": 16,
    "lenVar": 40
   },
   "kernels_config": {
    "python": {
     "delete_cmd_postfix": "",
     "delete_cmd_prefix": "del ",
     "library": "var_list.py",
     "varRefreshCmd": "print(var_dic_list())"
    },
    "r": {
     "delete_cmd_postfix": ") ",
     "delete_cmd_prefix": "rm(",
     "library": "var_list.r",
     "varRefreshCmd": "cat(var_dic_list()) "
    }
   },
   "types_to_exclude": [
    "module",
    "function",
    "builtin_function_or_method",
    "instance",
    "_Feature"
   ],
   "window_display": false
  }
 },
 "nbformat": 4,
 "nbformat_minor": 5
}
