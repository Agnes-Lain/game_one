{
 "cells": [
  {
   "cell_type": "code",
   "execution_count": 1,
   "id": "caring-cutting",
   "metadata": {
    "ExecuteTime": {
     "end_time": "2021-03-02T14:03:34.135939Z",
     "start_time": "2021-03-02T14:03:34.118703Z"
    }
   },
   "outputs": [],
   "source": [
    "%load_ext autoreload\n",
    "\n",
    "%autoreload 2"
   ]
  },
  {
   "cell_type": "code",
   "execution_count": 2,
   "id": "professional-mortality",
   "metadata": {
    "ExecuteTime": {
     "end_time": "2021-03-02T14:03:35.911651Z",
     "start_time": "2021-03-02T14:03:34.138844Z"
    }
   },
   "outputs": [
    {
     "name": "stderr",
     "output_type": "stream",
     "text": [
      "/Users/guillaume/.pyenv/versions/3.8.6/envs/game_one_👾/lib/python3.8/site-packages/IPython/core/interactiveshell.py:3347: DtypeWarning: Columns (0) have mixed types.Specify dtype option on import or set low_memory=False.\n",
      "  if (await self.run_code(code, result,  async_=asy)):\n",
      "/Users/guillaume/code/Agnes-Lain/game_one/game_one/model_baseline_train.py:28: SettingWithCopyWarning: \n",
      "A value is trying to be set on a copy of a slice from a DataFrame.\n",
      "Try using .loc[row_indexer,col_indexer] = value instead\n",
      "\n",
      "See the caveats in the documentation: https://pandas.pydata.org/pandas-docs/stable/user_guide/indexing.html#returning-a-view-versus-a-copy\n",
      "  meta['dummies'] = 0\n"
     ]
    },
    {
     "name": "stdout",
     "output_type": "stream",
     "text": [
      "Estimating biases using als...\n",
      "Estimating biases using als...\n",
      "Estimating biases using als...\n",
      "Estimating biases using als...\n",
      "Estimating biases using als...\n",
      "Estimating biases using als...\n",
      "Evaluating RMSE, MAE of algorithm BaselineOnly on 5 split(s).\n",
      "\n",
      "                  Fold 1  Fold 2  Fold 3  Fold 4  Fold 5  Mean    Std     \n",
      "RMSE (testset)    0.9453  0.9398  0.9590  0.9716  0.9722  0.9576  0.0132  \n",
      "MAE (testset)     0.7146  0.7077  0.7193  0.7240  0.7253  0.7182  0.0065  \n",
      "Fit time          0.03    0.03    0.04    0.03    0.03    0.03    0.00    \n",
      "Test time         0.02    0.02    0.02    0.02    0.05    0.03    0.01    \n"
     ]
    }
   ],
   "source": [
    "from game_one.model_baseline_train import BaselineTrain\n",
    "test =  BaselineTrain()\n",
    "BaselineTrain.load_data(test)\n",
    "BaselineTrain.get_ratings_and_meta(test)\n",
    "BaselineTrain.get_surprise_data(test)\n",
    "BaselineTrain.run_model(test)\n",
    "BaselineTrain.validate_svd_model(test)\n",
    "BaselineTrain.save_model(test)"
   ]
  },
  {
   "cell_type": "code",
   "execution_count": null,
   "id": "several-string",
   "metadata": {},
   "outputs": [],
   "source": []
  }
 ],
 "metadata": {
  "kernelspec": {
   "display_name": "Python 3",
   "language": "python",
   "name": "python3"
  },
  "language_info": {
   "codemirror_mode": {
    "name": "ipython",
    "version": 3
   },
   "file_extension": ".py",
   "mimetype": "text/x-python",
   "name": "python",
   "nbconvert_exporter": "python",
   "pygments_lexer": "ipython3",
   "version": "3.8.6"
  },
  "toc": {
   "base_numbering": 1,
   "nav_menu": {},
   "number_sections": true,
   "sideBar": true,
   "skip_h1_title": false,
   "title_cell": "Table of Contents",
   "title_sidebar": "Contents",
   "toc_cell": false,
   "toc_position": {},
   "toc_section_display": true,
   "toc_window_display": false
  },
  "varInspector": {
   "cols": {
    "lenName": 16,
    "lenType": 16,
    "lenVar": 40
   },
   "kernels_config": {
    "python": {
     "delete_cmd_postfix": "",
     "delete_cmd_prefix": "del ",
     "library": "var_list.py",
     "varRefreshCmd": "print(var_dic_list())"
    },
    "r": {
     "delete_cmd_postfix": ") ",
     "delete_cmd_prefix": "rm(",
     "library": "var_list.r",
     "varRefreshCmd": "cat(var_dic_list()) "
    }
   },
   "types_to_exclude": [
    "module",
    "function",
    "builtin_function_or_method",
    "instance",
    "_Feature"
   ],
   "window_display": false
  }
 },
 "nbformat": 4,
 "nbformat_minor": 5
}
