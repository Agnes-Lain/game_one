{
 "cells": [
  {
   "cell_type": "code",
   "execution_count": 5,
   "id": "lasting-seminar",
   "metadata": {
    "ExecuteTime": {
     "end_time": "2021-03-02T17:17:49.166913Z",
     "start_time": "2021-03-02T17:17:49.137842Z"
    }
   },
   "outputs": [
    {
     "name": "stdout",
     "output_type": "stream",
     "text": [
      "The autoreload extension is already loaded. To reload it, use:\n",
      "  %reload_ext autoreload\n"
     ]
    }
   ],
   "source": [
    "%load_ext autoreload\n",
    "\n",
    "%autoreload 2\n",
    "\n",
    "from game_one.model_cfm_predict import CFMPredict\n",
    "from surprise.model_selection import GridSearchCV\n",
    "from surprise import SVD"
   ]
  },
  {
   "cell_type": "code",
   "execution_count": 2,
   "id": "swedish-wellington",
   "metadata": {
    "ExecuteTime": {
     "end_time": "2021-03-02T17:15:23.443213Z",
     "start_time": "2021-03-02T17:15:21.002285Z"
    }
   },
   "outputs": [
    {
     "name": "stderr",
     "output_type": "stream",
     "text": [
      "/Users/guillaume/.pyenv/versions/3.8.6/envs/game_one_👾/lib/python3.8/site-packages/IPython/core/interactiveshell.py:3347: DtypeWarning: Columns (0) have mixed types.Specify dtype option on import or set low_memory=False.\n",
      "  if (await self.run_code(code, result,  async_=asy)):\n",
      "/Users/guillaume/code/Agnes-Lain/game_one/game_one/model_cfm_train.py:28: SettingWithCopyWarning: \n",
      "A value is trying to be set on a copy of a slice from a DataFrame.\n",
      "Try using .loc[row_indexer,col_indexer] = value instead\n",
      "\n",
      "See the caveats in the documentation: https://pandas.pydata.org/pandas-docs/stable/user_guide/indexing.html#returning-a-view-versus-a-copy\n",
      "  meta['dummies'] = 0\n"
     ]
    },
    {
     "name": "stdout",
     "output_type": "stream",
     "text": [
      "Processing epoch 0\n",
      "Processing epoch 1\n",
      "Processing epoch 2\n",
      "Processing epoch 3\n",
      "Processing epoch 4\n",
      "Processing epoch 5\n",
      "Processing epoch 6\n",
      "Processing epoch 7\n",
      "Processing epoch 8\n",
      "Processing epoch 9\n",
      "Processing epoch 10\n",
      "Processing epoch 11\n",
      "Processing epoch 12\n",
      "Processing epoch 13\n",
      "Processing epoch 14\n",
      "Processing epoch 15\n",
      "Processing epoch 16\n",
      "Processing epoch 17\n",
      "Processing epoch 18\n",
      "Processing epoch 19\n"
     ]
    }
   ],
   "source": [
    "from game_one.model_cfm_train import CFMTrain\n",
    "test =  CFMTrain()\n",
    "CFMTrain.load_data(test)\n",
    "CFMTrain.get_ratings_and_meta(test)\n",
    "CFMTrain.get_surprise_data(test)\n",
    "CFMTrain.run_model(test)\n",
    "CFMTrain.save_model(test)"
   ]
  },
  {
   "cell_type": "code",
   "execution_count": 3,
   "id": "latter-sector",
   "metadata": {
    "ExecuteTime": {
     "end_time": "2021-03-02T17:15:27.921176Z",
     "start_time": "2021-03-02T17:15:23.447492Z"
    }
   },
   "outputs": [
    {
     "name": "stdout",
     "output_type": "stream",
     "text": [
      "Evaluating MAE of algorithm SVD on 10 split(s).\n",
      "\n",
      "                  Fold 1  Fold 2  Fold 3  Fold 4  Fold 5  Fold 6  Fold 7  Fold 8  Fold 9  Fold 10 Mean    Std     \n",
      "MAE (testset)     0.7117  0.7093  0.6935  0.7249  0.6931  0.7192  0.7042  0.7254  0.7200  0.7150  0.7116  0.0111  \n",
      "Fit time          0.48    0.35    0.53    0.42    0.37    0.34    0.35    0.35    0.36    0.33    0.39    0.06    \n",
      "Test time         0.02    0.02    0.02    0.02    0.02    0.01    0.01    0.01    0.01    0.01    0.02    0.00    \n",
      "<class 'NoneType'>\n"
     ]
    }
   ],
   "source": [
    "cv = CFMTrain.validate_svd_model(test, 2)\n",
    "print(type(cv))"
   ]
  },
  {
   "cell_type": "code",
   "execution_count": 9,
   "id": "atmospheric-cricket",
   "metadata": {
    "ExecuteTime": {
     "end_time": "2021-03-02T17:18:38.055949Z",
     "start_time": "2021-03-02T17:18:38.017891Z"
    }
   },
   "outputs": [
    {
     "data": {
      "text/html": [
       "<div>\n",
       "<style scoped>\n",
       "    .dataframe tbody tr th:only-of-type {\n",
       "        vertical-align: middle;\n",
       "    }\n",
       "\n",
       "    .dataframe tbody tr th {\n",
       "        vertical-align: top;\n",
       "    }\n",
       "\n",
       "    .dataframe thead th {\n",
       "        text-align: right;\n",
       "    }\n",
       "</style>\n",
       "<table border=\"1\" class=\"dataframe\">\n",
       "  <thead>\n",
       "    <tr style=\"text-align: right;\">\n",
       "      <th></th>\n",
       "      <th>user_id</th>\n",
       "      <th>game_id</th>\n",
       "      <th>user_rating</th>\n",
       "    </tr>\n",
       "  </thead>\n",
       "  <tbody>\n",
       "    <tr>\n",
       "      <th>0</th>\n",
       "      <td>1</td>\n",
       "      <td>446900</td>\n",
       "      <td>4</td>\n",
       "    </tr>\n",
       "    <tr>\n",
       "      <th>1</th>\n",
       "      <td>1</td>\n",
       "      <td>264830</td>\n",
       "      <td>5</td>\n",
       "    </tr>\n",
       "    <tr>\n",
       "      <th>2</th>\n",
       "      <td>1</td>\n",
       "      <td>58443</td>\n",
       "      <td>4</td>\n",
       "    </tr>\n",
       "    <tr>\n",
       "      <th>4</th>\n",
       "      <td>1</td>\n",
       "      <td>21889</td>\n",
       "      <td>4</td>\n",
       "    </tr>\n",
       "    <tr>\n",
       "      <th>5</th>\n",
       "      <td>1</td>\n",
       "      <td>1190</td>\n",
       "      <td>4</td>\n",
       "    </tr>\n",
       "    <tr>\n",
       "      <th>...</th>\n",
       "      <td>...</td>\n",
       "      <td>...</td>\n",
       "      <td>...</td>\n",
       "    </tr>\n",
       "    <tr>\n",
       "      <th>255492</th>\n",
       "      <td>rasha27</td>\n",
       "      <td>5578</td>\n",
       "      <td>5</td>\n",
       "    </tr>\n",
       "    <tr>\n",
       "      <th>255493</th>\n",
       "      <td>rasha27</td>\n",
       "      <td>326292</td>\n",
       "      <td>3</td>\n",
       "    </tr>\n",
       "    <tr>\n",
       "      <th>255494</th>\n",
       "      <td>rasha27</td>\n",
       "      <td>2572</td>\n",
       "      <td>5</td>\n",
       "    </tr>\n",
       "    <tr>\n",
       "      <th>255495</th>\n",
       "      <td>rasha27</td>\n",
       "      <td>4003</td>\n",
       "      <td>5</td>\n",
       "    </tr>\n",
       "    <tr>\n",
       "      <th>255496</th>\n",
       "      <td>rasha27</td>\n",
       "      <td>3272</td>\n",
       "      <td>5</td>\n",
       "    </tr>\n",
       "  </tbody>\n",
       "</table>\n",
       "<p>24505 rows × 3 columns</p>\n",
       "</div>"
      ],
      "text/plain": [
       "        user_id  game_id  user_rating\n",
       "0             1   446900            4\n",
       "1             1   264830            5\n",
       "2             1    58443            4\n",
       "4             1    21889            4\n",
       "5             1     1190            4\n",
       "...         ...      ...          ...\n",
       "255492  rasha27     5578            5\n",
       "255493  rasha27   326292            3\n",
       "255494  rasha27     2572            5\n",
       "255495  rasha27     4003            5\n",
       "255496  rasha27     3272            5\n",
       "\n",
       "[24505 rows x 3 columns]"
      ]
     },
     "execution_count": 9,
     "metadata": {},
     "output_type": "execute_result"
    }
   ],
   "source": [
    "test.surprise_data.df\n"
   ]
  },
  {
   "cell_type": "code",
   "execution_count": null,
   "id": "bacterial-bryan",
   "metadata": {
    "ExecuteTime": {
     "start_time": "2021-03-02T17:20:11.635Z"
    }
   },
   "outputs": [],
   "source": [
    "param_grid = {'n_epochs': [5, 10, 15, 20, 25, 30], 'lr_all': [0.002, 0.005, 0.01],\n",
    "              'reg_all': [0.4, 0.6]}\n",
    "gs = GridSearchCV(SVD, param_grid, measures=['mae'], cv=10)\n",
    "\n",
    "gs.fit(test.surprise_data)\n",
    "\n",
    "# best RMSE score\n",
    "print(gs.best_score['rmse'])\n",
    "\n",
    "# combination of parameters that gave the best RMSE score\n",
    "print(gs.best_params['rmse'])"
   ]
  },
  {
   "cell_type": "code",
   "execution_count": null,
   "id": "european-lobby",
   "metadata": {
    "ExecuteTime": {
     "start_time": "2021-03-02T17:20:41.141Z"
    }
   },
   "outputs": [],
   "source": [
    "gs.__dict__"
   ]
  },
  {
   "cell_type": "code",
   "execution_count": null,
   "id": "supreme-dragon",
   "metadata": {
    "ExecuteTime": {
     "end_time": "2021-03-02T17:17:10.766499Z",
     "start_time": "2021-03-02T17:15:20.148Z"
    }
   },
   "outputs": [],
   "source": [
    "test_2 = CFMPredict('model-cfm.pickle')"
   ]
  },
  {
   "cell_type": "code",
   "execution_count": null,
   "id": "controlled-grade",
   "metadata": {
    "ExecuteTime": {
     "end_time": "2021-03-02T17:17:10.768742Z",
     "start_time": "2021-03-02T17:15:20.149Z"
    }
   },
   "outputs": [],
   "source": [
    "test_2.model"
   ]
  },
  {
   "cell_type": "code",
   "execution_count": null,
   "id": "incorrect-release",
   "metadata": {
    "ExecuteTime": {
     "end_time": "2021-03-02T17:17:10.770592Z",
     "start_time": "2021-03-02T17:15:20.151Z"
    }
   },
   "outputs": [],
   "source": [
    "test_2.model.ratings_df['user_id'].nunique()"
   ]
  },
  {
   "cell_type": "code",
   "execution_count": null,
   "id": "minute-programming",
   "metadata": {
    "ExecuteTime": {
     "end_time": "2021-03-02T17:17:10.772179Z",
     "start_time": "2021-03-02T17:15:20.153Z"
    }
   },
   "outputs": [],
   "source": [
    "test_2.model.ratings_df['game_id'].nunique()"
   ]
  },
  {
   "cell_type": "code",
   "execution_count": null,
   "id": "educational-astronomy",
   "metadata": {
    "ExecuteTime": {
     "end_time": "2021-03-02T17:17:10.773563Z",
     "start_time": "2021-03-02T17:15:20.155Z"
    }
   },
   "outputs": [],
   "source": [
    "test_2.get_game_id('Zelda')"
   ]
  },
  {
   "cell_type": "code",
   "execution_count": null,
   "id": "comprehensive-decline",
   "metadata": {
    "ExecuteTime": {
     "end_time": "2021-03-02T17:17:10.775484Z",
     "start_time": "2021-03-02T17:15:20.157Z"
    }
   },
   "outputs": [],
   "source": [
    "test_2.get_game_info(22511)"
   ]
  },
  {
   "cell_type": "code",
   "execution_count": null,
   "id": "drawn-stationery",
   "metadata": {
    "ExecuteTime": {
     "end_time": "2021-03-02T17:17:10.777689Z",
     "start_time": "2021-03-02T17:15:20.159Z"
    }
   },
   "outputs": [],
   "source": [
    "test_2.all_prediction_for_a_user(42)"
   ]
  },
  {
   "cell_type": "code",
   "execution_count": null,
   "id": "proved-apollo",
   "metadata": {
    "ExecuteTime": {
     "end_time": "2021-03-02T17:17:10.780435Z",
     "start_time": "2021-03-02T17:15:20.161Z"
    }
   },
   "outputs": [],
   "source": [
    "test_2.generate_recommendation(42, 3)"
   ]
  },
  {
   "cell_type": "code",
   "execution_count": null,
   "id": "offshore-netscape",
   "metadata": {},
   "outputs": [],
   "source": []
  },
  {
   "cell_type": "code",
   "execution_count": null,
   "id": "complimentary-bunch",
   "metadata": {},
   "outputs": [],
   "source": []
  },
  {
   "cell_type": "code",
   "execution_count": null,
   "id": "serious-smooth",
   "metadata": {},
   "outputs": [],
   "source": []
  }
 ],
 "metadata": {
  "kernelspec": {
   "display_name": "Python 3",
   "language": "python",
   "name": "python3"
  },
  "language_info": {
   "codemirror_mode": {
    "name": "ipython",
    "version": 3
   },
   "file_extension": ".py",
   "mimetype": "text/x-python",
   "name": "python",
   "nbconvert_exporter": "python",
   "pygments_lexer": "ipython3",
   "version": "3.8.6"
  },
  "toc": {
   "base_numbering": 1,
   "nav_menu": {},
   "number_sections": true,
   "sideBar": true,
   "skip_h1_title": false,
   "title_cell": "Table of Contents",
   "title_sidebar": "Contents",
   "toc_cell": false,
   "toc_position": {},
   "toc_section_display": true,
   "toc_window_display": false
  },
  "varInspector": {
   "cols": {
    "lenName": 16,
    "lenType": 16,
    "lenVar": 40
   },
   "kernels_config": {
    "python": {
     "delete_cmd_postfix": "",
     "delete_cmd_prefix": "del ",
     "library": "var_list.py",
     "varRefreshCmd": "print(var_dic_list())"
    },
    "r": {
     "delete_cmd_postfix": ") ",
     "delete_cmd_prefix": "rm(",
     "library": "var_list.r",
     "varRefreshCmd": "cat(var_dic_list()) "
    }
   },
   "types_to_exclude": [
    "module",
    "function",
    "builtin_function_or_method",
    "instance",
    "_Feature"
   ],
   "window_display": false
  }
 },
 "nbformat": 4,
 "nbformat_minor": 5
}
