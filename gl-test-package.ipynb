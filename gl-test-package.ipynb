{
 "cells": [
  {
   "cell_type": "code",
   "execution_count": 41,
   "id": "lasting-seminar",
   "metadata": {
    "ExecuteTime": {
     "end_time": "2021-03-04T09:29:28.381734Z",
     "start_time": "2021-03-04T09:29:27.890195Z"
    }
   },
   "outputs": [
    {
     "name": "stdout",
     "output_type": "stream",
     "text": [
      "The autoreload extension is already loaded. To reload it, use:\n",
      "  %reload_ext autoreload\n"
     ]
    }
   ],
   "source": [
    "%load_ext autoreload\n",
    "\n",
    "%autoreload 2\n",
    "\n",
    "from game_one.model_cfm_predict import CFMPredict\n",
    "from surprise.model_selection import GridSearchCV\n",
    "from surprise import SVD\n",
    "# from sklearn.metrics import dcg_score\n",
    "import numpy as np\n",
    "import pandas as pd"
   ]
  },
  {
   "cell_type": "code",
   "execution_count": 42,
   "id": "swedish-wellington",
   "metadata": {
    "ExecuteTime": {
     "end_time": "2021-03-04T09:29:35.720858Z",
     "start_time": "2021-03-04T09:29:29.522480Z"
    }
   },
   "outputs": [
    {
     "name": "stderr",
     "output_type": "stream",
     "text": [
      "/Users/guillaume/code/Agnes-Lain/game_one/game_one/model_cfm_train.py:28: SettingWithCopyWarning: \n",
      "A value is trying to be set on a copy of a slice from a DataFrame.\n",
      "Try using .loc[row_indexer,col_indexer] = value instead\n",
      "\n",
      "See the caveats in the documentation: https://pandas.pydata.org/pandas-docs/stable/user_guide/indexing.html#returning-a-view-versus-a-copy\n",
      "  meta['dummies'] = 0\n"
     ]
    },
    {
     "name": "stdout",
     "output_type": "stream",
     "text": [
      "Processing epoch 0\n",
      "Processing epoch 1\n",
      "Processing epoch 2\n",
      "Processing epoch 3\n",
      "Processing epoch 4\n",
      "Processing epoch 5\n",
      "Processing epoch 6\n",
      "Processing epoch 7\n",
      "Processing epoch 8\n",
      "Processing epoch 9\n",
      "Processing epoch 10\n",
      "Processing epoch 11\n",
      "Processing epoch 12\n",
      "Processing epoch 13\n",
      "Processing epoch 14\n",
      "Processing epoch 15\n",
      "Processing epoch 16\n",
      "Processing epoch 17\n",
      "Processing epoch 18\n",
      "Processing epoch 19\n"
     ]
    }
   ],
   "source": [
    "from game_one.model_cfm_train import CFMTrain\n",
    "test =  CFMTrain()\n",
    "CFMTrain.load_data(test)\n",
    "CFMTrain.get_ratings_and_meta(test)\n",
    "CFMTrain.get_surprise_data(test)\n",
    "CFMTrain.run_model(test)\n",
    "CFMTrain.save_model(test)"
   ]
  },
  {
   "cell_type": "code",
   "execution_count": 43,
   "id": "hidden-living",
   "metadata": {
    "ExecuteTime": {
     "end_time": "2021-03-04T09:30:18.329454Z",
     "start_time": "2021-03-04T09:30:01.115033Z"
    }
   },
   "outputs": [
    {
     "name": "stdout",
     "output_type": "stream",
     "text": [
      "Evaluating FCP of algorithm SVD on 10 split(s).\n",
      "\n",
      "                  Fold 1  Fold 2  Fold 3  Fold 4  Fold 5  Fold 6  Fold 7  Fold 8  Fold 9  Fold 10 Mean    Std     \n",
      "FCP (testset)     0.6716  0.6705  0.6821  0.6779  0.6797  0.6754  0.6736  0.6814  0.6712  0.6717  0.6755  0.0042  \n",
      "Fit time          1.42    1.40    1.42    1.49    1.45    1.48    1.45    1.44    1.49    1.58    1.46    0.05    \n",
      "Test time         0.07    0.06    0.07    0.06    0.07    0.06    0.06    0.06    0.07    0.06    0.06    0.00    \n",
      "<class 'NoneType'>\n"
     ]
    }
   ],
   "source": [
    "cv = CFMTrain.validate_svd_model(test, 2)\n",
    "print(type(cv))"
   ]
  },
  {
   "cell_type": "code",
   "execution_count": 44,
   "id": "immediate-print",
   "metadata": {
    "ExecuteTime": {
     "end_time": "2021-03-04T09:32:14.825137Z",
     "start_time": "2021-03-04T09:32:14.779281Z"
    }
   },
   "outputs": [
    {
     "data": {
      "text/html": [
       "<div>\n",
       "<style scoped>\n",
       "    .dataframe tbody tr th:only-of-type {\n",
       "        vertical-align: middle;\n",
       "    }\n",
       "\n",
       "    .dataframe tbody tr th {\n",
       "        vertical-align: top;\n",
       "    }\n",
       "\n",
       "    .dataframe thead th {\n",
       "        text-align: right;\n",
       "    }\n",
       "</style>\n",
       "<table border=\"1\" class=\"dataframe\">\n",
       "  <thead>\n",
       "    <tr style=\"text-align: right;\">\n",
       "      <th></th>\n",
       "      <th>user_id</th>\n",
       "      <th>game_id</th>\n",
       "      <th>user_rating</th>\n",
       "    </tr>\n",
       "  </thead>\n",
       "  <tbody>\n",
       "    <tr>\n",
       "      <th>0</th>\n",
       "      <td>rasha1</td>\n",
       "      <td>366889</td>\n",
       "      <td>1</td>\n",
       "    </tr>\n",
       "    <tr>\n",
       "      <th>1</th>\n",
       "      <td>rasha1</td>\n",
       "      <td>33</td>\n",
       "      <td>4</td>\n",
       "    </tr>\n",
       "    <tr>\n",
       "      <th>3</th>\n",
       "      <td>rasha1</td>\n",
       "      <td>3727</td>\n",
       "      <td>4</td>\n",
       "    </tr>\n",
       "    <tr>\n",
       "      <th>4</th>\n",
       "      <td>rasha1</td>\n",
       "      <td>58084</td>\n",
       "      <td>3</td>\n",
       "    </tr>\n",
       "    <tr>\n",
       "      <th>5</th>\n",
       "      <td>rasha1</td>\n",
       "      <td>10533</td>\n",
       "      <td>4</td>\n",
       "    </tr>\n",
       "    <tr>\n",
       "      <th>...</th>\n",
       "      <td>...</td>\n",
       "      <td>...</td>\n",
       "      <td>...</td>\n",
       "    </tr>\n",
       "    <tr>\n",
       "      <th>104809</th>\n",
       "      <td>Guigsan</td>\n",
       "      <td>857</td>\n",
       "      <td>4</td>\n",
       "    </tr>\n",
       "    <tr>\n",
       "      <th>104810</th>\n",
       "      <td>Guigsan</td>\n",
       "      <td>58616</td>\n",
       "      <td>4</td>\n",
       "    </tr>\n",
       "    <tr>\n",
       "      <th>104811</th>\n",
       "      <td>Guigsan</td>\n",
       "      <td>28153</td>\n",
       "      <td>5</td>\n",
       "    </tr>\n",
       "    <tr>\n",
       "      <th>104812</th>\n",
       "      <td>Guigsan</td>\n",
       "      <td>4166</td>\n",
       "      <td>5</td>\n",
       "    </tr>\n",
       "    <tr>\n",
       "      <th>104813</th>\n",
       "      <td>Guigsan</td>\n",
       "      <td>4806</td>\n",
       "      <td>3</td>\n",
       "    </tr>\n",
       "  </tbody>\n",
       "</table>\n",
       "<p>104813 rows × 3 columns</p>\n",
       "</div>"
      ],
      "text/plain": [
       "        user_id  game_id  user_rating\n",
       "0        rasha1   366889            1\n",
       "1        rasha1       33            4\n",
       "3        rasha1     3727            4\n",
       "4        rasha1    58084            3\n",
       "5        rasha1    10533            4\n",
       "...         ...      ...          ...\n",
       "104809  Guigsan      857            4\n",
       "104810  Guigsan    58616            4\n",
       "104811  Guigsan    28153            5\n",
       "104812  Guigsan     4166            5\n",
       "104813  Guigsan     4806            3\n",
       "\n",
       "[104813 rows x 3 columns]"
      ]
     },
     "execution_count": 44,
     "metadata": {},
     "output_type": "execute_result"
    }
   ],
   "source": [
    "test.surprise_data.df"
   ]
  },
  {
   "cell_type": "code",
   "execution_count": 50,
   "id": "rational-lesbian",
   "metadata": {
    "ExecuteTime": {
     "end_time": "2021-03-04T10:05:30.729961Z",
     "start_time": "2021-03-04T09:59:38.275629Z"
    }
   },
   "outputs": [
    {
     "name": "stdout",
     "output_type": "stream",
     "text": [
      "0.6737016134862175\n",
      "{'n_epochs': 30, 'lr_all': 0.0075, 'reg_all': 0.3, 'n_factors': 30}\n"
     ]
    }
   ],
   "source": [
    "param_grid = {'n_epochs': [20, 25, 30], 'lr_all': [0.005, 0.0075, 0.01],\n",
    "              'reg_all': [0.3, 0.4], 'n_factors': [30]}\n",
    "gs = GridSearchCV(SVD, param_grid, measures=['fcp'], cv=10, n_jobs=-1)\n",
    "\n",
    "gs.fit(test.surprise_data)\n",
    "\n",
    "# best RMSE score\n",
    "print(gs.best_score['fcp'])\n",
    "\n",
    "# combination of parameters that gave the best RMSE score\n",
    "print(gs.best_params['fcp'])"
   ]
  },
  {
   "cell_type": "code",
   "execution_count": 46,
   "id": "russian-independence",
   "metadata": {
    "ExecuteTime": {
     "end_time": "2021-03-04T09:48:30.873632Z",
     "start_time": "2021-03-04T09:48:30.829470Z"
    }
   },
   "outputs": [
    {
     "data": {
      "text/plain": [
       "{'algo_class': surprise.prediction_algorithms.matrix_factorization.SVD,\n",
       " 'measures': ['fcp'],\n",
       " 'cv': 10,\n",
       " 'refit': False,\n",
       " 'return_train_measures': False,\n",
       " 'n_jobs': -1,\n",
       " 'pre_dispatch': '2*n_jobs',\n",
       " 'joblib_verbose': 0,\n",
       " 'param_grid': {'n_epochs': [20, 30, 40, 45],\n",
       "  'lr_all': [0.0075, 0.01, 0.0125],\n",
       "  'reg_all': [0.4, 0.5],\n",
       "  'n_factors': [72]},\n",
       " 'param_combinations': [{'n_epochs': 20,\n",
       "   'lr_all': 0.0075,\n",
       "   'reg_all': 0.4,\n",
       "   'n_factors': 72},\n",
       "  {'n_epochs': 20, 'lr_all': 0.0075, 'reg_all': 0.5, 'n_factors': 72},\n",
       "  {'n_epochs': 20, 'lr_all': 0.01, 'reg_all': 0.4, 'n_factors': 72},\n",
       "  {'n_epochs': 20, 'lr_all': 0.01, 'reg_all': 0.5, 'n_factors': 72},\n",
       "  {'n_epochs': 20, 'lr_all': 0.0125, 'reg_all': 0.4, 'n_factors': 72},\n",
       "  {'n_epochs': 20, 'lr_all': 0.0125, 'reg_all': 0.5, 'n_factors': 72},\n",
       "  {'n_epochs': 30, 'lr_all': 0.0075, 'reg_all': 0.4, 'n_factors': 72},\n",
       "  {'n_epochs': 30, 'lr_all': 0.0075, 'reg_all': 0.5, 'n_factors': 72},\n",
       "  {'n_epochs': 30, 'lr_all': 0.01, 'reg_all': 0.4, 'n_factors': 72},\n",
       "  {'n_epochs': 30, 'lr_all': 0.01, 'reg_all': 0.5, 'n_factors': 72},\n",
       "  {'n_epochs': 30, 'lr_all': 0.0125, 'reg_all': 0.4, 'n_factors': 72},\n",
       "  {'n_epochs': 30, 'lr_all': 0.0125, 'reg_all': 0.5, 'n_factors': 72},\n",
       "  {'n_epochs': 40, 'lr_all': 0.0075, 'reg_all': 0.4, 'n_factors': 72},\n",
       "  {'n_epochs': 40, 'lr_all': 0.0075, 'reg_all': 0.5, 'n_factors': 72},\n",
       "  {'n_epochs': 40, 'lr_all': 0.01, 'reg_all': 0.4, 'n_factors': 72},\n",
       "  {'n_epochs': 40, 'lr_all': 0.01, 'reg_all': 0.5, 'n_factors': 72},\n",
       "  {'n_epochs': 40, 'lr_all': 0.0125, 'reg_all': 0.4, 'n_factors': 72},\n",
       "  {'n_epochs': 40, 'lr_all': 0.0125, 'reg_all': 0.5, 'n_factors': 72},\n",
       "  {'n_epochs': 45, 'lr_all': 0.0075, 'reg_all': 0.4, 'n_factors': 72},\n",
       "  {'n_epochs': 45, 'lr_all': 0.0075, 'reg_all': 0.5, 'n_factors': 72},\n",
       "  {'n_epochs': 45, 'lr_all': 0.01, 'reg_all': 0.4, 'n_factors': 72},\n",
       "  {'n_epochs': 45, 'lr_all': 0.01, 'reg_all': 0.5, 'n_factors': 72},\n",
       "  {'n_epochs': 45, 'lr_all': 0.0125, 'reg_all': 0.4, 'n_factors': 72},\n",
       "  {'n_epochs': 45, 'lr_all': 0.0125, 'reg_all': 0.5, 'n_factors': 72}],\n",
       " 'best_index': {'fcp': 6},\n",
       " 'best_params': {'fcp': {'n_epochs': 30,\n",
       "   'lr_all': 0.0075,\n",
       "   'reg_all': 0.4,\n",
       "   'n_factors': 72}},\n",
       " 'best_score': {'fcp': 0.6752534892438332},\n",
       " 'best_estimator': {'fcp': <surprise.prediction_algorithms.matrix_factorization.SVD at 0x19ac9c850>},\n",
       " 'cv_results': {'split0_test_fcp': array([0.67208512, 0.67277357, 0.67279984, 0.67386957, 0.67273496,\n",
       "         0.67340713, 0.67323896, 0.67264008, 0.67341226, 0.67371828,\n",
       "         0.67381468, 0.67255937, 0.67242658, 0.67306707, 0.67289339,\n",
       "         0.67368403, 0.67345511, 0.67235778, 0.6727188 , 0.67350871,\n",
       "         0.67304579, 0.67360695, 0.67410972, 0.67349372]),\n",
       "  'split1_test_fcp': array([0.6740112 , 0.67451666, 0.67359229, 0.67303315, 0.67363066,\n",
       "         0.67341992, 0.67498348, 0.67490489, 0.67480011, 0.67222193,\n",
       "         0.67235619, 0.67224085, 0.67522699, 0.67429422, 0.67493461,\n",
       "         0.67192137, 0.67260506, 0.67154814, 0.67406682, 0.67326827,\n",
       "         0.67416545, 0.67239876, 0.67199585, 0.67194655]),\n",
       "  'split2_test_fcp': array([0.66446547, 0.66293509, 0.66505276, 0.66554807, 0.66465482,\n",
       "         0.66511838, 0.66531574, 0.66400377, 0.66509187, 0.66546865,\n",
       "         0.66416533, 0.66484497, 0.6651201 , 0.66447458, 0.66475875,\n",
       "         0.66482452, 0.66352011, 0.66332153, 0.66496337, 0.66427916,\n",
       "         0.66411467, 0.66386046, 0.66408657, 0.66306752]),\n",
       "  'split3_test_fcp': array([0.68147666, 0.68092979, 0.68119461, 0.68227215, 0.68242259,\n",
       "         0.68137966, 0.68256927, 0.68243123, 0.68185415, 0.68182853,\n",
       "         0.68211908, 0.68132146, 0.6822926 , 0.68070695, 0.68068681,\n",
       "         0.68124837, 0.68158625, 0.68129579, 0.68144547, 0.68173593,\n",
       "         0.68103679, 0.68188289, 0.68100632, 0.6807101 ]),\n",
       "  'split4_test_fcp': array([0.66895186, 0.66912545, 0.66837605, 0.66791285, 0.66780899,\n",
       "         0.66605054, 0.66955921, 0.66841918, 0.6675348 , 0.66665483,\n",
       "         0.66651689, 0.6670127 , 0.66704019, 0.66686075, 0.66686701,\n",
       "         0.66737465, 0.66615443, 0.6657517 , 0.66777117, 0.66671565,\n",
       "         0.66696155, 0.66676367, 0.66650437, 0.665439  ]),\n",
       "  'split5_test_fcp': array([0.69039598, 0.69076099, 0.6900876 , 0.68999318, 0.68874177,\n",
       "         0.6885305 , 0.69124008, 0.69064578, 0.689336  , 0.68955196,\n",
       "         0.68781731, 0.68739464, 0.69003147, 0.69008801, 0.68858915,\n",
       "         0.6889558 , 0.68810666, 0.68679915, 0.69066579, 0.6897054 ,\n",
       "         0.68868286, 0.688668  , 0.687857  , 0.68625536]),\n",
       "  'split6_test_fcp': array([0.67424436, 0.67320317, 0.67239898, 0.6724792 , 0.6719009 ,\n",
       "         0.67208309, 0.6734441 , 0.67347924, 0.67170144, 0.67156539,\n",
       "         0.67213419, 0.67112863, 0.67244298, 0.6725554 , 0.67217707,\n",
       "         0.67131391, 0.67093319, 0.66986752, 0.67351526, 0.67171252,\n",
       "         0.67215963, 0.67186451, 0.67142672, 0.6691153 ]),\n",
       "  'split7_test_fcp': array([0.67050528, 0.67150291, 0.67024529, 0.67069857, 0.67048024,\n",
       "         0.66980858, 0.67103133, 0.67121002, 0.67056767, 0.6702296 ,\n",
       "         0.66920742, 0.66876122, 0.67076475, 0.67060708, 0.66896658,\n",
       "         0.66831074, 0.66775271, 0.66885656, 0.67001599, 0.67048567,\n",
       "         0.66912441, 0.66785143, 0.6674566 , 0.66911356]),\n",
       "  'split8_test_fcp': array([0.67835478, 0.67818338, 0.67850946, 0.67824216, 0.67827361,\n",
       "         0.67855889, 0.67920229, 0.67851172, 0.67879254, 0.67850127,\n",
       "         0.67838289, 0.67803739, 0.67791356, 0.67825621, 0.67880861,\n",
       "         0.67824852, 0.67844047, 0.67803423, 0.67779793, 0.67717997,\n",
       "         0.67853968, 0.67849462, 0.67838289, 0.67757391]),\n",
       "  'split9_test_fcp': array([0.66983361, 0.6705785 , 0.67135513, 0.6720987 , 0.67055518,\n",
       "         0.67055699, 0.67195045, 0.67163016, 0.67107311, 0.67086298,\n",
       "         0.67007207, 0.67116263, 0.66988484, 0.66923667, 0.67088227,\n",
       "         0.6715503 , 0.67037803, 0.66989465, 0.67007812, 0.66927946,\n",
       "         0.67085981, 0.67095339, 0.67123261, 0.67011993]),\n",
       "  'mean_test_fcp': array([0.67443243, 0.67445095, 0.6743612 , 0.67461476, 0.67412037,\n",
       "         0.67389137, 0.67525349, 0.67478761, 0.67441639, 0.67406034,\n",
       "         0.6736586 , 0.67344638, 0.67431441, 0.67401469, 0.67395643,\n",
       "         0.67374322, 0.6732932 , 0.6727727 , 0.67430387, 0.67378707,\n",
       "         0.67386906, 0.67363447, 0.67340586, 0.6726835 ]),\n",
       "  'std_test_fcp': array([0.00701079, 0.00714816, 0.00683044, 0.00681685, 0.00680028,\n",
       "         0.00679796, 0.00701434, 0.00713953, 0.00682558, 0.00695223,\n",
       "         0.00687179, 0.00654067, 0.00707956, 0.0070772 , 0.00676326,\n",
       "         0.006868  , 0.00711651, 0.00685141, 0.00707303, 0.00710185,\n",
       "         0.00686117, 0.00711123, 0.00687292, 0.00671368]),\n",
       "  'rank_test_fcp': array([20, 21, 18, 22, 15, 11, 24, 23, 19, 14,  7,  5, 17, 13, 12,  8,  3,\n",
       "          2, 16,  9, 10,  6,  4,  1]),\n",
       "  'mean_fit_time': array([14.95657563, 15.07192428, 18.02487426, 23.11343536, 22.54992661,\n",
       "         26.24706664, 37.38291831, 34.3284765 , 29.34562187, 30.86590159,\n",
       "         28.82550979, 27.41481977, 36.70689874, 37.94580047, 36.19266264,\n",
       "         36.92200482, 39.49938924, 34.41169546, 37.68011701, 39.00692854,\n",
       "         39.43498771, 35.99947319, 35.24377348, 32.77140954]),\n",
       "  'std_fit_time': array([0.15871126, 0.37388231, 1.9956027 , 1.49811607, 1.69553397,\n",
       "         0.28033237, 3.13666039, 1.02832993, 0.71405784, 1.31046809,\n",
       "         1.46901418, 0.39493146, 0.60488503, 2.26674729, 2.29884925,\n",
       "         1.7558431 , 2.31865494, 0.41861362, 0.20061656, 1.79053375,\n",
       "         2.46677892, 0.73976469, 0.42690759, 3.81886762]),\n",
       "  'mean_test_time': array([0.2867907 , 0.28135209, 0.44645171, 0.4075489 , 0.48308182,\n",
       "         0.52275095, 0.41504812, 0.47944291, 0.32563725, 0.37261746,\n",
       "         0.3086926 , 0.31669149, 0.30015171, 0.37872541, 0.29606051,\n",
       "         0.42147849, 0.3204777 , 0.28189862, 0.27609978, 0.32260628,\n",
       "         0.25842922, 0.27470124, 0.25688026, 0.19510043]),\n",
       "  'std_test_time': array([0.04416758, 0.02182074, 0.15471225, 0.04849315, 0.06537399,\n",
       "         0.07468503, 0.04894434, 0.0449887 , 0.02897733, 0.05258554,\n",
       "         0.02006283, 0.02253052, 0.01240841, 0.08918278, 0.01598283,\n",
       "         0.07789168, 0.06961937, 0.01339091, 0.01265601, 0.0905459 ,\n",
       "         0.01080542, 0.02685542, 0.01656884, 0.07698519]),\n",
       "  'params': [{'n_epochs': 20,\n",
       "    'lr_all': 0.0075,\n",
       "    'reg_all': 0.4,\n",
       "    'n_factors': 72},\n",
       "   {'n_epochs': 20, 'lr_all': 0.0075, 'reg_all': 0.5, 'n_factors': 72},\n",
       "   {'n_epochs': 20, 'lr_all': 0.01, 'reg_all': 0.4, 'n_factors': 72},\n",
       "   {'n_epochs': 20, 'lr_all': 0.01, 'reg_all': 0.5, 'n_factors': 72},\n",
       "   {'n_epochs': 20, 'lr_all': 0.0125, 'reg_all': 0.4, 'n_factors': 72},\n",
       "   {'n_epochs': 20, 'lr_all': 0.0125, 'reg_all': 0.5, 'n_factors': 72},\n",
       "   {'n_epochs': 30, 'lr_all': 0.0075, 'reg_all': 0.4, 'n_factors': 72},\n",
       "   {'n_epochs': 30, 'lr_all': 0.0075, 'reg_all': 0.5, 'n_factors': 72},\n",
       "   {'n_epochs': 30, 'lr_all': 0.01, 'reg_all': 0.4, 'n_factors': 72},\n",
       "   {'n_epochs': 30, 'lr_all': 0.01, 'reg_all': 0.5, 'n_factors': 72},\n",
       "   {'n_epochs': 30, 'lr_all': 0.0125, 'reg_all': 0.4, 'n_factors': 72},\n",
       "   {'n_epochs': 30, 'lr_all': 0.0125, 'reg_all': 0.5, 'n_factors': 72},\n",
       "   {'n_epochs': 40, 'lr_all': 0.0075, 'reg_all': 0.4, 'n_factors': 72},\n",
       "   {'n_epochs': 40, 'lr_all': 0.0075, 'reg_all': 0.5, 'n_factors': 72},\n",
       "   {'n_epochs': 40, 'lr_all': 0.01, 'reg_all': 0.4, 'n_factors': 72},\n",
       "   {'n_epochs': 40, 'lr_all': 0.01, 'reg_all': 0.5, 'n_factors': 72},\n",
       "   {'n_epochs': 40, 'lr_all': 0.0125, 'reg_all': 0.4, 'n_factors': 72},\n",
       "   {'n_epochs': 40, 'lr_all': 0.0125, 'reg_all': 0.5, 'n_factors': 72},\n",
       "   {'n_epochs': 45, 'lr_all': 0.0075, 'reg_all': 0.4, 'n_factors': 72},\n",
       "   {'n_epochs': 45, 'lr_all': 0.0075, 'reg_all': 0.5, 'n_factors': 72},\n",
       "   {'n_epochs': 45, 'lr_all': 0.01, 'reg_all': 0.4, 'n_factors': 72},\n",
       "   {'n_epochs': 45, 'lr_all': 0.01, 'reg_all': 0.5, 'n_factors': 72},\n",
       "   {'n_epochs': 45, 'lr_all': 0.0125, 'reg_all': 0.4, 'n_factors': 72},\n",
       "   {'n_epochs': 45, 'lr_all': 0.0125, 'reg_all': 0.5, 'n_factors': 72}],\n",
       "  'param_n_epochs': [20,\n",
       "   20,\n",
       "   20,\n",
       "   20,\n",
       "   20,\n",
       "   20,\n",
       "   30,\n",
       "   30,\n",
       "   30,\n",
       "   30,\n",
       "   30,\n",
       "   30,\n",
       "   40,\n",
       "   40,\n",
       "   40,\n",
       "   40,\n",
       "   40,\n",
       "   40,\n",
       "   45,\n",
       "   45,\n",
       "   45,\n",
       "   45,\n",
       "   45,\n",
       "   45],\n",
       "  'param_lr_all': [0.0075,\n",
       "   0.0075,\n",
       "   0.01,\n",
       "   0.01,\n",
       "   0.0125,\n",
       "   0.0125,\n",
       "   0.0075,\n",
       "   0.0075,\n",
       "   0.01,\n",
       "   0.01,\n",
       "   0.0125,\n",
       "   0.0125,\n",
       "   0.0075,\n",
       "   0.0075,\n",
       "   0.01,\n",
       "   0.01,\n",
       "   0.0125,\n",
       "   0.0125,\n",
       "   0.0075,\n",
       "   0.0075,\n",
       "   0.01,\n",
       "   0.01,\n",
       "   0.0125,\n",
       "   0.0125],\n",
       "  'param_reg_all': [0.4,\n",
       "   0.5,\n",
       "   0.4,\n",
       "   0.5,\n",
       "   0.4,\n",
       "   0.5,\n",
       "   0.4,\n",
       "   0.5,\n",
       "   0.4,\n",
       "   0.5,\n",
       "   0.4,\n",
       "   0.5,\n",
       "   0.4,\n",
       "   0.5,\n",
       "   0.4,\n",
       "   0.5,\n",
       "   0.4,\n",
       "   0.5,\n",
       "   0.4,\n",
       "   0.5,\n",
       "   0.4,\n",
       "   0.5,\n",
       "   0.4,\n",
       "   0.5],\n",
       "  'param_n_factors': [72,\n",
       "   72,\n",
       "   72,\n",
       "   72,\n",
       "   72,\n",
       "   72,\n",
       "   72,\n",
       "   72,\n",
       "   72,\n",
       "   72,\n",
       "   72,\n",
       "   72,\n",
       "   72,\n",
       "   72,\n",
       "   72,\n",
       "   72,\n",
       "   72,\n",
       "   72,\n",
       "   72,\n",
       "   72,\n",
       "   72,\n",
       "   72,\n",
       "   72,\n",
       "   72]}}"
      ]
     },
     "execution_count": 46,
     "metadata": {},
     "output_type": "execute_result"
    }
   ],
   "source": [
    "gs.__dict__"
   ]
  },
  {
   "cell_type": "code",
   "execution_count": 48,
   "id": "administrative-catalog",
   "metadata": {
    "ExecuteTime": {
     "end_time": "2021-03-04T09:58:02.009725Z",
     "start_time": "2021-03-04T09:50:49.818021Z"
    }
   },
   "outputs": [
    {
     "name": "stdout",
     "output_type": "stream",
     "text": [
      "0.6739008172476232\n",
      "{'n_epochs': 30, 'lr_all': 0.0075, 'reg_all': 0.4, 'n_factors': 30}\n"
     ]
    }
   ],
   "source": [
    "param_grid = {'n_epochs': [30], 'lr_all': [0.0075],\n",
    "              'reg_all': [0.4], 'n_factors' : [10, 20, 30, 40, 50, 75, 100, 125, 150, 175, 200]}\n",
    "\n",
    "gs = GridSearchCV(SVD, param_grid, measures=['fcp'], cv=10, n_jobs=-1)\n",
    "\n",
    "gs.fit(test.surprise_data)\n",
    "\n",
    "# best RMSE score\n",
    "print(gs.best_score['fcp'])\n",
    "# combination of parameters that gave the best RMSE score\n",
    "print(gs.best_params['fcp'])"
   ]
  },
  {
   "cell_type": "code",
   "execution_count": null,
   "id": "aware-receptor",
   "metadata": {
    "ExecuteTime": {
     "end_time": "2021-03-04T09:49:23.705484Z",
     "start_time": "2021-03-04T09:32:16.343Z"
    }
   },
   "outputs": [],
   "source": [
    "gs.__dict__"
   ]
  },
  {
   "cell_type": "code",
   "execution_count": null,
   "id": "supreme-dragon",
   "metadata": {
    "ExecuteTime": {
     "end_time": "2021-03-04T09:49:23.766231Z",
     "start_time": "2021-03-04T09:32:16.527Z"
    }
   },
   "outputs": [],
   "source": [
    "test_2 = CFMPredict('model-cfm.pickle')"
   ]
  },
  {
   "cell_type": "code",
   "execution_count": null,
   "id": "controlled-grade",
   "metadata": {
    "ExecuteTime": {
     "end_time": "2021-03-04T09:49:23.839422Z",
     "start_time": "2021-03-04T09:32:16.720Z"
    }
   },
   "outputs": [],
   "source": [
    "test_2.model"
   ]
  },
  {
   "cell_type": "code",
   "execution_count": null,
   "id": "incorrect-release",
   "metadata": {
    "ExecuteTime": {
     "end_time": "2021-03-04T09:49:23.897055Z",
     "start_time": "2021-03-04T09:32:16.915Z"
    }
   },
   "outputs": [],
   "source": [
    "test_2.model.ratings_df['user_id'].nunique()"
   ]
  },
  {
   "cell_type": "code",
   "execution_count": null,
   "id": "minute-programming",
   "metadata": {
    "ExecuteTime": {
     "end_time": "2021-03-04T09:49:23.950358Z",
     "start_time": "2021-03-04T09:32:17.099Z"
    }
   },
   "outputs": [],
   "source": [
    "test_2.model.ratings_df['game_id'].nunique()"
   ]
  },
  {
   "cell_type": "code",
   "execution_count": null,
   "id": "educational-astronomy",
   "metadata": {
    "ExecuteTime": {
     "end_time": "2021-03-04T09:49:24.016270Z",
     "start_time": "2021-03-04T09:32:17.292Z"
    }
   },
   "outputs": [],
   "source": [
    "test_2.get_game_id('Zelda')"
   ]
  },
  {
   "cell_type": "code",
   "execution_count": null,
   "id": "comprehensive-decline",
   "metadata": {
    "ExecuteTime": {
     "end_time": "2021-03-04T09:49:24.068850Z",
     "start_time": "2021-03-04T09:32:17.496Z"
    }
   },
   "outputs": [],
   "source": [
    "test_2.get_game_info(22511)"
   ]
  },
  {
   "cell_type": "code",
   "execution_count": null,
   "id": "drawn-stationery",
   "metadata": {
    "ExecuteTime": {
     "end_time": "2021-03-04T09:49:24.117136Z",
     "start_time": "2021-03-04T09:32:17.723Z"
    }
   },
   "outputs": [],
   "source": [
    "test_2.all_prediction_for_a_user(42)"
   ]
  },
  {
   "cell_type": "code",
   "execution_count": null,
   "id": "proved-apollo",
   "metadata": {
    "ExecuteTime": {
     "end_time": "2021-03-04T09:49:24.157272Z",
     "start_time": "2021-03-04T09:32:17.961Z"
    }
   },
   "outputs": [],
   "source": [
    "test_2.generate_recommendation(42, 3)"
   ]
  },
  {
   "cell_type": "code",
   "execution_count": null,
   "id": "offshore-netscape",
   "metadata": {
    "ExecuteTime": {
     "end_time": "2021-03-04T09:49:24.159260Z",
     "start_time": "2021-03-04T09:32:18.211Z"
    }
   },
   "outputs": [],
   "source": [
    "test_2.model.surprise_data.__dict__"
   ]
  },
  {
   "cell_type": "code",
   "execution_count": null,
   "id": "complimentary-bunch",
   "metadata": {
    "ExecuteTime": {
     "end_time": "2021-03-04T09:49:24.162174Z",
     "start_time": "2021-03-04T09:32:18.411Z"
    }
   },
   "outputs": [],
   "source": [
    "test_2.model.model.__dict__.keys()"
   ]
  },
  {
   "cell_type": "code",
   "execution_count": null,
   "id": "strange-marketplace",
   "metadata": {
    "ExecuteTime": {
     "end_time": "2021-03-04T09:49:24.290024Z",
     "start_time": "2021-03-04T09:32:18.607Z"
    }
   },
   "outputs": [],
   "source": [
    "test_2.model.model.__dict__"
   ]
  },
  {
   "cell_type": "code",
   "execution_count": null,
   "id": "serious-smooth",
   "metadata": {
    "ExecuteTime": {
     "end_time": "2021-03-04T09:49:24.340108Z",
     "start_time": "2021-03-04T09:32:18.818Z"
    }
   },
   "outputs": [],
   "source": [
    "test_2.model.model.bu.shape"
   ]
  },
  {
   "cell_type": "code",
   "execution_count": null,
   "id": "facial-precipitation",
   "metadata": {
    "ExecuteTime": {
     "end_time": "2021-03-04T09:49:24.384222Z",
     "start_time": "2021-03-04T09:32:19.025Z"
    }
   },
   "outputs": [],
   "source": [
    "test_2.model.model.qi.shape"
   ]
  },
  {
   "cell_type": "code",
   "execution_count": null,
   "id": "danish-hayes",
   "metadata": {
    "ExecuteTime": {
     "end_time": "2021-03-04T09:49:24.428767Z",
     "start_time": "2021-03-04T09:32:19.292Z"
    }
   },
   "outputs": [],
   "source": [
    "test_2.model.model.pu.shape"
   ]
  },
  {
   "cell_type": "code",
   "execution_count": null,
   "id": "satisfied-cosmetic",
   "metadata": {
    "ExecuteTime": {
     "end_time": "2021-03-04T09:49:24.473534Z",
     "start_time": "2021-03-04T09:32:19.481Z"
    }
   },
   "outputs": [],
   "source": [
    "test_2.model.model.bi.shape"
   ]
  },
  {
   "cell_type": "code",
   "execution_count": null,
   "id": "executed-memphis",
   "metadata": {
    "ExecuteTime": {
     "end_time": "2021-03-04T09:49:24.485063Z",
     "start_time": "2021-03-04T09:32:19.660Z"
    }
   },
   "outputs": [],
   "source": [
    "test_2.model.data['user_id'].nunique()"
   ]
  },
  {
   "cell_type": "code",
   "execution_count": null,
   "id": "continent-agriculture",
   "metadata": {
    "ExecuteTime": {
     "end_time": "2021-03-04T09:49:24.487497Z",
     "start_time": "2021-03-04T09:32:19.858Z"
    }
   },
   "outputs": [],
   "source": [
    "test_2.model.data['game_id'].nunique()"
   ]
  },
  {
   "cell_type": "code",
   "execution_count": null,
   "id": "committed-dutch",
   "metadata": {
    "ExecuteTime": {
     "end_time": "2021-03-04T09:49:24.507177Z",
     "start_time": "2021-03-04T09:32:20.030Z"
    },
    "scrolled": false
   },
   "outputs": [],
   "source": [
    "all_preds = test_2.generate_all_prediction()"
   ]
  },
  {
   "cell_type": "code",
   "execution_count": null,
   "id": "acceptable-mountain",
   "metadata": {
    "ExecuteTime": {
     "end_time": "2021-03-04T09:49:24.631773Z",
     "start_time": "2021-03-04T09:32:20.266Z"
    }
   },
   "outputs": [],
   "source": [
    "all_preds"
   ]
  },
  {
   "cell_type": "code",
   "execution_count": null,
   "id": "alike-break",
   "metadata": {
    "ExecuteTime": {
     "end_time": "2021-03-04T09:49:24.669349Z",
     "start_time": "2021-03-04T09:32:20.471Z"
    }
   },
   "outputs": [],
   "source": [
    "rating_pred_df = all_preds.pivot(index='iid', columns='uid', values='est')"
   ]
  },
  {
   "cell_type": "code",
   "execution_count": null,
   "id": "municipal-looking",
   "metadata": {
    "ExecuteTime": {
     "end_time": "2021-03-04T09:49:24.705821Z",
     "start_time": "2021-03-04T09:32:20.883Z"
    }
   },
   "outputs": [],
   "source": [
    "rating_pred_df"
   ]
  },
  {
   "cell_type": "code",
   "execution_count": null,
   "id": "adverse-director",
   "metadata": {
    "ExecuteTime": {
     "end_time": "2021-03-04T09:49:24.739882Z",
     "start_time": "2021-03-04T09:32:21.071Z"
    }
   },
   "outputs": [],
   "source": [
    "rating_df = test_2.model.ratings_df"
   ]
  },
  {
   "cell_type": "code",
   "execution_count": null,
   "id": "civil-deviation",
   "metadata": {
    "ExecuteTime": {
     "end_time": "2021-03-04T09:49:24.777975Z",
     "start_time": "2021-03-04T09:32:21.288Z"
    }
   },
   "outputs": [],
   "source": [
    "rating_df"
   ]
  },
  {
   "cell_type": "code",
   "execution_count": null,
   "id": "processed-berry",
   "metadata": {
    "ExecuteTime": {
     "end_time": "2021-03-04T09:49:24.816881Z",
     "start_time": "2021-03-04T09:32:21.488Z"
    }
   },
   "outputs": [],
   "source": [
    "rating_df.groupby(by=['user_id','game_id']).sum().value_counts().__dict__"
   ]
  },
  {
   "cell_type": "code",
   "execution_count": null,
   "id": "graphic-standing",
   "metadata": {
    "ExecuteTime": {
     "end_time": "2021-03-04T09:49:24.864266Z",
     "start_time": "2021-03-04T09:32:21.683Z"
    }
   },
   "outputs": [],
   "source": [
    "rating_df.groupby(by=['user_id','game_id']).sum().value_counts()"
   ]
  },
  {
   "cell_type": "code",
   "execution_count": null,
   "id": "exceptional-miracle",
   "metadata": {
    "ExecuteTime": {
     "end_time": "2021-03-04T09:49:24.911182Z",
     "start_time": "2021-03-04T09:32:21.875Z"
    }
   },
   "outputs": [],
   "source": [
    "rat_user_ = rating_df.pivot(index='game_id', columns='user_id', values='user_rating')\n",
    "rat_user_.fillna(np.nan)"
   ]
  },
  {
   "cell_type": "code",
   "execution_count": null,
   "id": "higher-variety",
   "metadata": {
    "ExecuteTime": {
     "end_time": "2021-03-04T09:49:24.961479Z",
     "start_time": "2021-03-04T09:32:22.057Z"
    }
   },
   "outputs": [],
   "source": [
    "dcg_score(rat_user_, rating_pred_df)"
   ]
  },
  {
   "cell_type": "code",
   "execution_count": null,
   "id": "significant-tobago",
   "metadata": {
    "ExecuteTime": {
     "end_time": "2021-03-04T09:49:25.013467Z",
     "start_time": "2021-03-04T09:32:22.260Z"
    }
   },
   "outputs": [],
   "source": [
    "def ndcg_at_k(x, k):\n",
    "    \n",
    "    if k == 0:\n",
    "        return .0\n",
    "    elif k < 0:\n",
    "        raise ValueError('k cannot be negative')\n",
    "            \n",
    "    # 1, 2, ..., k\n",
    "    i = np.arange(1, k + 1)\n",
    "    \n",
    "    # Discount factor\n",
    "    d = 1. / np.log2(i + 1)\n",
    "    \n",
    "    # Sorted for best possible scores\n",
    "    x_best = np.sort(x)[::-1]\n",
    "        \n",
    "    # Compute normalization constant\n",
    "    N = np.sum(d * x_best[:k])\n",
    "    n = np.sum(d * x[:k])\n",
    "    \n",
    "    return n / N"
   ]
  },
  {
   "cell_type": "code",
   "execution_count": null,
   "id": "reliable-minority",
   "metadata": {
    "ExecuteTime": {
     "end_time": "2021-03-04T09:49:25.065748Z",
     "start_time": "2021-03-04T09:32:22.740Z"
    }
   },
   "outputs": [],
   "source": [
    "ndcg_at_k(rat_user_, rating_pred_df)"
   ]
  },
  {
   "cell_type": "code",
   "execution_count": null,
   "id": "timely-jordan",
   "metadata": {
    "ExecuteTime": {
     "end_time": "2021-03-04T09:49:25.113320Z",
     "start_time": "2021-03-04T09:32:23.420Z"
    }
   },
   "outputs": [],
   "source": [
    "import matplotlib.pyplot as plt\n",
    "i = np.arange(1, 20)\n",
    "plt.title(\"Discounting Factor\")\n",
    "plt.ylim([0., 1.])\n",
    "plt.xticks(i)\n",
    "plt.ylabel('D(i)')\n",
    "plt.xlabel('Rank')\n",
    "plt.plot(i, (lambda x: 1. / np.log2(x + 1))(i), marker='o')\n",
    "plt.show()"
   ]
  },
  {
   "cell_type": "code",
   "execution_count": null,
   "id": "muslim-mileage",
   "metadata": {},
   "outputs": [],
   "source": []
  },
  {
   "cell_type": "code",
   "execution_count": null,
   "id": "sought-stable",
   "metadata": {},
   "outputs": [],
   "source": []
  }
 ],
 "metadata": {
  "kernelspec": {
   "display_name": "Python 3",
   "language": "python",
   "name": "python3"
  },
  "language_info": {
   "codemirror_mode": {
    "name": "ipython",
    "version": 3
   },
   "file_extension": ".py",
   "mimetype": "text/x-python",
   "name": "python",
   "nbconvert_exporter": "python",
   "pygments_lexer": "ipython3",
   "version": "3.8.6"
  },
  "toc": {
   "base_numbering": 1,
   "nav_menu": {},
   "number_sections": true,
   "sideBar": true,
   "skip_h1_title": false,
   "title_cell": "Table of Contents",
   "title_sidebar": "Contents",
   "toc_cell": false,
   "toc_position": {},
   "toc_section_display": true,
   "toc_window_display": false
  },
  "varInspector": {
   "cols": {
    "lenName": 16,
    "lenType": 16,
    "lenVar": 40
   },
   "kernels_config": {
    "python": {
     "delete_cmd_postfix": "",
     "delete_cmd_prefix": "del ",
     "library": "var_list.py",
     "varRefreshCmd": "print(var_dic_list())"
    },
    "r": {
     "delete_cmd_postfix": ") ",
     "delete_cmd_prefix": "rm(",
     "library": "var_list.r",
     "varRefreshCmd": "cat(var_dic_list()) "
    }
   },
   "position": {
    "height": "426.484px",
    "left": "1450.51px",
    "right": "20px",
    "top": "120px",
    "width": "329.492px"
   },
   "types_to_exclude": [
    "module",
    "function",
    "builtin_function_or_method",
    "instance",
    "_Feature"
   ],
   "window_display": false
  }
 },
 "nbformat": 4,
 "nbformat_minor": 5
}
