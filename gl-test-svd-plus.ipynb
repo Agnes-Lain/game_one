{
 "cells": [
  {
   "cell_type": "code",
   "execution_count": 8,
   "id": "ecological-gnome",
   "metadata": {
    "ExecuteTime": {
     "end_time": "2021-03-04T10:26:00.932590Z",
     "start_time": "2021-03-04T10:26:00.902496Z"
    }
   },
   "outputs": [
    {
     "name": "stdout",
     "output_type": "stream",
     "text": [
      "The autoreload extension is already loaded. To reload it, use:\n",
      "  %reload_ext autoreload\n"
     ]
    }
   ],
   "source": [
    "%load_ext autoreload\n",
    "%autoreload 2"
   ]
  },
  {
   "cell_type": "code",
   "execution_count": null,
   "id": "resident-longer",
   "metadata": {
    "ExecuteTime": {
     "start_time": "2021-03-04T10:26:01.432Z"
    }
   },
   "outputs": [
    {
     "name": "stderr",
     "output_type": "stream",
     "text": [
      "/Users/guillaume/code/Agnes-Lain/game_one/game_one/model_svd_plus_train.py:28: SettingWithCopyWarning: \n",
      "A value is trying to be set on a copy of a slice from a DataFrame.\n",
      "Try using .loc[row_indexer,col_indexer] = value instead\n",
      "\n",
      "See the caveats in the documentation: https://pandas.pydata.org/pandas-docs/stable/user_guide/indexing.html#returning-a-view-versus-a-copy\n",
      "  meta['dummies'] = 0\n"
     ]
    },
    {
     "name": "stdout",
     "output_type": "stream",
     "text": [
      " processing epoch 0\n",
      " processing epoch 1\n",
      " processing epoch 2\n",
      " processing epoch 3\n",
      " processing epoch 4\n",
      " processing epoch 5\n",
      " processing epoch 6\n",
      " processing epoch 7\n",
      " processing epoch 8\n",
      " processing epoch 9\n",
      " processing epoch 0\n",
      " processing epoch 1\n",
      " processing epoch 2\n",
      " processing epoch 3\n",
      " processing epoch 4\n",
      " processing epoch 5\n",
      " processing epoch 6\n",
      " processing epoch 7\n",
      " processing epoch 8\n",
      " processing epoch 9\n",
      " processing epoch 0\n",
      " processing epoch 1\n",
      " processing epoch 2\n",
      " processing epoch 3\n",
      " processing epoch 4\n",
      " processing epoch 5\n",
      " processing epoch 6\n",
      " processing epoch 7\n",
      " processing epoch 8\n",
      " processing epoch 9\n",
      " processing epoch 0\n",
      " processing epoch 1\n",
      " processing epoch 2\n"
     ]
    }
   ],
   "source": [
    "from game_one.model_svd_plus_train import SVDPPTrain\n",
    "test =  SVDPPTrain()\n",
    "SVDPPTrain.load_data(test)\n",
    "SVDPPTrain.get_ratings_and_meta(test)\n",
    "SVDPPTrain.get_surprise_data(test)\n",
    "SVDPPTrain.run_model(test)\n",
    "SVDPPTrain.validate_svd_model(test)"
   ]
  },
  {
   "cell_type": "code",
   "execution_count": null,
   "id": "dated-maximum",
   "metadata": {
    "ExecuteTime": {
     "end_time": "2021-03-04T09:45:35.841126Z",
     "start_time": "2021-03-04T09:33:28.776Z"
    }
   },
   "outputs": [],
   "source": [
    "SVDPPTrain.save_model(test)"
   ]
  },
  {
   "cell_type": "code",
   "execution_count": null,
   "id": "domestic-romania",
   "metadata": {
    "ExecuteTime": {
     "end_time": "2021-03-04T09:45:35.862871Z",
     "start_time": "2021-03-04T09:33:29.005Z"
    }
   },
   "outputs": [],
   "source": [
    "from game_one.model_svd_plus_predict import SVDPPPredict"
   ]
  },
  {
   "cell_type": "code",
   "execution_count": null,
   "id": "finished-pittsburgh",
   "metadata": {
    "ExecuteTime": {
     "end_time": "2021-03-04T09:45:35.879766Z",
     "start_time": "2021-03-04T09:33:29.211Z"
    }
   },
   "outputs": [],
   "source": [
    "test_2 = SVDPPPredict('model-svd-plus.pickle')"
   ]
  },
  {
   "cell_type": "code",
   "execution_count": null,
   "id": "million-understanding",
   "metadata": {
    "ExecuteTime": {
     "end_time": "2021-03-04T09:45:35.898704Z",
     "start_time": "2021-03-04T09:33:29.509Z"
    }
   },
   "outputs": [],
   "source": [
    "test_2.model"
   ]
  },
  {
   "cell_type": "code",
   "execution_count": null,
   "id": "greater-samoa",
   "metadata": {
    "ExecuteTime": {
     "end_time": "2021-03-04T09:45:35.905000Z",
     "start_time": "2021-03-04T09:33:29.627Z"
    }
   },
   "outputs": [],
   "source": [
    "test_2.get_game_id('Zelda')"
   ]
  },
  {
   "cell_type": "code",
   "execution_count": null,
   "id": "neural-pearl",
   "metadata": {
    "ExecuteTime": {
     "end_time": "2021-03-04T09:45:35.934591Z",
     "start_time": "2021-03-04T09:33:29.819Z"
    }
   },
   "outputs": [],
   "source": [
    "test_2.get_game_info(22511)"
   ]
  },
  {
   "cell_type": "code",
   "execution_count": null,
   "id": "political-legend",
   "metadata": {
    "ExecuteTime": {
     "end_time": "2021-03-04T09:45:35.951264Z",
     "start_time": "2021-03-04T09:33:30.019Z"
    }
   },
   "outputs": [],
   "source": [
    "test_2.all_prediction_for_a_user(42)"
   ]
  },
  {
   "cell_type": "code",
   "execution_count": null,
   "id": "adaptive-reward",
   "metadata": {
    "ExecuteTime": {
     "end_time": "2021-03-04T09:45:35.971059Z",
     "start_time": "2021-03-04T09:33:30.222Z"
    }
   },
   "outputs": [],
   "source": [
    "test_2.generate_recommendation(42, 3)"
   ]
  },
  {
   "cell_type": "code",
   "execution_count": null,
   "id": "monthly-puppy",
   "metadata": {},
   "outputs": [],
   "source": []
  },
  {
   "cell_type": "code",
   "execution_count": null,
   "id": "lesser-storm",
   "metadata": {},
   "outputs": [],
   "source": []
  }
 ],
 "metadata": {
  "kernelspec": {
   "display_name": "Python 3",
   "language": "python",
   "name": "python3"
  },
  "language_info": {
   "codemirror_mode": {
    "name": "ipython",
    "version": 3
   },
   "file_extension": ".py",
   "mimetype": "text/x-python",
   "name": "python",
   "nbconvert_exporter": "python",
   "pygments_lexer": "ipython3",
   "version": "3.8.6"
  },
  "toc": {
   "base_numbering": 1,
   "nav_menu": {},
   "number_sections": true,
   "sideBar": true,
   "skip_h1_title": false,
   "title_cell": "Table of Contents",
   "title_sidebar": "Contents",
   "toc_cell": false,
   "toc_position": {},
   "toc_section_display": true,
   "toc_window_display": false
  },
  "varInspector": {
   "cols": {
    "lenName": 16,
    "lenType": 16,
    "lenVar": 40
   },
   "kernels_config": {
    "python": {
     "delete_cmd_postfix": "",
     "delete_cmd_prefix": "del ",
     "library": "var_list.py",
     "varRefreshCmd": "print(var_dic_list())"
    },
    "r": {
     "delete_cmd_postfix": ") ",
     "delete_cmd_prefix": "rm(",
     "library": "var_list.r",
     "varRefreshCmd": "cat(var_dic_list()) "
    }
   },
   "types_to_exclude": [
    "module",
    "function",
    "builtin_function_or_method",
    "instance",
    "_Feature"
   ],
   "window_display": false
  }
 },
 "nbformat": 4,
 "nbformat_minor": 5
}
