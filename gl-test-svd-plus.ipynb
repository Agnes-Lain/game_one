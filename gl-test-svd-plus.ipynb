{
 "cells": [
  {
   "cell_type": "code",
   "execution_count": 1,
   "id": "confirmed-essex",
   "metadata": {
    "ExecuteTime": {
     "end_time": "2021-03-02T14:20:49.910915Z",
     "start_time": "2021-03-02T14:20:49.892122Z"
    }
   },
   "outputs": [],
   "source": [
    "%load_ext autoreload\n",
    "%autoreload 2"
   ]
  },
  {
   "cell_type": "code",
   "execution_count": 2,
   "id": "tropical-yorkshire",
   "metadata": {
    "ExecuteTime": {
     "end_time": "2021-03-02T14:25:09.596636Z",
     "start_time": "2021-03-02T14:20:49.913955Z"
    }
   },
   "outputs": [
    {
     "name": "stderr",
     "output_type": "stream",
     "text": [
      "/Users/guillaume/.pyenv/versions/3.8.6/envs/game_one_👾/lib/python3.8/site-packages/IPython/core/interactiveshell.py:3347: DtypeWarning: Columns (0) have mixed types.Specify dtype option on import or set low_memory=False.\n",
      "  if (await self.run_code(code, result,  async_=asy)):\n",
      "/Users/guillaume/code/Agnes-Lain/game_one/game_one/model_svd_plus_train.py:28: SettingWithCopyWarning: \n",
      "A value is trying to be set on a copy of a slice from a DataFrame.\n",
      "Try using .loc[row_indexer,col_indexer] = value instead\n",
      "\n",
      "See the caveats in the documentation: https://pandas.pydata.org/pandas-docs/stable/user_guide/indexing.html#returning-a-view-versus-a-copy\n",
      "  meta['dummies'] = 0\n"
     ]
    },
    {
     "name": "stdout",
     "output_type": "stream",
     "text": [
      " processing epoch 0\n",
      " processing epoch 1\n",
      " processing epoch 2\n",
      " processing epoch 3\n",
      " processing epoch 4\n",
      " processing epoch 5\n",
      " processing epoch 6\n",
      " processing epoch 7\n",
      " processing epoch 8\n",
      " processing epoch 9\n",
      " processing epoch 0\n",
      " processing epoch 1\n",
      " processing epoch 2\n",
      " processing epoch 3\n",
      " processing epoch 4\n",
      " processing epoch 5\n",
      " processing epoch 6\n",
      " processing epoch 7\n",
      " processing epoch 8\n",
      " processing epoch 9\n",
      " processing epoch 0\n",
      " processing epoch 1\n",
      " processing epoch 2\n",
      " processing epoch 3\n",
      " processing epoch 4\n",
      " processing epoch 5\n",
      " processing epoch 6\n",
      " processing epoch 7\n",
      " processing epoch 8\n",
      " processing epoch 9\n",
      " processing epoch 0\n",
      " processing epoch 1\n",
      " processing epoch 2\n",
      " processing epoch 3\n",
      " processing epoch 4\n",
      " processing epoch 5\n",
      " processing epoch 6\n",
      " processing epoch 7\n",
      " processing epoch 8\n",
      " processing epoch 9\n",
      " processing epoch 0\n",
      " processing epoch 1\n",
      " processing epoch 2\n",
      " processing epoch 3\n",
      " processing epoch 4\n",
      " processing epoch 5\n",
      " processing epoch 6\n",
      " processing epoch 7\n",
      " processing epoch 8\n",
      " processing epoch 9\n",
      " processing epoch 0\n",
      " processing epoch 1\n",
      " processing epoch 2\n",
      " processing epoch 3\n",
      " processing epoch 4\n",
      " processing epoch 5\n",
      " processing epoch 6\n",
      " processing epoch 7\n",
      " processing epoch 8\n",
      " processing epoch 9\n",
      "Evaluating RMSE, MAE of algorithm SVDpp on 5 split(s).\n",
      "\n",
      "                  Fold 1  Fold 2  Fold 3  Fold 4  Fold 5  Mean    Std     \n",
      "RMSE (testset)    0.9394  0.9536  0.9701  0.9597  0.9534  0.9553  0.0100  \n",
      "MAE (testset)     0.7087  0.7146  0.7210  0.7119  0.7119  0.7136  0.0041  \n",
      "Fit time          43.63   38.79   39.80   39.32   37.67   39.84   2.02    \n",
      "Test time         1.05    1.00    1.01    1.05    1.05    1.03    0.02    \n"
     ]
    }
   ],
   "source": [
    "from game_one.model_svd_plus_train import SVDPPTrain\n",
    "test =  SVDPPTrain()\n",
    "SVDPPTrain.load_data(test)\n",
    "SVDPPTrain.get_ratings_and_meta(test)\n",
    "SVDPPTrain.get_surprise_data(test)\n",
    "SVDPPTrain.run_model(test)\n",
    "SVDPPTrain.validate_svd_model(test)"
   ]
  },
  {
   "cell_type": "code",
   "execution_count": 3,
   "id": "legislative-blackjack",
   "metadata": {
    "ExecuteTime": {
     "end_time": "2021-03-02T14:25:09.731014Z",
     "start_time": "2021-03-02T14:25:09.599087Z"
    }
   },
   "outputs": [],
   "source": [
    "SVDPPTrain.save_model(test)"
   ]
  },
  {
   "cell_type": "code",
   "execution_count": 5,
   "id": "working-purse",
   "metadata": {
    "ExecuteTime": {
     "end_time": "2021-03-02T14:47:08.731592Z",
     "start_time": "2021-03-02T14:47:08.699007Z"
    }
   },
   "outputs": [
    {
     "ename": "ModuleNotFoundError",
     "evalue": "No module named 'game_one.model_svd_plus_predict'",
     "output_type": "error",
     "traceback": [
      "\u001b[0;31m---------------------------------------------------------------------------\u001b[0m",
      "\u001b[0;31mModuleNotFoundError\u001b[0m                       Traceback (most recent call last)",
      "\u001b[0;32m<ipython-input-5-6233f7e3e48d>\u001b[0m in \u001b[0;36m<module>\u001b[0;34m\u001b[0m\n\u001b[0;32m----> 1\u001b[0;31m \u001b[0;32mfrom\u001b[0m \u001b[0mgame_one\u001b[0m\u001b[0;34m.\u001b[0m\u001b[0mmodel_svd_plus_predict\u001b[0m \u001b[0;32mimport\u001b[0m \u001b[0mSVDPPPredict\u001b[0m\u001b[0;34m\u001b[0m\u001b[0;34m\u001b[0m\u001b[0m\n\u001b[0m",
      "\u001b[0;31mModuleNotFoundError\u001b[0m: No module named 'game_one.model_svd_plus_predict'"
     ]
    }
   ],
   "source": [
    "from game_one.model_svd_plus_predict import SVDPPPredict"
   ]
  },
  {
   "cell_type": "code",
   "execution_count": null,
   "id": "modular-soundtrack",
   "metadata": {
    "ExecuteTime": {
     "end_time": "2021-03-02T14:25:09.932252Z",
     "start_time": "2021-03-02T14:20:49.863Z"
    }
   },
   "outputs": [],
   "source": [
    "test_2 = SVDPPPredict('model-svd-plus.pickle')"
   ]
  },
  {
   "cell_type": "code",
   "execution_count": null,
   "id": "spatial-baseline",
   "metadata": {
    "ExecuteTime": {
     "end_time": "2021-03-02T14:25:09.934024Z",
     "start_time": "2021-03-02T14:20:49.865Z"
    }
   },
   "outputs": [],
   "source": [
    "test_2.model"
   ]
  },
  {
   "cell_type": "code",
   "execution_count": null,
   "id": "super-product",
   "metadata": {
    "ExecuteTime": {
     "end_time": "2021-03-02T14:25:09.935295Z",
     "start_time": "2021-03-02T14:20:49.868Z"
    }
   },
   "outputs": [],
   "source": [
    "test_2.get_game_id('Zelda')"
   ]
  },
  {
   "cell_type": "code",
   "execution_count": null,
   "id": "basic-death",
   "metadata": {
    "ExecuteTime": {
     "end_time": "2021-03-02T14:25:09.937150Z",
     "start_time": "2021-03-02T14:20:49.869Z"
    }
   },
   "outputs": [],
   "source": [
    "test_2.get_game_info(22511)"
   ]
  },
  {
   "cell_type": "code",
   "execution_count": null,
   "id": "incomplete-eligibility",
   "metadata": {
    "ExecuteTime": {
     "end_time": "2021-03-02T14:25:09.938939Z",
     "start_time": "2021-03-02T14:20:49.872Z"
    }
   },
   "outputs": [],
   "source": [
    "test_2.all_prediction_for_a_user(42)"
   ]
  },
  {
   "cell_type": "code",
   "execution_count": null,
   "id": "political-arthritis",
   "metadata": {
    "ExecuteTime": {
     "end_time": "2021-03-02T14:25:09.940651Z",
     "start_time": "2021-03-02T14:20:49.875Z"
    }
   },
   "outputs": [],
   "source": [
    "test_2.generate_recommendation(42, 3)"
   ]
  },
  {
   "cell_type": "code",
   "execution_count": null,
   "id": "raising-rehabilitation",
   "metadata": {},
   "outputs": [],
   "source": []
  }
 ],
 "metadata": {
  "kernelspec": {
   "display_name": "Python 3",
   "language": "python",
   "name": "python3"
  },
  "language_info": {
   "codemirror_mode": {
    "name": "ipython",
    "version": 3
   },
   "file_extension": ".py",
   "mimetype": "text/x-python",
   "name": "python",
   "nbconvert_exporter": "python",
   "pygments_lexer": "ipython3",
   "version": "3.8.6"
  },
  "toc": {
   "base_numbering": 1,
   "nav_menu": {},
   "number_sections": true,
   "sideBar": true,
   "skip_h1_title": false,
   "title_cell": "Table of Contents",
   "title_sidebar": "Contents",
   "toc_cell": false,
   "toc_position": {},
   "toc_section_display": true,
   "toc_window_display": false
  },
  "varInspector": {
   "cols": {
    "lenName": 16,
    "lenType": 16,
    "lenVar": 40
   },
   "kernels_config": {
    "python": {
     "delete_cmd_postfix": "",
     "delete_cmd_prefix": "del ",
     "library": "var_list.py",
     "varRefreshCmd": "print(var_dic_list())"
    },
    "r": {
     "delete_cmd_postfix": ") ",
     "delete_cmd_prefix": "rm(",
     "library": "var_list.r",
     "varRefreshCmd": "cat(var_dic_list()) "
    }
   },
   "types_to_exclude": [
    "module",
    "function",
    "builtin_function_or_method",
    "instance",
    "_Feature"
   ],
   "window_display": false
  }
 },
 "nbformat": 4,
 "nbformat_minor": 5
}
