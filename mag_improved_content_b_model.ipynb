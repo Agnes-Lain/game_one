{
 "cells": [
  {
   "cell_type": "code",
   "execution_count": 77,
   "id": "touched-organic",
   "metadata": {},
   "outputs": [],
   "source": [
    "from game_one.get_meta_matrix import GetMetadata\n",
    "from game_one.model_content_svd import ContentBasePred\n",
    "import pandas as pd"
   ]
  },
  {
   "cell_type": "code",
   "execution_count": 78,
   "id": "alternate-rings",
   "metadata": {},
   "outputs": [
    {
     "name": "stdout",
     "output_type": "stream",
     "text": [
      "The autoreload extension is already loaded. To reload it, use:\n",
      "  %reload_ext autoreload\n"
     ]
    }
   ],
   "source": [
    "%load_ext autoreload\n",
    "%autoreload 2"
   ]
  },
  {
   "cell_type": "code",
   "execution_count": 79,
   "id": "banner-folks",
   "metadata": {},
   "outputs": [],
   "source": [
    "COLUMNS = ['game_genres',\n",
    "           'game_tags',\n",
    "            'name',\n",
    "           'slug',\n",
    "           'developers',\n",
    "          'publishers']"
   ]
  },
  {
   "cell_type": "code",
   "execution_count": 80,
   "id": "convertible-backup",
   "metadata": {},
   "outputs": [
    {
     "name": "stdout",
     "output_type": "stream",
     "text": [
      "Initiate the GetMetaMatrix class and store as instance\n",
      "transfer given columns into a meta string for NPL use purpose after\n",
      "(17695,) games has been added the metadata\n"
     ]
    }
   ],
   "source": [
    "print ('Initiate the GetMetaMatrix class and store as instance')\n",
    "get_metadata = GetMetadata(COLUMNS)\n",
    "print('transfer given columns into a meta string for NPL use purpose after')\n",
    "metadata = get_metadata.create_metadata()\n",
    "print(f'{metadata.shape} games has been added the metadata')"
   ]
  },
  {
   "cell_type": "code",
   "execution_count": null,
   "id": "traditional-aruba",
   "metadata": {},
   "outputs": [],
   "source": []
  },
  {
   "cell_type": "code",
   "execution_count": 93,
   "id": "virtual-delivery",
   "metadata": {},
   "outputs": [],
   "source": [
    "content_base_pred = ContentBasePred()\n",
    "get_metadata = content_base_pred.get_metadata()\n",
    "content_base_pred.load_tf()"
   ]
  },
  {
   "cell_type": "code",
   "execution_count": 94,
   "id": "going-slovenia",
   "metadata": {},
   "outputs": [
    {
     "data": {
      "text/plain": [
       "(17695, 251)"
      ]
     },
     "execution_count": 94,
     "metadata": {},
     "output_type": "execute_result"
    }
   ],
   "source": [
    "content_base_pred.matrix_tf.shape"
   ]
  },
  {
   "cell_type": "code",
   "execution_count": 95,
   "id": "sharp-solution",
   "metadata": {},
   "outputs": [
    {
     "data": {
      "text/plain": [
       "0        casual  puzzle space  city  friends  fun  matc...\n",
       "1        casual  puzzle space  city  friends  fun  matc...\n",
       "2        strategy  indie  puzzle singleplayer  steam ac...\n",
       "3                                board games singleplayer \n",
       "4                                 adventure  strategy nan \n",
       "                               ...                        \n",
       "17690    action  casual  indie singleplayer  steam achi...\n",
       "17691    strategy  indie singleplayer  multiplayer  co ...\n",
       "17692    strategy  indie singleplayer  multiplayer  co ...\n",
       "17693    action  shooter  arcade battle  online  mod  e...\n",
       "17694                       nan exclusive  true exclusive \n",
       "Name: metadata, Length: 17695, dtype: object"
      ]
     },
     "execution_count": 95,
     "metadata": {},
     "output_type": "execute_result"
    }
   ],
   "source": [
    "content_base_pred.metadata"
   ]
  },
  {
   "cell_type": "code",
   "execution_count": 96,
   "id": "spectacular-heart",
   "metadata": {},
   "outputs": [],
   "source": [
    "df = pd.DataFrame(content_base_pred.metadata)"
   ]
  },
  {
   "cell_type": "code",
   "execution_count": 97,
   "id": "wired-track",
   "metadata": {},
   "outputs": [
    {
     "data": {
      "text/html": [
       "<div>\n",
       "<style scoped>\n",
       "    .dataframe tbody tr th:only-of-type {\n",
       "        vertical-align: middle;\n",
       "    }\n",
       "\n",
       "    .dataframe tbody tr th {\n",
       "        vertical-align: top;\n",
       "    }\n",
       "\n",
       "    .dataframe thead th {\n",
       "        text-align: right;\n",
       "    }\n",
       "</style>\n",
       "<table border=\"1\" class=\"dataframe\">\n",
       "  <thead>\n",
       "    <tr style=\"text-align: right;\">\n",
       "      <th></th>\n",
       "      <th>metadata</th>\n",
       "    </tr>\n",
       "  </thead>\n",
       "  <tbody>\n",
       "    <tr>\n",
       "      <th>0</th>\n",
       "      <td>casual  puzzle space  city  friends  fun  matc...</td>\n",
       "    </tr>\n",
       "    <tr>\n",
       "      <th>1</th>\n",
       "      <td>casual  puzzle space  city  friends  fun  matc...</td>\n",
       "    </tr>\n",
       "    <tr>\n",
       "      <th>2</th>\n",
       "      <td>strategy  indie  puzzle singleplayer  steam ac...</td>\n",
       "    </tr>\n",
       "    <tr>\n",
       "      <th>3</th>\n",
       "      <td>board games singleplayer</td>\n",
       "    </tr>\n",
       "    <tr>\n",
       "      <th>4</th>\n",
       "      <td>adventure  strategy nan</td>\n",
       "    </tr>\n",
       "    <tr>\n",
       "      <th>...</th>\n",
       "      <td>...</td>\n",
       "    </tr>\n",
       "    <tr>\n",
       "      <th>17690</th>\n",
       "      <td>action  casual  indie singleplayer  steam achi...</td>\n",
       "    </tr>\n",
       "    <tr>\n",
       "      <th>17691</th>\n",
       "      <td>strategy  indie singleplayer  multiplayer  co ...</td>\n",
       "    </tr>\n",
       "    <tr>\n",
       "      <th>17692</th>\n",
       "      <td>strategy  indie singleplayer  multiplayer  co ...</td>\n",
       "    </tr>\n",
       "    <tr>\n",
       "      <th>17693</th>\n",
       "      <td>action  shooter  arcade battle  online  mod  e...</td>\n",
       "    </tr>\n",
       "    <tr>\n",
       "      <th>17694</th>\n",
       "      <td>nan exclusive  true exclusive</td>\n",
       "    </tr>\n",
       "  </tbody>\n",
       "</table>\n",
       "<p>17695 rows × 1 columns</p>\n",
       "</div>"
      ],
      "text/plain": [
       "                                                metadata\n",
       "0      casual  puzzle space  city  friends  fun  matc...\n",
       "1      casual  puzzle space  city  friends  fun  matc...\n",
       "2      strategy  indie  puzzle singleplayer  steam ac...\n",
       "3                              board games singleplayer \n",
       "4                               adventure  strategy nan \n",
       "...                                                  ...\n",
       "17690  action  casual  indie singleplayer  steam achi...\n",
       "17691  strategy  indie singleplayer  multiplayer  co ...\n",
       "17692  strategy  indie singleplayer  multiplayer  co ...\n",
       "17693  action  shooter  arcade battle  online  mod  e...\n",
       "17694                     nan exclusive  true exclusive \n",
       "\n",
       "[17695 rows x 1 columns]"
      ]
     },
     "execution_count": 97,
     "metadata": {},
     "output_type": "execute_result"
    }
   ],
   "source": [
    "df"
   ]
  },
  {
   "cell_type": "code",
   "execution_count": 98,
   "id": "vanilla-monitor",
   "metadata": {},
   "outputs": [],
   "source": [
    "content_base_pred.svd_train()"
   ]
  },
  {
   "cell_type": "code",
   "execution_count": 99,
   "id": "infrared-brunswick",
   "metadata": {},
   "outputs": [],
   "source": [
    "games = content_base_pred.games"
   ]
  },
  {
   "cell_type": "code",
   "execution_count": 100,
   "id": "responsible-pilot",
   "metadata": {},
   "outputs": [],
   "source": [
    "ldf = content_base_pred.latent_df"
   ]
  },
  {
   "cell_type": "code",
   "execution_count": 101,
   "id": "incoming-smile",
   "metadata": {},
   "outputs": [],
   "source": [
    "import numpy as np"
   ]
  },
  {
   "cell_type": "code",
   "execution_count": 102,
   "id": "israeli-share",
   "metadata": {},
   "outputs": [],
   "source": [
    "from sklearn.metrics.pairwise import cosine_similarity"
   ]
  },
  {
   "cell_type": "markdown",
   "id": "random-liberal",
   "metadata": {},
   "source": [
    "326229 = FIFA 20\n",
    "1249 = fifa 17\n",
    "27976 = MArio kart 8"
   ]
  },
  {
   "cell_type": "code",
   "execution_count": 111,
   "id": "lasting-patch",
   "metadata": {},
   "outputs": [],
   "source": [
    "game_id = 326229\n",
    "v1 = np.array(ldf.loc[game_id]).reshape(1, -1)\n",
    "sim1 = cosine_similarity(ldf, v1).reshape(-1)\n",
    "dictDf = {'content': sim1}\n",
    "reco_df = pd.DataFrame(dictDf, index = games.name)\n",
    "x = reco_df.sort_values('content', ascending=False, inplace=False)[1:22]\n",
    "y = x.reset_index()"
   ]
  },
  {
   "cell_type": "code",
   "execution_count": 112,
   "id": "square-procurement",
   "metadata": {},
   "outputs": [
    {
     "data": {
      "text/html": [
       "<div>\n",
       "<style scoped>\n",
       "    .dataframe tbody tr th:only-of-type {\n",
       "        vertical-align: middle;\n",
       "    }\n",
       "\n",
       "    .dataframe tbody tr th {\n",
       "        vertical-align: top;\n",
       "    }\n",
       "\n",
       "    .dataframe thead th {\n",
       "        text-align: right;\n",
       "    }\n",
       "</style>\n",
       "<table border=\"1\" class=\"dataframe\">\n",
       "  <thead>\n",
       "    <tr style=\"text-align: right;\">\n",
       "      <th></th>\n",
       "      <th>name</th>\n",
       "      <th>content</th>\n",
       "    </tr>\n",
       "  </thead>\n",
       "  <tbody>\n",
       "    <tr>\n",
       "      <th>0</th>\n",
       "      <td>Pro Gamer Manager 2</td>\n",
       "      <td>0.656931</td>\n",
       "    </tr>\n",
       "    <tr>\n",
       "      <th>1</th>\n",
       "      <td>PES2008</td>\n",
       "      <td>0.644149</td>\n",
       "    </tr>\n",
       "    <tr>\n",
       "      <th>2</th>\n",
       "      <td>NHL 12</td>\n",
       "      <td>0.644149</td>\n",
       "    </tr>\n",
       "    <tr>\n",
       "      <th>3</th>\n",
       "      <td>FIFA 11</td>\n",
       "      <td>0.644149</td>\n",
       "    </tr>\n",
       "    <tr>\n",
       "      <th>4</th>\n",
       "      <td>FIFA 10</td>\n",
       "      <td>0.644149</td>\n",
       "    </tr>\n",
       "    <tr>\n",
       "      <th>5</th>\n",
       "      <td>Virtua Tennis 2009</td>\n",
       "      <td>0.644149</td>\n",
       "    </tr>\n",
       "    <tr>\n",
       "      <th>6</th>\n",
       "      <td>Pro Evolution Soccer 2012</td>\n",
       "      <td>0.644149</td>\n",
       "    </tr>\n",
       "    <tr>\n",
       "      <th>7</th>\n",
       "      <td>NBA 2K12</td>\n",
       "      <td>0.644149</td>\n",
       "    </tr>\n",
       "    <tr>\n",
       "      <th>8</th>\n",
       "      <td>NFL Tour</td>\n",
       "      <td>0.644149</td>\n",
       "    </tr>\n",
       "    <tr>\n",
       "      <th>9</th>\n",
       "      <td>skate.</td>\n",
       "      <td>0.644149</td>\n",
       "    </tr>\n",
       "    <tr>\n",
       "      <th>10</th>\n",
       "      <td>Cabela's Big Game Hunter Trophy Bucks</td>\n",
       "      <td>0.617522</td>\n",
       "    </tr>\n",
       "    <tr>\n",
       "      <th>11</th>\n",
       "      <td>Championship Manager 2007</td>\n",
       "      <td>0.617522</td>\n",
       "    </tr>\n",
       "    <tr>\n",
       "      <th>12</th>\n",
       "      <td>Premier Manager: Ninety Nine</td>\n",
       "      <td>0.617522</td>\n",
       "    </tr>\n",
       "    <tr>\n",
       "      <th>13</th>\n",
       "      <td>FIFA 17</td>\n",
       "      <td>0.574498</td>\n",
       "    </tr>\n",
       "    <tr>\n",
       "      <th>14</th>\n",
       "      <td>Vancouver 2010 - The Official Video Game of th...</td>\n",
       "      <td>0.539410</td>\n",
       "    </tr>\n",
       "    <tr>\n",
       "      <th>15</th>\n",
       "      <td>Martial Arts: Capoeira</td>\n",
       "      <td>0.539410</td>\n",
       "    </tr>\n",
       "    <tr>\n",
       "      <th>16</th>\n",
       "      <td>2002 FIFA World Cup</td>\n",
       "      <td>0.539410</td>\n",
       "    </tr>\n",
       "    <tr>\n",
       "      <th>17</th>\n",
       "      <td>Surf World Series</td>\n",
       "      <td>0.539410</td>\n",
       "    </tr>\n",
       "    <tr>\n",
       "      <th>18</th>\n",
       "      <td>FIFA 2000</td>\n",
       "      <td>0.539410</td>\n",
       "    </tr>\n",
       "    <tr>\n",
       "      <th>19</th>\n",
       "      <td>FIFA Street</td>\n",
       "      <td>0.539410</td>\n",
       "    </tr>\n",
       "    <tr>\n",
       "      <th>20</th>\n",
       "      <td>Tony Hawk's Pro Skater</td>\n",
       "      <td>0.539410</td>\n",
       "    </tr>\n",
       "  </tbody>\n",
       "</table>\n",
       "</div>"
      ],
      "text/plain": [
       "                                                 name   content\n",
       "0                                 Pro Gamer Manager 2  0.656931\n",
       "1                                             PES2008  0.644149\n",
       "2                                              NHL 12  0.644149\n",
       "3                                             FIFA 11  0.644149\n",
       "4                                             FIFA 10  0.644149\n",
       "5                                  Virtua Tennis 2009  0.644149\n",
       "6                           Pro Evolution Soccer 2012  0.644149\n",
       "7                                            NBA 2K12  0.644149\n",
       "8                                            NFL Tour  0.644149\n",
       "9                                              skate.  0.644149\n",
       "10              Cabela's Big Game Hunter Trophy Bucks  0.617522\n",
       "11                          Championship Manager 2007  0.617522\n",
       "12                       Premier Manager: Ninety Nine  0.617522\n",
       "13                                            FIFA 17  0.574498\n",
       "14  Vancouver 2010 - The Official Video Game of th...  0.539410\n",
       "15                             Martial Arts: Capoeira  0.539410\n",
       "16                                2002 FIFA World Cup  0.539410\n",
       "17                                  Surf World Series  0.539410\n",
       "18                                          FIFA 2000  0.539410\n",
       "19                                        FIFA Street  0.539410\n",
       "20                             Tony Hawk's Pro Skater  0.539410"
      ]
     },
     "execution_count": 112,
     "metadata": {},
     "output_type": "execute_result"
    }
   ],
   "source": [
    "y"
   ]
  }
 ],
 "metadata": {
  "kernelspec": {
   "display_name": "Python 3",
   "language": "python",
   "name": "python3"
  },
  "language_info": {
   "codemirror_mode": {
    "name": "ipython",
    "version": 3
   },
   "file_extension": ".py",
   "mimetype": "text/x-python",
   "name": "python",
   "nbconvert_exporter": "python",
   "pygments_lexer": "ipython3",
   "version": "3.8.6"
  }
 },
 "nbformat": 4,
 "nbformat_minor": 5
}
