{
 "cells": [
  {
   "cell_type": "code",
   "execution_count": 9,
   "id": "touched-organic",
   "metadata": {},
   "outputs": [],
   "source": [
    "from game_one.get_meta_matrix import GetMetadata, COLUMNS\n",
    "from game_one.model_content_svd import ContentBasePred"
   ]
  },
  {
   "cell_type": "code",
   "execution_count": 8,
   "id": "convertible-backup",
   "metadata": {},
   "outputs": [
    {
     "name": "stdout",
     "output_type": "stream",
     "text": [
      "Initiate the GetMetaMatrix class and store as instance\n",
      "transfer given columns into a meta string for NPL use purpose after\n",
      "(17695,) games has been added the metadata\n"
     ]
    }
   ],
   "source": [
    "print ('Initiate the GetMetaMatrix class and store as instance')\n",
    "get_metadata = GetMetadata(COLUMNS)\n",
    "print('transfer given columns into a meta string for NPL use purpose after')\n",
    "metadata = get_metadata.create_metadata()\n",
    "print(f'{metadata.shape} games has been added the metadata')"
   ]
  },
  {
   "cell_type": "code",
   "execution_count": 16,
   "id": "virtual-delivery",
   "metadata": {},
   "outputs": [],
   "source": [
    "content_base_pred = ContentBasePred()\n",
    "get_metadata = content_base_pred.get_metadata()\n",
    "content_base_pred.load_tf()\n"
   ]
  },
  {
   "cell_type": "code",
   "execution_count": 19,
   "id": "sharp-solution",
   "metadata": {},
   "outputs": [
    {
     "data": {
      "text/plain": [
       "0        high rise a puzzle cityscape high rise is a in...\n",
       "1        high rise a puzzle cityscape high rise is a in...\n",
       "2        twinfold  p twinfold delves into the duplicity...\n",
       "3        pocket run pool  p the return of arcade pool f...\n",
       "4        cinco paus tens cinco varinhas mágicas mas não...\n",
       "                               ...                        \n",
       "17690    gocco of war enter the studio  and join a make...\n",
       "17691    conquest of elysium 4 conquest of elysium 4 is...\n",
       "17692    dominions 5 warriors of the faith you are a go...\n",
       "17693    red faction battlegrounds the signature destru...\n",
       "17694    super stardust ultra the fate of the galaxy is...\n",
       "Name: metadata, Length: 17695, dtype: object"
      ]
     },
     "execution_count": 19,
     "metadata": {},
     "output_type": "execute_result"
    }
   ],
   "source": [
    "content_base_pred.metadata"
   ]
  },
  {
   "cell_type": "code",
   "execution_count": 20,
   "id": "spectacular-heart",
   "metadata": {},
   "outputs": [],
   "source": [
    "df = pd.DataFrame(content_base_pred.metadata)"
   ]
  },
  {
   "cell_type": "code",
   "execution_count": 21,
   "id": "wired-track",
   "metadata": {},
   "outputs": [
    {
     "data": {
      "text/html": [
       "<div>\n",
       "<style scoped>\n",
       "    .dataframe tbody tr th:only-of-type {\n",
       "        vertical-align: middle;\n",
       "    }\n",
       "\n",
       "    .dataframe tbody tr th {\n",
       "        vertical-align: top;\n",
       "    }\n",
       "\n",
       "    .dataframe thead th {\n",
       "        text-align: right;\n",
       "    }\n",
       "</style>\n",
       "<table border=\"1\" class=\"dataframe\">\n",
       "  <thead>\n",
       "    <tr style=\"text-align: right;\">\n",
       "      <th></th>\n",
       "      <th>metadata</th>\n",
       "    </tr>\n",
       "  </thead>\n",
       "  <tbody>\n",
       "    <tr>\n",
       "      <th>0</th>\n",
       "      <td>high rise a puzzle cityscape high rise is a in...</td>\n",
       "    </tr>\n",
       "    <tr>\n",
       "      <th>1</th>\n",
       "      <td>high rise a puzzle cityscape high rise is a in...</td>\n",
       "    </tr>\n",
       "    <tr>\n",
       "      <th>2</th>\n",
       "      <td>twinfold  p twinfold delves into the duplicity...</td>\n",
       "    </tr>\n",
       "    <tr>\n",
       "      <th>3</th>\n",
       "      <td>pocket run pool  p the return of arcade pool f...</td>\n",
       "    </tr>\n",
       "    <tr>\n",
       "      <th>4</th>\n",
       "      <td>cinco paus tens cinco varinhas mágicas mas não...</td>\n",
       "    </tr>\n",
       "    <tr>\n",
       "      <th>...</th>\n",
       "      <td>...</td>\n",
       "    </tr>\n",
       "    <tr>\n",
       "      <th>17690</th>\n",
       "      <td>gocco of war enter the studio  and join a make...</td>\n",
       "    </tr>\n",
       "    <tr>\n",
       "      <th>17691</th>\n",
       "      <td>conquest of elysium 4 conquest of elysium 4 is...</td>\n",
       "    </tr>\n",
       "    <tr>\n",
       "      <th>17692</th>\n",
       "      <td>dominions 5 warriors of the faith you are a go...</td>\n",
       "    </tr>\n",
       "    <tr>\n",
       "      <th>17693</th>\n",
       "      <td>red faction battlegrounds the signature destru...</td>\n",
       "    </tr>\n",
       "    <tr>\n",
       "      <th>17694</th>\n",
       "      <td>super stardust ultra the fate of the galaxy is...</td>\n",
       "    </tr>\n",
       "  </tbody>\n",
       "</table>\n",
       "<p>17695 rows × 1 columns</p>\n",
       "</div>"
      ],
      "text/plain": [
       "                                                metadata\n",
       "0      high rise a puzzle cityscape high rise is a in...\n",
       "1      high rise a puzzle cityscape high rise is a in...\n",
       "2      twinfold  p twinfold delves into the duplicity...\n",
       "3      pocket run pool  p the return of arcade pool f...\n",
       "4      cinco paus tens cinco varinhas mágicas mas não...\n",
       "...                                                  ...\n",
       "17690  gocco of war enter the studio  and join a make...\n",
       "17691  conquest of elysium 4 conquest of elysium 4 is...\n",
       "17692  dominions 5 warriors of the faith you are a go...\n",
       "17693  red faction battlegrounds the signature destru...\n",
       "17694  super stardust ultra the fate of the galaxy is...\n",
       "\n",
       "[17695 rows x 1 columns]"
      ]
     },
     "execution_count": 21,
     "metadata": {},
     "output_type": "execute_result"
    }
   ],
   "source": [
    "df"
   ]
  },
  {
   "cell_type": "code",
   "execution_count": null,
   "id": "vanilla-monitor",
   "metadata": {},
   "outputs": [],
   "source": []
  }
 ],
 "metadata": {
  "kernelspec": {
   "display_name": "Python 3",
   "language": "python",
   "name": "python3"
  },
  "language_info": {
   "codemirror_mode": {
    "name": "ipython",
    "version": 3
   },
   "file_extension": ".py",
   "mimetype": "text/x-python",
   "name": "python",
   "nbconvert_exporter": "python",
   "pygments_lexer": "ipython3",
   "version": "3.8.6"
  }
 },
 "nbformat": 4,
 "nbformat_minor": 5
}
