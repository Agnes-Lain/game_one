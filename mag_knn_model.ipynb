{
 "cells": [
  {
   "cell_type": "code",
   "execution_count": 1,
   "id": "flying-extension",
   "metadata": {},
   "outputs": [],
   "source": [
    "import pandas as pd\n",
    "import difflib\n",
    "import matplotlib.pyplot as plt\n",
    "import seaborn as sns"
   ]
  },
  {
   "cell_type": "code",
   "execution_count": 2,
   "id": "functioning-composite",
   "metadata": {},
   "outputs": [],
   "source": [
    "def load_data():\n",
    "    user_game_df = pd.read_csv(\"raw_data/rawg_user_games.csv\")\n",
    "    return user_game_df"
   ]
  },
  {
   "cell_type": "code",
   "execution_count": 3,
   "id": "curious-startup",
   "metadata": {},
   "outputs": [],
   "source": [
    "def get_ratings(df):\n",
    "    filter_df = df[df['user_rating']>0]\n",
    "    ratings_df = filter_df[['user_id','game_id','user_rating']]\n",
    "    return ratings_df"
   ]
  },
  {
   "cell_type": "code",
   "execution_count": 4,
   "id": "descending-bride",
   "metadata": {
    "scrolled": true
   },
   "outputs": [],
   "source": [
    "data = load_data()\n",
    "rating_df = get_ratings(data)"
   ]
  },
  {
   "cell_type": "code",
   "execution_count": 5,
   "id": "recent-individual",
   "metadata": {
    "scrolled": true
   },
   "outputs": [
    {
     "data": {
      "text/html": [
       "<div>\n",
       "<style scoped>\n",
       "    .dataframe tbody tr th:only-of-type {\n",
       "        vertical-align: middle;\n",
       "    }\n",
       "\n",
       "    .dataframe tbody tr th {\n",
       "        vertical-align: top;\n",
       "    }\n",
       "\n",
       "    .dataframe thead th {\n",
       "        text-align: right;\n",
       "    }\n",
       "</style>\n",
       "<table border=\"1\" class=\"dataframe\">\n",
       "  <thead>\n",
       "    <tr style=\"text-align: right;\">\n",
       "      <th></th>\n",
       "      <th>user_id</th>\n",
       "      <th>game_id</th>\n",
       "      <th>user_rating</th>\n",
       "    </tr>\n",
       "  </thead>\n",
       "  <tbody>\n",
       "    <tr>\n",
       "      <th>0</th>\n",
       "      <td>rasha1</td>\n",
       "      <td>366889</td>\n",
       "      <td>1</td>\n",
       "    </tr>\n",
       "    <tr>\n",
       "      <th>1</th>\n",
       "      <td>rasha1</td>\n",
       "      <td>33</td>\n",
       "      <td>4</td>\n",
       "    </tr>\n",
       "    <tr>\n",
       "      <th>3</th>\n",
       "      <td>rasha1</td>\n",
       "      <td>3727</td>\n",
       "      <td>4</td>\n",
       "    </tr>\n",
       "    <tr>\n",
       "      <th>4</th>\n",
       "      <td>rasha1</td>\n",
       "      <td>58084</td>\n",
       "      <td>3</td>\n",
       "    </tr>\n",
       "    <tr>\n",
       "      <th>5</th>\n",
       "      <td>rasha1</td>\n",
       "      <td>10533</td>\n",
       "      <td>4</td>\n",
       "    </tr>\n",
       "    <tr>\n",
       "      <th>...</th>\n",
       "      <td>...</td>\n",
       "      <td>...</td>\n",
       "      <td>...</td>\n",
       "    </tr>\n",
       "    <tr>\n",
       "      <th>104809</th>\n",
       "      <td>Guigsan</td>\n",
       "      <td>857</td>\n",
       "      <td>4</td>\n",
       "    </tr>\n",
       "    <tr>\n",
       "      <th>104810</th>\n",
       "      <td>Guigsan</td>\n",
       "      <td>58616</td>\n",
       "      <td>4</td>\n",
       "    </tr>\n",
       "    <tr>\n",
       "      <th>104811</th>\n",
       "      <td>Guigsan</td>\n",
       "      <td>28153</td>\n",
       "      <td>5</td>\n",
       "    </tr>\n",
       "    <tr>\n",
       "      <th>104812</th>\n",
       "      <td>Guigsan</td>\n",
       "      <td>4166</td>\n",
       "      <td>5</td>\n",
       "    </tr>\n",
       "    <tr>\n",
       "      <th>104813</th>\n",
       "      <td>Guigsan</td>\n",
       "      <td>4806</td>\n",
       "      <td>3</td>\n",
       "    </tr>\n",
       "  </tbody>\n",
       "</table>\n",
       "<p>104813 rows × 3 columns</p>\n",
       "</div>"
      ],
      "text/plain": [
       "        user_id  game_id  user_rating\n",
       "0        rasha1   366889            1\n",
       "1        rasha1       33            4\n",
       "3        rasha1     3727            4\n",
       "4        rasha1    58084            3\n",
       "5        rasha1    10533            4\n",
       "...         ...      ...          ...\n",
       "104809  Guigsan      857            4\n",
       "104810  Guigsan    58616            4\n",
       "104811  Guigsan    28153            5\n",
       "104812  Guigsan     4166            5\n",
       "104813  Guigsan     4806            3\n",
       "\n",
       "[104813 rows x 3 columns]"
      ]
     },
     "execution_count": 5,
     "metadata": {},
     "output_type": "execute_result"
    }
   ],
   "source": [
    "rating_df"
   ]
  },
  {
   "cell_type": "code",
   "execution_count": 7,
   "id": "facial-homework",
   "metadata": {},
   "outputs": [
    {
     "data": {
      "text/html": [
       "<div>\n",
       "<style scoped>\n",
       "    .dataframe tbody tr th:only-of-type {\n",
       "        vertical-align: middle;\n",
       "    }\n",
       "\n",
       "    .dataframe tbody tr th {\n",
       "        vertical-align: top;\n",
       "    }\n",
       "\n",
       "    .dataframe thead th {\n",
       "        text-align: right;\n",
       "    }\n",
       "</style>\n",
       "<table border=\"1\" class=\"dataframe\">\n",
       "  <thead>\n",
       "    <tr style=\"text-align: right;\">\n",
       "      <th></th>\n",
       "      <th>user_id</th>\n",
       "      <th>game_id</th>\n",
       "      <th>user_rating</th>\n",
       "    </tr>\n",
       "  </thead>\n",
       "  <tbody>\n",
       "    <tr>\n",
       "      <th>0</th>\n",
       "      <td>rasha1</td>\n",
       "      <td>366889</td>\n",
       "      <td>1</td>\n",
       "    </tr>\n",
       "    <tr>\n",
       "      <th>7552</th>\n",
       "      <td>609</td>\n",
       "      <td>366889</td>\n",
       "      <td>4</td>\n",
       "    </tr>\n",
       "    <tr>\n",
       "      <th>17263</th>\n",
       "      <td>1372</td>\n",
       "      <td>366889</td>\n",
       "      <td>5</td>\n",
       "    </tr>\n",
       "    <tr>\n",
       "      <th>32165</th>\n",
       "      <td>2709</td>\n",
       "      <td>366889</td>\n",
       "      <td>4</td>\n",
       "    </tr>\n",
       "    <tr>\n",
       "      <th>38540</th>\n",
       "      <td>3214</td>\n",
       "      <td>366889</td>\n",
       "      <td>4</td>\n",
       "    </tr>\n",
       "    <tr>\n",
       "      <th>42691</th>\n",
       "      <td>3499</td>\n",
       "      <td>366889</td>\n",
       "      <td>5</td>\n",
       "    </tr>\n",
       "  </tbody>\n",
       "</table>\n",
       "</div>"
      ],
      "text/plain": [
       "      user_id  game_id  user_rating\n",
       "0      rasha1   366889            1\n",
       "7552      609   366889            4\n",
       "17263    1372   366889            5\n",
       "32165    2709   366889            4\n",
       "38540    3214   366889            4\n",
       "42691    3499   366889            5"
      ]
     },
     "execution_count": 7,
     "metadata": {},
     "output_type": "execute_result"
    }
   ],
   "source": [
    "rating_df[rating_df['game_id'] == 366889]"
   ]
  },
  {
   "cell_type": "code",
   "execution_count": 8,
   "id": "adopted-geology",
   "metadata": {
    "scrolled": true
   },
   "outputs": [
    {
     "data": {
      "text/html": [
       "<div>\n",
       "<style scoped>\n",
       "    .dataframe tbody tr th:only-of-type {\n",
       "        vertical-align: middle;\n",
       "    }\n",
       "\n",
       "    .dataframe tbody tr th {\n",
       "        vertical-align: top;\n",
       "    }\n",
       "\n",
       "    .dataframe thead th {\n",
       "        text-align: right;\n",
       "    }\n",
       "</style>\n",
       "<table border=\"1\" class=\"dataframe\">\n",
       "  <thead>\n",
       "    <tr style=\"text-align: right;\">\n",
       "      <th></th>\n",
       "      <th>user_id</th>\n",
       "      <th>game_id</th>\n",
       "      <th>user_rating</th>\n",
       "    </tr>\n",
       "  </thead>\n",
       "  <tbody>\n",
       "    <tr>\n",
       "      <th>0</th>\n",
       "      <td>rasha1</td>\n",
       "      <td>366889</td>\n",
       "      <td>1</td>\n",
       "    </tr>\n",
       "    <tr>\n",
       "      <th>1</th>\n",
       "      <td>rasha1</td>\n",
       "      <td>33</td>\n",
       "      <td>4</td>\n",
       "    </tr>\n",
       "    <tr>\n",
       "      <th>3</th>\n",
       "      <td>rasha1</td>\n",
       "      <td>3727</td>\n",
       "      <td>4</td>\n",
       "    </tr>\n",
       "    <tr>\n",
       "      <th>4</th>\n",
       "      <td>rasha1</td>\n",
       "      <td>58084</td>\n",
       "      <td>3</td>\n",
       "    </tr>\n",
       "    <tr>\n",
       "      <th>5</th>\n",
       "      <td>rasha1</td>\n",
       "      <td>10533</td>\n",
       "      <td>4</td>\n",
       "    </tr>\n",
       "    <tr>\n",
       "      <th>6</th>\n",
       "      <td>rasha1</td>\n",
       "      <td>3387</td>\n",
       "      <td>5</td>\n",
       "    </tr>\n",
       "    <tr>\n",
       "      <th>7</th>\n",
       "      <td>rasha1</td>\n",
       "      <td>2551</td>\n",
       "      <td>5</td>\n",
       "    </tr>\n",
       "    <tr>\n",
       "      <th>8</th>\n",
       "      <td>rasha1</td>\n",
       "      <td>11973</td>\n",
       "      <td>5</td>\n",
       "    </tr>\n",
       "    <tr>\n",
       "      <th>9</th>\n",
       "      <td>rasha1</td>\n",
       "      <td>3070</td>\n",
       "      <td>4</td>\n",
       "    </tr>\n",
       "    <tr>\n",
       "      <th>10</th>\n",
       "      <td>rasha1</td>\n",
       "      <td>802</td>\n",
       "      <td>4</td>\n",
       "    </tr>\n",
       "    <tr>\n",
       "      <th>11</th>\n",
       "      <td>rasha1</td>\n",
       "      <td>5679</td>\n",
       "      <td>4</td>\n",
       "    </tr>\n",
       "    <tr>\n",
       "      <th>12</th>\n",
       "      <td>rasha1</td>\n",
       "      <td>3328</td>\n",
       "      <td>5</td>\n",
       "    </tr>\n",
       "    <tr>\n",
       "      <th>13</th>\n",
       "      <td>1</td>\n",
       "      <td>446900</td>\n",
       "      <td>4</td>\n",
       "    </tr>\n",
       "    <tr>\n",
       "      <th>14</th>\n",
       "      <td>1</td>\n",
       "      <td>264830</td>\n",
       "      <td>5</td>\n",
       "    </tr>\n",
       "    <tr>\n",
       "      <th>15</th>\n",
       "      <td>1</td>\n",
       "      <td>58443</td>\n",
       "      <td>4</td>\n",
       "    </tr>\n",
       "    <tr>\n",
       "      <th>16</th>\n",
       "      <td>1</td>\n",
       "      <td>21889</td>\n",
       "      <td>4</td>\n",
       "    </tr>\n",
       "    <tr>\n",
       "      <th>17</th>\n",
       "      <td>1</td>\n",
       "      <td>326668</td>\n",
       "      <td>5</td>\n",
       "    </tr>\n",
       "    <tr>\n",
       "      <th>18</th>\n",
       "      <td>1</td>\n",
       "      <td>262668</td>\n",
       "      <td>4</td>\n",
       "    </tr>\n",
       "    <tr>\n",
       "      <th>19</th>\n",
       "      <td>1</td>\n",
       "      <td>59052</td>\n",
       "      <td>4</td>\n",
       "    </tr>\n",
       "    <tr>\n",
       "      <th>20</th>\n",
       "      <td>1</td>\n",
       "      <td>58156</td>\n",
       "      <td>3</td>\n",
       "    </tr>\n",
       "  </tbody>\n",
       "</table>\n",
       "</div>"
      ],
      "text/plain": [
       "   user_id  game_id  user_rating\n",
       "0   rasha1   366889            1\n",
       "1   rasha1       33            4\n",
       "3   rasha1     3727            4\n",
       "4   rasha1    58084            3\n",
       "5   rasha1    10533            4\n",
       "6   rasha1     3387            5\n",
       "7   rasha1     2551            5\n",
       "8   rasha1    11973            5\n",
       "9   rasha1     3070            4\n",
       "10  rasha1      802            4\n",
       "11  rasha1     5679            4\n",
       "12  rasha1     3328            5\n",
       "13       1   446900            4\n",
       "14       1   264830            5\n",
       "15       1    58443            4\n",
       "16       1    21889            4\n",
       "17       1   326668            5\n",
       "18       1   262668            4\n",
       "19       1    59052            4\n",
       "20       1    58156            3"
      ]
     },
     "execution_count": 8,
     "metadata": {},
     "output_type": "execute_result"
    }
   ],
   "source": [
    "rating_df.head(20)"
   ]
  },
  {
   "cell_type": "code",
   "execution_count": 92,
   "id": "experienced-teach",
   "metadata": {
    "scrolled": false
   },
   "outputs": [
    {
     "data": {
      "text/plain": [
       "(19, 3)"
      ]
     },
     "execution_count": 92,
     "metadata": {},
     "output_type": "execute_result"
    }
   ],
   "source": [
    "aa = rating_df[rating_df['user_id'] == '24']\n",
    "aa.shape"
   ]
  },
  {
   "cell_type": "code",
   "execution_count": 89,
   "id": "divine-guitar",
   "metadata": {},
   "outputs": [
    {
     "data": {
      "text/html": [
       "<div>\n",
       "<style scoped>\n",
       "    .dataframe tbody tr th:only-of-type {\n",
       "        vertical-align: middle;\n",
       "    }\n",
       "\n",
       "    .dataframe tbody tr th {\n",
       "        vertical-align: top;\n",
       "    }\n",
       "\n",
       "    .dataframe thead th {\n",
       "        text-align: right;\n",
       "    }\n",
       "</style>\n",
       "<table border=\"1\" class=\"dataframe\">\n",
       "  <thead>\n",
       "    <tr style=\"text-align: right;\">\n",
       "      <th></th>\n",
       "      <th>game_id</th>\n",
       "      <th>user_rating</th>\n",
       "    </tr>\n",
       "  </thead>\n",
       "  <tbody>\n",
       "    <tr>\n",
       "      <th>0</th>\n",
       "      <td>366889</td>\n",
       "      <td>1</td>\n",
       "    </tr>\n",
       "    <tr>\n",
       "      <th>1</th>\n",
       "      <td>33</td>\n",
       "      <td>4</td>\n",
       "    </tr>\n",
       "    <tr>\n",
       "      <th>3</th>\n",
       "      <td>3727</td>\n",
       "      <td>4</td>\n",
       "    </tr>\n",
       "    <tr>\n",
       "      <th>4</th>\n",
       "      <td>58084</td>\n",
       "      <td>3</td>\n",
       "    </tr>\n",
       "    <tr>\n",
       "      <th>5</th>\n",
       "      <td>10533</td>\n",
       "      <td>4</td>\n",
       "    </tr>\n",
       "    <tr>\n",
       "      <th>6</th>\n",
       "      <td>3387</td>\n",
       "      <td>5</td>\n",
       "    </tr>\n",
       "    <tr>\n",
       "      <th>7</th>\n",
       "      <td>2551</td>\n",
       "      <td>5</td>\n",
       "    </tr>\n",
       "    <tr>\n",
       "      <th>8</th>\n",
       "      <td>11973</td>\n",
       "      <td>5</td>\n",
       "    </tr>\n",
       "    <tr>\n",
       "      <th>9</th>\n",
       "      <td>3070</td>\n",
       "      <td>4</td>\n",
       "    </tr>\n",
       "    <tr>\n",
       "      <th>10</th>\n",
       "      <td>802</td>\n",
       "      <td>4</td>\n",
       "    </tr>\n",
       "    <tr>\n",
       "      <th>11</th>\n",
       "      <td>5679</td>\n",
       "      <td>4</td>\n",
       "    </tr>\n",
       "    <tr>\n",
       "      <th>12</th>\n",
       "      <td>3328</td>\n",
       "      <td>5</td>\n",
       "    </tr>\n",
       "  </tbody>\n",
       "</table>\n",
       "</div>"
      ],
      "text/plain": [
       "    game_id  user_rating\n",
       "0    366889            1\n",
       "1        33            4\n",
       "3      3727            4\n",
       "4     58084            3\n",
       "5     10533            4\n",
       "6      3387            5\n",
       "7      2551            5\n",
       "8     11973            5\n",
       "9      3070            4\n",
       "10      802            4\n",
       "11     5679            4\n",
       "12     3328            5"
      ]
     },
     "execution_count": 89,
     "metadata": {},
     "output_type": "execute_result"
    }
   ],
   "source": [
    "aa = aa[['game_id', 'user_rating']]\n",
    "aa"
   ]
  },
  {
   "cell_type": "code",
   "execution_count": 90,
   "id": "ranking-tooth",
   "metadata": {},
   "outputs": [
    {
     "data": {
      "text/plain": [
       "[{'game_id': 366889, 'user_rating': 1},\n",
       " {'game_id': 33, 'user_rating': 4},\n",
       " {'game_id': 3727, 'user_rating': 4},\n",
       " {'game_id': 58084, 'user_rating': 3},\n",
       " {'game_id': 10533, 'user_rating': 4},\n",
       " {'game_id': 3387, 'user_rating': 5},\n",
       " {'game_id': 2551, 'user_rating': 5},\n",
       " {'game_id': 11973, 'user_rating': 5},\n",
       " {'game_id': 3070, 'user_rating': 4},\n",
       " {'game_id': 802, 'user_rating': 4},\n",
       " {'game_id': 5679, 'user_rating': 4},\n",
       " {'game_id': 3328, 'user_rating': 5}]"
      ]
     },
     "execution_count": 90,
     "metadata": {},
     "output_type": "execute_result"
    }
   ],
   "source": [
    "aa_dict = aa.to_dict(\"records\")\n",
    "aa_dict"
   ]
  },
  {
   "cell_type": "code",
   "execution_count": 14,
   "id": "extended-thesis",
   "metadata": {},
   "outputs": [],
   "source": [
    "def transform_df(df):\n",
    "    game_matrix_df = df.pivot(index = 'user_id', columns ='game_id', values = 'user_rating').fillna(0)\n",
    "    return game_matrix_df"
   ]
  },
  {
   "cell_type": "code",
   "execution_count": 15,
   "id": "patient-husband",
   "metadata": {
    "scrolled": true
   },
   "outputs": [],
   "source": [
    "rating_matrix = transform_df(rating_df)"
   ]
  },
  {
   "cell_type": "code",
   "execution_count": 86,
   "id": "aggressive-bangkok",
   "metadata": {
    "scrolled": true
   },
   "outputs": [
    {
     "data": {
      "text/plain": [
       "(2245, 10406)"
      ]
     },
     "execution_count": 86,
     "metadata": {},
     "output_type": "execute_result"
    }
   ],
   "source": [
    "rating_matrix.shape"
   ]
  },
  {
   "cell_type": "code",
   "execution_count": 17,
   "id": "surgical-satisfaction",
   "metadata": {},
   "outputs": [],
   "source": [
    "u_id = rating_matrix.index"
   ]
  },
  {
   "cell_type": "code",
   "execution_count": 28,
   "id": "desirable-apparatus",
   "metadata": {},
   "outputs": [
    {
     "data": {
      "text/plain": [
       "(2245,)"
      ]
     },
     "execution_count": 28,
     "metadata": {},
     "output_type": "execute_result"
    }
   ],
   "source": [
    "u_id.shape"
   ]
  },
  {
   "cell_type": "code",
   "execution_count": 19,
   "id": "loose-format",
   "metadata": {
    "scrolled": true
   },
   "outputs": [
    {
     "data": {
      "text/plain": [
       "(2245, 10406)"
      ]
     },
     "execution_count": 19,
     "metadata": {},
     "output_type": "execute_result"
    }
   ],
   "source": [
    "rating_matrix.shape"
   ]
  },
  {
   "cell_type": "code",
   "execution_count": 20,
   "id": "portuguese-edgar",
   "metadata": {},
   "outputs": [],
   "source": [
    "game_id_matrix = rating_matrix.columns"
   ]
  },
  {
   "cell_type": "code",
   "execution_count": 27,
   "id": "divided-jamaica",
   "metadata": {},
   "outputs": [
    {
     "data": {
      "text/plain": [
       "(10406,)"
      ]
     },
     "execution_count": 27,
     "metadata": {},
     "output_type": "execute_result"
    }
   ],
   "source": [
    "game_id_matrix.shape"
   ]
  },
  {
   "cell_type": "code",
   "execution_count": 25,
   "id": "forbidden-lease",
   "metadata": {},
   "outputs": [
    {
     "data": {
      "text/plain": [
       "array([0., 0., 0., ..., 0., 0., 0.])"
      ]
     },
     "execution_count": 25,
     "metadata": {},
     "output_type": "execute_result"
    }
   ],
   "source": [
    "real_sample = rating_matrix.iloc[0].values\n",
    "real_sample"
   ]
  },
  {
   "cell_type": "code",
   "execution_count": 29,
   "id": "russian-peoples",
   "metadata": {},
   "outputs": [],
   "source": [
    "new_user = [\n",
    "    { \n",
    "        \"game_id\": 26,\n",
    "        \"user_rating\": 4 \n",
    "    },\n",
    "    { \n",
    "        \"game_id\": 28,\n",
    "        \"user_rating\": 5 \n",
    "    },\n",
    "    { \n",
    "        \"game_id\": 256,\n",
    "        \"user_rating\": 0 \n",
    "    }\n",
    "    ]"
   ]
  },
  {
   "cell_type": "code",
   "execution_count": 31,
   "id": "reverse-wheat",
   "metadata": {},
   "outputs": [],
   "source": [
    "X_matrix = pd.DataFrame(game_id_matrix)"
   ]
  },
  {
   "cell_type": "code",
   "execution_count": 32,
   "id": "czech-chicago",
   "metadata": {},
   "outputs": [
    {
     "data": {
      "text/plain": [
       "(10406, 1)"
      ]
     },
     "execution_count": 32,
     "metadata": {},
     "output_type": "execute_result"
    }
   ],
   "source": [
    "X_matrix.shape"
   ]
  },
  {
   "cell_type": "code",
   "execution_count": 33,
   "id": "about-delta",
   "metadata": {},
   "outputs": [
    {
     "data": {
      "text/html": [
       "<div>\n",
       "<style scoped>\n",
       "    .dataframe tbody tr th:only-of-type {\n",
       "        vertical-align: middle;\n",
       "    }\n",
       "\n",
       "    .dataframe tbody tr th {\n",
       "        vertical-align: top;\n",
       "    }\n",
       "\n",
       "    .dataframe thead th {\n",
       "        text-align: right;\n",
       "    }\n",
       "</style>\n",
       "<table border=\"1\" class=\"dataframe\">\n",
       "  <thead>\n",
       "    <tr style=\"text-align: right;\">\n",
       "      <th></th>\n",
       "      <th>game_id</th>\n",
       "    </tr>\n",
       "  </thead>\n",
       "  <tbody>\n",
       "    <tr>\n",
       "      <th>0</th>\n",
       "      <td>2</td>\n",
       "    </tr>\n",
       "    <tr>\n",
       "      <th>1</th>\n",
       "      <td>7</td>\n",
       "    </tr>\n",
       "    <tr>\n",
       "      <th>2</th>\n",
       "      <td>12</td>\n",
       "    </tr>\n",
       "    <tr>\n",
       "      <th>3</th>\n",
       "      <td>14</td>\n",
       "    </tr>\n",
       "    <tr>\n",
       "      <th>4</th>\n",
       "      <td>15</td>\n",
       "    </tr>\n",
       "    <tr>\n",
       "      <th>...</th>\n",
       "      <td>...</td>\n",
       "    </tr>\n",
       "    <tr>\n",
       "      <th>10401</th>\n",
       "      <td>522978</td>\n",
       "    </tr>\n",
       "    <tr>\n",
       "      <th>10402</th>\n",
       "      <td>527389</td>\n",
       "    </tr>\n",
       "    <tr>\n",
       "      <th>10403</th>\n",
       "      <td>537744</td>\n",
       "    </tr>\n",
       "    <tr>\n",
       "      <th>10404</th>\n",
       "      <td>544024</td>\n",
       "    </tr>\n",
       "    <tr>\n",
       "      <th>10405</th>\n",
       "      <td>548148</td>\n",
       "    </tr>\n",
       "  </tbody>\n",
       "</table>\n",
       "<p>10406 rows × 1 columns</p>\n",
       "</div>"
      ],
      "text/plain": [
       "       game_id\n",
       "0            2\n",
       "1            7\n",
       "2           12\n",
       "3           14\n",
       "4           15\n",
       "...        ...\n",
       "10401   522978\n",
       "10402   527389\n",
       "10403   537744\n",
       "10404   544024\n",
       "10405   548148\n",
       "\n",
       "[10406 rows x 1 columns]"
      ]
     },
     "execution_count": 33,
     "metadata": {},
     "output_type": "execute_result"
    }
   ],
   "source": [
    "X_matrix"
   ]
  },
  {
   "cell_type": "code",
   "execution_count": 34,
   "id": "southwest-qualification",
   "metadata": {
    "scrolled": true
   },
   "outputs": [],
   "source": [
    "X_matrix['ratings'] = 0"
   ]
  },
  {
   "cell_type": "code",
   "execution_count": 35,
   "id": "spanish-edgar",
   "metadata": {},
   "outputs": [],
   "source": [
    "X_matrix = X_matrix.set_index('game_id')"
   ]
  },
  {
   "cell_type": "code",
   "execution_count": 36,
   "id": "backed-football",
   "metadata": {},
   "outputs": [
    {
     "data": {
      "text/plain": [
       "(10406, 1)"
      ]
     },
     "execution_count": 36,
     "metadata": {},
     "output_type": "execute_result"
    }
   ],
   "source": [
    "X_matrix.shape"
   ]
  },
  {
   "cell_type": "code",
   "execution_count": 40,
   "id": "veterinary-sleeve",
   "metadata": {},
   "outputs": [
    {
     "data": {
      "text/html": [
       "<div>\n",
       "<style scoped>\n",
       "    .dataframe tbody tr th:only-of-type {\n",
       "        vertical-align: middle;\n",
       "    }\n",
       "\n",
       "    .dataframe tbody tr th {\n",
       "        vertical-align: top;\n",
       "    }\n",
       "\n",
       "    .dataframe thead th {\n",
       "        text-align: right;\n",
       "    }\n",
       "</style>\n",
       "<table border=\"1\" class=\"dataframe\">\n",
       "  <thead>\n",
       "    <tr style=\"text-align: right;\">\n",
       "      <th></th>\n",
       "      <th>ratings</th>\n",
       "    </tr>\n",
       "    <tr>\n",
       "      <th>game_id</th>\n",
       "      <th></th>\n",
       "    </tr>\n",
       "  </thead>\n",
       "  <tbody>\n",
       "    <tr>\n",
       "      <th>2</th>\n",
       "      <td>0</td>\n",
       "    </tr>\n",
       "    <tr>\n",
       "      <th>7</th>\n",
       "      <td>0</td>\n",
       "    </tr>\n",
       "    <tr>\n",
       "      <th>12</th>\n",
       "      <td>0</td>\n",
       "    </tr>\n",
       "    <tr>\n",
       "      <th>14</th>\n",
       "      <td>0</td>\n",
       "    </tr>\n",
       "    <tr>\n",
       "      <th>15</th>\n",
       "      <td>0</td>\n",
       "    </tr>\n",
       "    <tr>\n",
       "      <th>...</th>\n",
       "      <td>...</td>\n",
       "    </tr>\n",
       "    <tr>\n",
       "      <th>522978</th>\n",
       "      <td>0</td>\n",
       "    </tr>\n",
       "    <tr>\n",
       "      <th>527389</th>\n",
       "      <td>0</td>\n",
       "    </tr>\n",
       "    <tr>\n",
       "      <th>537744</th>\n",
       "      <td>0</td>\n",
       "    </tr>\n",
       "    <tr>\n",
       "      <th>544024</th>\n",
       "      <td>0</td>\n",
       "    </tr>\n",
       "    <tr>\n",
       "      <th>548148</th>\n",
       "      <td>0</td>\n",
       "    </tr>\n",
       "  </tbody>\n",
       "</table>\n",
       "<p>10406 rows × 1 columns</p>\n",
       "</div>"
      ],
      "text/plain": [
       "         ratings\n",
       "game_id         \n",
       "2              0\n",
       "7              0\n",
       "12             0\n",
       "14             0\n",
       "15             0\n",
       "...          ...\n",
       "522978         0\n",
       "527389         0\n",
       "537744         0\n",
       "544024         0\n",
       "548148         0\n",
       "\n",
       "[10406 rows x 1 columns]"
      ]
     },
     "execution_count": 40,
     "metadata": {},
     "output_type": "execute_result"
    }
   ],
   "source": [
    "X_matrix"
   ]
  },
  {
   "cell_type": "code",
   "execution_count": 37,
   "id": "nonprofit-young",
   "metadata": {},
   "outputs": [
    {
     "data": {
      "text/plain": [
       "False"
      ]
     },
     "execution_count": 37,
     "metadata": {},
     "output_type": "execute_result"
    }
   ],
   "source": [
    "256 in X_matrix.index"
   ]
  },
  {
   "cell_type": "code",
   "execution_count": 38,
   "id": "hydraulic-sleep",
   "metadata": {},
   "outputs": [
    {
     "data": {
      "text/plain": [
       "4"
      ]
     },
     "execution_count": 38,
     "metadata": {},
     "output_type": "execute_result"
    }
   ],
   "source": [
    "new_user[0][\"user_rating\"]"
   ]
  },
  {
   "cell_type": "code",
   "execution_count": 39,
   "id": "animal-difficulty",
   "metadata": {},
   "outputs": [
    {
     "data": {
      "text/plain": [
       "[{'game_id': 26, 'user_rating': 4},\n",
       " {'game_id': 28, 'user_rating': 5},\n",
       " {'game_id': 256, 'user_rating': 0}]"
      ]
     },
     "execution_count": 39,
     "metadata": {},
     "output_type": "execute_result"
    }
   ],
   "source": [
    "new_user"
   ]
  },
  {
   "cell_type": "code",
   "execution_count": 41,
   "id": "consistent-consideration",
   "metadata": {},
   "outputs": [],
   "source": [
    "for game in aa_dict:\n",
    "    game_id = game[\"game_id\"]\n",
    "    ratings = game[\"user_rating\"]\n",
    "    if game_id in X_matrix.index:\n",
    "        X_matrix.loc[game_id,'ratings'] = ratings"
   ]
  },
  {
   "cell_type": "code",
   "execution_count": 43,
   "id": "exotic-partnership",
   "metadata": {
    "scrolled": true
   },
   "outputs": [
    {
     "data": {
      "text/html": [
       "<div>\n",
       "<style scoped>\n",
       "    .dataframe tbody tr th:only-of-type {\n",
       "        vertical-align: middle;\n",
       "    }\n",
       "\n",
       "    .dataframe tbody tr th {\n",
       "        vertical-align: top;\n",
       "    }\n",
       "\n",
       "    .dataframe thead th {\n",
       "        text-align: right;\n",
       "    }\n",
       "</style>\n",
       "<table border=\"1\" class=\"dataframe\">\n",
       "  <thead>\n",
       "    <tr style=\"text-align: right;\">\n",
       "      <th></th>\n",
       "      <th>ratings</th>\n",
       "    </tr>\n",
       "    <tr>\n",
       "      <th>game_id</th>\n",
       "      <th></th>\n",
       "    </tr>\n",
       "  </thead>\n",
       "  <tbody>\n",
       "    <tr>\n",
       "      <th>284</th>\n",
       "      <td>5</td>\n",
       "    </tr>\n",
       "  </tbody>\n",
       "</table>\n",
       "</div>"
      ],
      "text/plain": [
       "         ratings\n",
       "game_id         \n",
       "284            5"
      ]
     },
     "execution_count": 43,
     "metadata": {},
     "output_type": "execute_result"
    }
   ],
   "source": [
    "X_matrix[X_matrix.index == 284]"
   ]
  },
  {
   "cell_type": "code",
   "execution_count": 49,
   "id": "loose-collar",
   "metadata": {},
   "outputs": [],
   "source": [
    "X = X_matrix['ratings'].values"
   ]
  },
  {
   "cell_type": "code",
   "execution_count": 50,
   "id": "central-college",
   "metadata": {},
   "outputs": [
    {
     "data": {
      "text/plain": [
       "array([0, 0, 0, ..., 0, 0, 0])"
      ]
     },
     "execution_count": 50,
     "metadata": {},
     "output_type": "execute_result"
    }
   ],
   "source": [
    "X"
   ]
  },
  {
   "cell_type": "code",
   "execution_count": 53,
   "id": "random-spank",
   "metadata": {},
   "outputs": [
    {
     "data": {
      "text/plain": [
       "0    10387\n",
       "4        8\n",
       "3        6\n",
       "5        5\n",
       "dtype: int64"
      ]
     },
     "execution_count": 53,
     "metadata": {},
     "output_type": "execute_result"
    }
   ],
   "source": [
    "pd.DataFrame(X).value_counts()"
   ]
  },
  {
   "cell_type": "code",
   "execution_count": null,
   "id": "found-wages",
   "metadata": {},
   "outputs": [],
   "source": [
    "X_matrix.shape"
   ]
  },
  {
   "cell_type": "code",
   "execution_count": null,
   "id": "municipal-seating",
   "metadata": {},
   "outputs": [],
   "source": [
    "X"
   ]
  },
  {
   "cell_type": "markdown",
   "id": "sunset-stress",
   "metadata": {},
   "source": [
    "## Import preprocessor"
   ]
  },
  {
   "cell_type": "code",
   "execution_count": 54,
   "id": "cloudy-reggae",
   "metadata": {},
   "outputs": [],
   "source": [
    "import pickle5 as pickle"
   ]
  },
  {
   "cell_type": "code",
   "execution_count": null,
   "id": "cathedral-samba",
   "metadata": {},
   "outputs": [],
   "source": []
  },
  {
   "cell_type": "code",
   "execution_count": 55,
   "id": "attended-radiation",
   "metadata": {},
   "outputs": [],
   "source": [
    "with open('preproc.pickle', \"rb\") as input_file:\n",
    "    proc = pickle.load(input_file)"
   ]
  },
  {
   "cell_type": "code",
   "execution_count": 58,
   "id": "suitable-paragraph",
   "metadata": {},
   "outputs": [],
   "source": [
    "preproc_matrix = proc.rating_matrix"
   ]
  },
  {
   "cell_type": "code",
   "execution_count": 59,
   "id": "aquatic-shareware",
   "metadata": {},
   "outputs": [
    {
     "data": {
      "text/html": [
       "<div>\n",
       "<style scoped>\n",
       "    .dataframe tbody tr th:only-of-type {\n",
       "        vertical-align: middle;\n",
       "    }\n",
       "\n",
       "    .dataframe tbody tr th {\n",
       "        vertical-align: top;\n",
       "    }\n",
       "\n",
       "    .dataframe thead th {\n",
       "        text-align: right;\n",
       "    }\n",
       "</style>\n",
       "<table border=\"1\" class=\"dataframe\">\n",
       "  <thead>\n",
       "    <tr style=\"text-align: right;\">\n",
       "      <th>game_id</th>\n",
       "      <th>2</th>\n",
       "      <th>7</th>\n",
       "      <th>12</th>\n",
       "      <th>14</th>\n",
       "      <th>15</th>\n",
       "      <th>20</th>\n",
       "      <th>21</th>\n",
       "      <th>22</th>\n",
       "      <th>24</th>\n",
       "      <th>25</th>\n",
       "      <th>...</th>\n",
       "      <th>514897</th>\n",
       "      <th>516113</th>\n",
       "      <th>516940</th>\n",
       "      <th>517303</th>\n",
       "      <th>520354</th>\n",
       "      <th>522978</th>\n",
       "      <th>527389</th>\n",
       "      <th>537744</th>\n",
       "      <th>544024</th>\n",
       "      <th>548148</th>\n",
       "    </tr>\n",
       "    <tr>\n",
       "      <th>user_id</th>\n",
       "      <th></th>\n",
       "      <th></th>\n",
       "      <th></th>\n",
       "      <th></th>\n",
       "      <th></th>\n",
       "      <th></th>\n",
       "      <th></th>\n",
       "      <th></th>\n",
       "      <th></th>\n",
       "      <th></th>\n",
       "      <th></th>\n",
       "      <th></th>\n",
       "      <th></th>\n",
       "      <th></th>\n",
       "      <th></th>\n",
       "      <th></th>\n",
       "      <th></th>\n",
       "      <th></th>\n",
       "      <th></th>\n",
       "      <th></th>\n",
       "      <th></th>\n",
       "    </tr>\n",
       "  </thead>\n",
       "  <tbody>\n",
       "    <tr>\n",
       "      <th>1</th>\n",
       "      <td>0.0</td>\n",
       "      <td>0.0</td>\n",
       "      <td>0.0</td>\n",
       "      <td>0.0</td>\n",
       "      <td>0.0</td>\n",
       "      <td>0.0</td>\n",
       "      <td>0.0</td>\n",
       "      <td>0.0</td>\n",
       "      <td>3.0</td>\n",
       "      <td>0.0</td>\n",
       "      <td>...</td>\n",
       "      <td>0.0</td>\n",
       "      <td>0.0</td>\n",
       "      <td>0.0</td>\n",
       "      <td>0.0</td>\n",
       "      <td>0.0</td>\n",
       "      <td>0.0</td>\n",
       "      <td>0.0</td>\n",
       "      <td>0.0</td>\n",
       "      <td>0.0</td>\n",
       "      <td>0.0</td>\n",
       "    </tr>\n",
       "    <tr>\n",
       "      <th>1002</th>\n",
       "      <td>0.0</td>\n",
       "      <td>0.0</td>\n",
       "      <td>0.0</td>\n",
       "      <td>0.0</td>\n",
       "      <td>0.0</td>\n",
       "      <td>0.0</td>\n",
       "      <td>0.0</td>\n",
       "      <td>0.0</td>\n",
       "      <td>0.0</td>\n",
       "      <td>0.0</td>\n",
       "      <td>...</td>\n",
       "      <td>0.0</td>\n",
       "      <td>0.0</td>\n",
       "      <td>0.0</td>\n",
       "      <td>0.0</td>\n",
       "      <td>0.0</td>\n",
       "      <td>0.0</td>\n",
       "      <td>0.0</td>\n",
       "      <td>0.0</td>\n",
       "      <td>0.0</td>\n",
       "      <td>0.0</td>\n",
       "    </tr>\n",
       "    <tr>\n",
       "      <th>1007</th>\n",
       "      <td>0.0</td>\n",
       "      <td>0.0</td>\n",
       "      <td>0.0</td>\n",
       "      <td>0.0</td>\n",
       "      <td>0.0</td>\n",
       "      <td>0.0</td>\n",
       "      <td>0.0</td>\n",
       "      <td>0.0</td>\n",
       "      <td>0.0</td>\n",
       "      <td>5.0</td>\n",
       "      <td>...</td>\n",
       "      <td>0.0</td>\n",
       "      <td>0.0</td>\n",
       "      <td>0.0</td>\n",
       "      <td>0.0</td>\n",
       "      <td>0.0</td>\n",
       "      <td>0.0</td>\n",
       "      <td>0.0</td>\n",
       "      <td>0.0</td>\n",
       "      <td>0.0</td>\n",
       "      <td>0.0</td>\n",
       "    </tr>\n",
       "    <tr>\n",
       "      <th>10083</th>\n",
       "      <td>0.0</td>\n",
       "      <td>0.0</td>\n",
       "      <td>0.0</td>\n",
       "      <td>0.0</td>\n",
       "      <td>0.0</td>\n",
       "      <td>0.0</td>\n",
       "      <td>0.0</td>\n",
       "      <td>0.0</td>\n",
       "      <td>0.0</td>\n",
       "      <td>0.0</td>\n",
       "      <td>...</td>\n",
       "      <td>0.0</td>\n",
       "      <td>0.0</td>\n",
       "      <td>0.0</td>\n",
       "      <td>0.0</td>\n",
       "      <td>0.0</td>\n",
       "      <td>0.0</td>\n",
       "      <td>0.0</td>\n",
       "      <td>0.0</td>\n",
       "      <td>0.0</td>\n",
       "      <td>0.0</td>\n",
       "    </tr>\n",
       "    <tr>\n",
       "      <th>10092</th>\n",
       "      <td>0.0</td>\n",
       "      <td>0.0</td>\n",
       "      <td>0.0</td>\n",
       "      <td>0.0</td>\n",
       "      <td>0.0</td>\n",
       "      <td>0.0</td>\n",
       "      <td>0.0</td>\n",
       "      <td>0.0</td>\n",
       "      <td>0.0</td>\n",
       "      <td>0.0</td>\n",
       "      <td>...</td>\n",
       "      <td>0.0</td>\n",
       "      <td>0.0</td>\n",
       "      <td>0.0</td>\n",
       "      <td>0.0</td>\n",
       "      <td>0.0</td>\n",
       "      <td>0.0</td>\n",
       "      <td>0.0</td>\n",
       "      <td>0.0</td>\n",
       "      <td>0.0</td>\n",
       "      <td>0.0</td>\n",
       "    </tr>\n",
       "    <tr>\n",
       "      <th>...</th>\n",
       "      <td>...</td>\n",
       "      <td>...</td>\n",
       "      <td>...</td>\n",
       "      <td>...</td>\n",
       "      <td>...</td>\n",
       "      <td>...</td>\n",
       "      <td>...</td>\n",
       "      <td>...</td>\n",
       "      <td>...</td>\n",
       "      <td>...</td>\n",
       "      <td>...</td>\n",
       "      <td>...</td>\n",
       "      <td>...</td>\n",
       "      <td>...</td>\n",
       "      <td>...</td>\n",
       "      <td>...</td>\n",
       "      <td>...</td>\n",
       "      <td>...</td>\n",
       "      <td>...</td>\n",
       "      <td>...</td>\n",
       "      <td>...</td>\n",
       "    </tr>\n",
       "    <tr>\n",
       "      <th>997</th>\n",
       "      <td>0.0</td>\n",
       "      <td>0.0</td>\n",
       "      <td>0.0</td>\n",
       "      <td>0.0</td>\n",
       "      <td>0.0</td>\n",
       "      <td>0.0</td>\n",
       "      <td>0.0</td>\n",
       "      <td>0.0</td>\n",
       "      <td>0.0</td>\n",
       "      <td>4.0</td>\n",
       "      <td>...</td>\n",
       "      <td>0.0</td>\n",
       "      <td>0.0</td>\n",
       "      <td>0.0</td>\n",
       "      <td>0.0</td>\n",
       "      <td>0.0</td>\n",
       "      <td>0.0</td>\n",
       "      <td>0.0</td>\n",
       "      <td>0.0</td>\n",
       "      <td>0.0</td>\n",
       "      <td>0.0</td>\n",
       "    </tr>\n",
       "    <tr>\n",
       "      <th>998</th>\n",
       "      <td>0.0</td>\n",
       "      <td>0.0</td>\n",
       "      <td>0.0</td>\n",
       "      <td>0.0</td>\n",
       "      <td>0.0</td>\n",
       "      <td>0.0</td>\n",
       "      <td>0.0</td>\n",
       "      <td>0.0</td>\n",
       "      <td>0.0</td>\n",
       "      <td>0.0</td>\n",
       "      <td>...</td>\n",
       "      <td>0.0</td>\n",
       "      <td>0.0</td>\n",
       "      <td>0.0</td>\n",
       "      <td>0.0</td>\n",
       "      <td>0.0</td>\n",
       "      <td>0.0</td>\n",
       "      <td>0.0</td>\n",
       "      <td>0.0</td>\n",
       "      <td>0.0</td>\n",
       "      <td>0.0</td>\n",
       "    </tr>\n",
       "    <tr>\n",
       "      <th>9982</th>\n",
       "      <td>0.0</td>\n",
       "      <td>0.0</td>\n",
       "      <td>0.0</td>\n",
       "      <td>0.0</td>\n",
       "      <td>0.0</td>\n",
       "      <td>0.0</td>\n",
       "      <td>0.0</td>\n",
       "      <td>0.0</td>\n",
       "      <td>0.0</td>\n",
       "      <td>0.0</td>\n",
       "      <td>...</td>\n",
       "      <td>0.0</td>\n",
       "      <td>0.0</td>\n",
       "      <td>0.0</td>\n",
       "      <td>0.0</td>\n",
       "      <td>0.0</td>\n",
       "      <td>0.0</td>\n",
       "      <td>0.0</td>\n",
       "      <td>0.0</td>\n",
       "      <td>0.0</td>\n",
       "      <td>0.0</td>\n",
       "    </tr>\n",
       "    <tr>\n",
       "      <th>Guigsan</th>\n",
       "      <td>0.0</td>\n",
       "      <td>0.0</td>\n",
       "      <td>0.0</td>\n",
       "      <td>0.0</td>\n",
       "      <td>0.0</td>\n",
       "      <td>0.0</td>\n",
       "      <td>0.0</td>\n",
       "      <td>0.0</td>\n",
       "      <td>0.0</td>\n",
       "      <td>0.0</td>\n",
       "      <td>...</td>\n",
       "      <td>0.0</td>\n",
       "      <td>0.0</td>\n",
       "      <td>0.0</td>\n",
       "      <td>0.0</td>\n",
       "      <td>0.0</td>\n",
       "      <td>0.0</td>\n",
       "      <td>0.0</td>\n",
       "      <td>0.0</td>\n",
       "      <td>0.0</td>\n",
       "      <td>0.0</td>\n",
       "    </tr>\n",
       "    <tr>\n",
       "      <th>rasha1</th>\n",
       "      <td>0.0</td>\n",
       "      <td>0.0</td>\n",
       "      <td>0.0</td>\n",
       "      <td>0.0</td>\n",
       "      <td>0.0</td>\n",
       "      <td>0.0</td>\n",
       "      <td>0.0</td>\n",
       "      <td>0.0</td>\n",
       "      <td>0.0</td>\n",
       "      <td>0.0</td>\n",
       "      <td>...</td>\n",
       "      <td>0.0</td>\n",
       "      <td>0.0</td>\n",
       "      <td>0.0</td>\n",
       "      <td>0.0</td>\n",
       "      <td>0.0</td>\n",
       "      <td>0.0</td>\n",
       "      <td>0.0</td>\n",
       "      <td>0.0</td>\n",
       "      <td>0.0</td>\n",
       "      <td>0.0</td>\n",
       "    </tr>\n",
       "  </tbody>\n",
       "</table>\n",
       "<p>2245 rows × 10406 columns</p>\n",
       "</div>"
      ],
      "text/plain": [
       "game_id  2       7       12      14      15      20      21      22      \\\n",
       "user_id                                                                   \n",
       "1           0.0     0.0     0.0     0.0     0.0     0.0     0.0     0.0   \n",
       "1002        0.0     0.0     0.0     0.0     0.0     0.0     0.0     0.0   \n",
       "1007        0.0     0.0     0.0     0.0     0.0     0.0     0.0     0.0   \n",
       "10083       0.0     0.0     0.0     0.0     0.0     0.0     0.0     0.0   \n",
       "10092       0.0     0.0     0.0     0.0     0.0     0.0     0.0     0.0   \n",
       "...         ...     ...     ...     ...     ...     ...     ...     ...   \n",
       "997         0.0     0.0     0.0     0.0     0.0     0.0     0.0     0.0   \n",
       "998         0.0     0.0     0.0     0.0     0.0     0.0     0.0     0.0   \n",
       "9982        0.0     0.0     0.0     0.0     0.0     0.0     0.0     0.0   \n",
       "Guigsan     0.0     0.0     0.0     0.0     0.0     0.0     0.0     0.0   \n",
       "rasha1      0.0     0.0     0.0     0.0     0.0     0.0     0.0     0.0   \n",
       "\n",
       "game_id  24      25      ...  514897  516113  516940  517303  520354  522978  \\\n",
       "user_id                  ...                                                   \n",
       "1           3.0     0.0  ...     0.0     0.0     0.0     0.0     0.0     0.0   \n",
       "1002        0.0     0.0  ...     0.0     0.0     0.0     0.0     0.0     0.0   \n",
       "1007        0.0     5.0  ...     0.0     0.0     0.0     0.0     0.0     0.0   \n",
       "10083       0.0     0.0  ...     0.0     0.0     0.0     0.0     0.0     0.0   \n",
       "10092       0.0     0.0  ...     0.0     0.0     0.0     0.0     0.0     0.0   \n",
       "...         ...     ...  ...     ...     ...     ...     ...     ...     ...   \n",
       "997         0.0     4.0  ...     0.0     0.0     0.0     0.0     0.0     0.0   \n",
       "998         0.0     0.0  ...     0.0     0.0     0.0     0.0     0.0     0.0   \n",
       "9982        0.0     0.0  ...     0.0     0.0     0.0     0.0     0.0     0.0   \n",
       "Guigsan     0.0     0.0  ...     0.0     0.0     0.0     0.0     0.0     0.0   \n",
       "rasha1      0.0     0.0  ...     0.0     0.0     0.0     0.0     0.0     0.0   \n",
       "\n",
       "game_id  527389  537744  544024  548148  \n",
       "user_id                                  \n",
       "1           0.0     0.0     0.0     0.0  \n",
       "1002        0.0     0.0     0.0     0.0  \n",
       "1007        0.0     0.0     0.0     0.0  \n",
       "10083       0.0     0.0     0.0     0.0  \n",
       "10092       0.0     0.0     0.0     0.0  \n",
       "...         ...     ...     ...     ...  \n",
       "997         0.0     0.0     0.0     0.0  \n",
       "998         0.0     0.0     0.0     0.0  \n",
       "9982        0.0     0.0     0.0     0.0  \n",
       "Guigsan     0.0     0.0     0.0     0.0  \n",
       "rasha1      0.0     0.0     0.0     0.0  \n",
       "\n",
       "[2245 rows x 10406 columns]"
      ]
     },
     "execution_count": 59,
     "metadata": {},
     "output_type": "execute_result"
    }
   ],
   "source": [
    "preproc_matrix"
   ]
  },
  {
   "cell_type": "code",
   "execution_count": null,
   "id": "horizontal-arcade",
   "metadata": {},
   "outputs": [],
   "source": [
    "! ls .."
   ]
  },
  {
   "cell_type": "code",
   "execution_count": 60,
   "id": "athletic-draft",
   "metadata": {},
   "outputs": [],
   "source": [
    "u_id = preproc_matrix.index"
   ]
  },
  {
   "cell_type": "code",
   "execution_count": 61,
   "id": "ready-necessity",
   "metadata": {},
   "outputs": [
    {
     "data": {
      "text/plain": [
       "Index(['1', '1002', '1007', '10083', '10092', '101', '10108', '1024', '1034',\n",
       "       '10433',\n",
       "       ...\n",
       "       '970', '9744', '978', '9813', '984', '997', '998', '9982', 'Guigsan',\n",
       "       'rasha1'],\n",
       "      dtype='object', name='user_id', length=2245)"
      ]
     },
     "execution_count": 61,
     "metadata": {},
     "output_type": "execute_result"
    }
   ],
   "source": [
    "u_id"
   ]
  },
  {
   "cell_type": "code",
   "execution_count": 62,
   "id": "thrown-cardiff",
   "metadata": {},
   "outputs": [],
   "source": [
    "import numpy as np\n",
    "from sklearn.neighbors import NearestNeighbors\n",
    "samples = preproc_matrix"
   ]
  },
  {
   "cell_type": "code",
   "execution_count": 63,
   "id": "unexpected-deviation",
   "metadata": {},
   "outputs": [
    {
     "data": {
      "text/plain": [
       "(2245, 10406)"
      ]
     },
     "execution_count": 63,
     "metadata": {},
     "output_type": "execute_result"
    }
   ],
   "source": [
    "samples.shape"
   ]
  },
  {
   "cell_type": "code",
   "execution_count": 65,
   "id": "vulnerable-infrared",
   "metadata": {},
   "outputs": [
    {
     "data": {
      "text/plain": [
       "NearestNeighbors(n_neighbors=1)"
      ]
     },
     "execution_count": 65,
     "metadata": {},
     "output_type": "execute_result"
    }
   ],
   "source": [
    "neigh = NearestNeighbors(n_neighbors=1)\n",
    "neigh.fit(samples)"
   ]
  },
  {
   "cell_type": "code",
   "execution_count": 66,
   "id": "limited-assessment",
   "metadata": {},
   "outputs": [],
   "source": [
    "user_collection1 = [{\"game_id\": 10646, \"user_rating\": 4},\n",
    " {\"game_id\": 19279, \"user_rating\": 5},\n",
    " {\"game_id\": 18099, \"user_rating\": 3},\n",
    " {\"game_id\": 19495, \"user_rating\": 4},\n",
    " {\"game_id\": 264828, \"user_rating\": 3},\n",
    " {\"game_id\": 11593, \"user_rating\": 5},\n",
    " {\"game_id\": 21371, \"user_rating\": 4},\n",
    " {\"game_id\": 19442, \"user_rating\": 4},\n",
    " {\"game_id\": 51487, \"user_rating\": 4},\n",
    " {\"game_id\": 2536, \"user_rating\": 4},\n",
    " {\"game_id\": 284, \"user_rating\": 5},\n",
    " {\"game_id\": 3955, \"user_rating\": 4},\n",
    " {\"game_id\": 59637, \"user_rating\": 3},\n",
    " {\"game_id\": 19458, \"user_rating\": 5},\n",
    " {\"game_id\": 2830, \"user_rating\": 4},\n",
    " {\"game_id\": 1682, \"user_rating\": 3},\n",
    " {\"game_id\": 4223, \"user_rating\": 3},\n",
    " {\"game_id\": 39, \"user_rating\": 3},\n",
    " {\"game_id\": 2454, \"user_rating\": 5}]"
   ]
  },
  {
   "cell_type": "code",
   "execution_count": 67,
   "id": "stupid-special",
   "metadata": {},
   "outputs": [],
   "source": [
    "X = proc.get_X_vector(user_collection1)"
   ]
  },
  {
   "cell_type": "code",
   "execution_count": 81,
   "id": "official-windsor",
   "metadata": {},
   "outputs": [
    {
     "data": {
      "text/plain": [
       "0    10387\n",
       "4        8\n",
       "3        6\n",
       "5        5\n",
       "dtype: int64"
      ]
     },
     "execution_count": 81,
     "metadata": {},
     "output_type": "execute_result"
    }
   ],
   "source": [
    "pd.DataFrame(X).value_counts()"
   ]
  },
  {
   "cell_type": "code",
   "execution_count": 76,
   "id": "exposed-emperor",
   "metadata": {},
   "outputs": [
    {
     "data": {
      "text/plain": [
       "(1, 10406)"
      ]
     },
     "execution_count": 76,
     "metadata": {},
     "output_type": "execute_result"
    }
   ],
   "source": [
    "X.reshape(-1, 1).transpose()"
   ]
  },
  {
   "cell_type": "code",
   "execution_count": 78,
   "id": "uniform-animal",
   "metadata": {},
   "outputs": [],
   "source": [
    "y = neigh.kneighbors(X.reshape(-1, 1).transpose(), 1, return_distance=False)"
   ]
  },
  {
   "cell_type": "code",
   "execution_count": 79,
   "id": "intelligent-variance",
   "metadata": {},
   "outputs": [
    {
     "data": {
      "text/plain": [
       "array([[990]])"
      ]
     },
     "execution_count": 79,
     "metadata": {},
     "output_type": "execute_result"
    }
   ],
   "source": [
    "y"
   ]
  },
  {
   "cell_type": "code",
   "execution_count": 82,
   "id": "impressed-military",
   "metadata": {},
   "outputs": [],
   "source": [
    "y_index = y[0][0]"
   ]
  },
  {
   "cell_type": "code",
   "execution_count": 83,
   "id": "resident-globe",
   "metadata": {},
   "outputs": [
    {
     "data": {
      "text/plain": [
       "990"
      ]
     },
     "execution_count": 83,
     "metadata": {},
     "output_type": "execute_result"
    }
   ],
   "source": [
    "y_index"
   ]
  },
  {
   "cell_type": "code",
   "execution_count": 87,
   "id": "virtual-compact",
   "metadata": {},
   "outputs": [
    {
     "data": {
      "text/plain": [
       "Index(['1', '1002', '1007', '10083', '10092', '101', '10108', '1024', '1034',\n",
       "       '10433',\n",
       "       ...\n",
       "       '970', '9744', '978', '9813', '984', '997', '998', '9982', 'Guigsan',\n",
       "       'rasha1'],\n",
       "      dtype='object', name='user_id', length=2245)"
      ]
     },
     "execution_count": 87,
     "metadata": {},
     "output_type": "execute_result"
    }
   ],
   "source": [
    "u_id"
   ]
  },
  {
   "cell_type": "code",
   "execution_count": 84,
   "id": "plain-healthcare",
   "metadata": {},
   "outputs": [],
   "source": [
    "y_final = u_id[y_index]"
   ]
  },
  {
   "cell_type": "code",
   "execution_count": 85,
   "id": "encouraging-lodge",
   "metadata": {},
   "outputs": [
    {
     "data": {
      "text/plain": [
       "'24'"
      ]
     },
     "execution_count": 85,
     "metadata": {},
     "output_type": "execute_result"
    }
   ],
   "source": [
    "y_final"
   ]
  },
  {
   "cell_type": "code",
   "execution_count": null,
   "id": "considered-principle",
   "metadata": {},
   "outputs": [],
   "source": [
    "user_collection2 = [\n",
    "      {\"game_id\":546464, \"user_rating\": 4},\n",
    "      {\"game_id\":30933, \"user_rating\": 4},\n",
    "      {\"game_id\":35971, \"user_rating\": 4}\n",
    "    ]"
   ]
  },
  {
   "cell_type": "code",
   "execution_count": null,
   "id": "retired-mention",
   "metadata": {},
   "outputs": [],
   "source": [
    "X2 = proc.get_X_vector(user_collection2)"
   ]
  },
  {
   "cell_type": "code",
   "execution_count": null,
   "id": "fifty-interface",
   "metadata": {},
   "outputs": [],
   "source": [
    "y2 = neigh.kneighbors(X2.reshape(-1, 1).transpose(), 1, return_distance=False)"
   ]
  },
  {
   "cell_type": "code",
   "execution_count": null,
   "id": "regular-miniature",
   "metadata": {},
   "outputs": [],
   "source": [
    "y2_index = y2[0][0]"
   ]
  },
  {
   "cell_type": "code",
   "execution_count": null,
   "id": "frank-relations",
   "metadata": {},
   "outputs": [],
   "source": [
    "y2_index"
   ]
  },
  {
   "cell_type": "code",
   "execution_count": null,
   "id": "attempted-strain",
   "metadata": {},
   "outputs": [],
   "source": [
    "y2_final = u_id[y2_index]\n",
    "y2_final"
   ]
  },
  {
   "cell_type": "code",
   "execution_count": null,
   "id": "chinese-actor",
   "metadata": {},
   "outputs": [],
   "source": []
  }
 ],
 "metadata": {
  "kernelspec": {
   "display_name": "Python 3",
   "language": "python",
   "name": "python3"
  },
  "language_info": {
   "codemirror_mode": {
    "name": "ipython",
    "version": 3
   },
   "file_extension": ".py",
   "mimetype": "text/x-python",
   "name": "python",
   "nbconvert_exporter": "python",
   "pygments_lexer": "ipython3",
   "version": "3.8.6"
  },
  "toc": {
   "base_numbering": 1,
   "nav_menu": {},
   "number_sections": true,
   "sideBar": true,
   "skip_h1_title": false,
   "title_cell": "Table of Contents",
   "title_sidebar": "Contents",
   "toc_cell": false,
   "toc_position": {},
   "toc_section_display": true,
   "toc_window_display": false
  },
  "varInspector": {
   "cols": {
    "lenName": 16,
    "lenType": 16,
    "lenVar": 40
   },
   "kernels_config": {
    "python": {
     "delete_cmd_postfix": "",
     "delete_cmd_prefix": "del ",
     "library": "var_list.py",
     "varRefreshCmd": "print(var_dic_list())"
    },
    "r": {
     "delete_cmd_postfix": ") ",
     "delete_cmd_prefix": "rm(",
     "library": "var_list.r",
     "varRefreshCmd": "cat(var_dic_list()) "
    }
   },
   "types_to_exclude": [
    "module",
    "function",
    "builtin_function_or_method",
    "instance",
    "_Feature"
   ],
   "window_display": false
  }
 },
 "nbformat": 4,
 "nbformat_minor": 5
}
