{
 "cells": [
  {
   "cell_type": "code",
   "execution_count": 1,
   "id": "positive-single",
   "metadata": {},
   "outputs": [],
   "source": [
    "import pandas as pd"
   ]
  },
  {
   "cell_type": "code",
   "execution_count": 2,
   "id": "healthy-publisher",
   "metadata": {},
   "outputs": [],
   "source": [
    "users = pd.read_csv('../raw_data/steam-200k.csv')"
   ]
  },
  {
   "cell_type": "code",
   "execution_count": 3,
   "id": "cardiac-hollywood",
   "metadata": {},
   "outputs": [
    {
     "data": {
      "text/html": [
       "<div>\n",
       "<style scoped>\n",
       "    .dataframe tbody tr th:only-of-type {\n",
       "        vertical-align: middle;\n",
       "    }\n",
       "\n",
       "    .dataframe tbody tr th {\n",
       "        vertical-align: top;\n",
       "    }\n",
       "\n",
       "    .dataframe thead th {\n",
       "        text-align: right;\n",
       "    }\n",
       "</style>\n",
       "<table border=\"1\" class=\"dataframe\">\n",
       "  <thead>\n",
       "    <tr style=\"text-align: right;\">\n",
       "      <th></th>\n",
       "      <th>user_id</th>\n",
       "      <th>game_name</th>\n",
       "      <th>purchase/play</th>\n",
       "      <th>purchase/hours_played</th>\n",
       "      <th>zero</th>\n",
       "    </tr>\n",
       "  </thead>\n",
       "  <tbody>\n",
       "    <tr>\n",
       "      <th>0</th>\n",
       "      <td>151603712</td>\n",
       "      <td>The Elder Scrolls V Skyrim</td>\n",
       "      <td>purchase</td>\n",
       "      <td>1.0</td>\n",
       "      <td>0</td>\n",
       "    </tr>\n",
       "    <tr>\n",
       "      <th>1</th>\n",
       "      <td>151603712</td>\n",
       "      <td>The Elder Scrolls V Skyrim</td>\n",
       "      <td>play</td>\n",
       "      <td>273.0</td>\n",
       "      <td>0</td>\n",
       "    </tr>\n",
       "    <tr>\n",
       "      <th>2</th>\n",
       "      <td>151603712</td>\n",
       "      <td>Fallout 4</td>\n",
       "      <td>purchase</td>\n",
       "      <td>1.0</td>\n",
       "      <td>0</td>\n",
       "    </tr>\n",
       "    <tr>\n",
       "      <th>3</th>\n",
       "      <td>151603712</td>\n",
       "      <td>Fallout 4</td>\n",
       "      <td>play</td>\n",
       "      <td>87.0</td>\n",
       "      <td>0</td>\n",
       "    </tr>\n",
       "    <tr>\n",
       "      <th>4</th>\n",
       "      <td>151603712</td>\n",
       "      <td>Spore</td>\n",
       "      <td>purchase</td>\n",
       "      <td>1.0</td>\n",
       "      <td>0</td>\n",
       "    </tr>\n",
       "  </tbody>\n",
       "</table>\n",
       "</div>"
      ],
      "text/plain": [
       "     user_id                   game_name purchase/play  purchase/hours_played  \\\n",
       "0  151603712  The Elder Scrolls V Skyrim      purchase                    1.0   \n",
       "1  151603712  The Elder Scrolls V Skyrim          play                  273.0   \n",
       "2  151603712                   Fallout 4      purchase                    1.0   \n",
       "3  151603712                   Fallout 4          play                   87.0   \n",
       "4  151603712                       Spore      purchase                    1.0   \n",
       "\n",
       "   zero  \n",
       "0     0  \n",
       "1     0  \n",
       "2     0  \n",
       "3     0  \n",
       "4     0  "
      ]
     },
     "execution_count": 3,
     "metadata": {},
     "output_type": "execute_result"
    }
   ],
   "source": [
    "users.head()"
   ]
  },
  {
   "cell_type": "code",
   "execution_count": 46,
   "id": "virgin-cowboy",
   "metadata": {},
   "outputs": [],
   "source": [
    "\n",
    "user_game_counts = users.groupby('user_id').nunique()"
   ]
  },
  {
   "cell_type": "code",
   "execution_count": 52,
   "id": "loose-preparation",
   "metadata": {},
   "outputs": [
    {
     "name": "stderr",
     "output_type": "stream",
     "text": [
      "/Users/zongyizhu/.pyenv/versions/3.8.6/envs/game_one/lib/python3.8/site-packages/seaborn/_decorators.py:36: FutureWarning: Pass the following variable as a keyword arg: x. From version 0.12, the only valid positional argument will be `data`, and passing other arguments without an explicit keyword will result in an error or misinterpretation.\n",
      "  warnings.warn(\n"
     ]
    },
    {
     "data": {
      "text/plain": [
       "<AxesSubplot:xlabel='game_name'>"
      ]
     },
     "execution_count": 52,
     "metadata": {},
     "output_type": "execute_result"
    },
    {
     "data": {
      "image/png": "[encoded data removed]",
      "text/plain": [
       "<Figure size 432x288 with 1 Axes>"
      ]
     },
     "metadata": {
      "needs_background": "light"
     },
     "output_type": "display_data"
    }
   ],
   "source": [
    "import seaborn as sns\n",
    "sns.boxplot(user_game_counts['game_name'])\n",
    "\n"
   ]
  },
  {
   "cell_type": "code",
   "execution_count": 4,
   "id": "eleven-panama",
   "metadata": {},
   "outputs": [],
   "source": [
    "games = pd.read_csv('../raw_data/steam_games.csv')"
   ]
  },
  {
   "cell_type": "code",
   "execution_count": 5,
   "id": "expected-bleeding",
   "metadata": {
    "scrolled": true
   },
   "outputs": [
    {
     "data": {
      "text/html": [
       "<div>\n",
       "<style scoped>\n",
       "    .dataframe tbody tr th:only-of-type {\n",
       "        vertical-align: middle;\n",
       "    }\n",
       "\n",
       "    .dataframe tbody tr th {\n",
       "        vertical-align: top;\n",
       "    }\n",
       "\n",
       "    .dataframe thead th {\n",
       "        text-align: right;\n",
       "    }\n",
       "</style>\n",
       "<table border=\"1\" class=\"dataframe\">\n",
       "  <thead>\n",
       "    <tr style=\"text-align: right;\">\n",
       "      <th></th>\n",
       "      <th>url</th>\n",
       "      <th>types</th>\n",
       "      <th>name</th>\n",
       "      <th>desc_snippet</th>\n",
       "      <th>recent_reviews</th>\n",
       "      <th>all_reviews</th>\n",
       "      <th>release_date</th>\n",
       "      <th>developer</th>\n",
       "      <th>publisher</th>\n",
       "      <th>popular_tags</th>\n",
       "      <th>game_details</th>\n",
       "      <th>languages</th>\n",
       "      <th>achievements</th>\n",
       "      <th>genre</th>\n",
       "      <th>game_description</th>\n",
       "      <th>mature_content</th>\n",
       "      <th>minimum_requirements</th>\n",
       "      <th>recommended_requirements</th>\n",
       "      <th>original_price</th>\n",
       "      <th>discount_price</th>\n",
       "    </tr>\n",
       "  </thead>\n",
       "  <tbody>\n",
       "    <tr>\n",
       "      <th>0</th>\n",
       "      <td>https://store.steampowered.com/app/379720/DOOM/</td>\n",
       "      <td>app</td>\n",
       "      <td>DOOM</td>\n",
       "      <td>Now includes all three premium DLC packs (Unto...</td>\n",
       "      <td>Very Positive,(554),- 89% of the 554 user revi...</td>\n",
       "      <td>Very Positive,(42,550),- 92% of the 42,550 use...</td>\n",
       "      <td>May 12, 2016</td>\n",
       "      <td>id Software</td>\n",
       "      <td>Bethesda Softworks,Bethesda Softworks</td>\n",
       "      <td>FPS,Gore,Action,Demons,Shooter,First-Person,Gr...</td>\n",
       "      <td>Single-player,Multi-player,Co-op,Steam Achieve...</td>\n",
       "      <td>English,French,Italian,German,Spanish - Spain,...</td>\n",
       "      <td>54.0</td>\n",
       "      <td>Action</td>\n",
       "      <td>About This Game Developed by id software, the...</td>\n",
       "      <td>NaN</td>\n",
       "      <td>Minimum:,OS:,Windows 7/8.1/10 (64-bit versions...</td>\n",
       "      <td>Recommended:,OS:,Windows 7/8.1/10 (64-bit vers...</td>\n",
       "      <td>$19.99</td>\n",
       "      <td>$14.99</td>\n",
       "    </tr>\n",
       "    <tr>\n",
       "      <th>1</th>\n",
       "      <td>https://store.steampowered.com/app/578080/PLAY...</td>\n",
       "      <td>app</td>\n",
       "      <td>PLAYERUNKNOWN'S BATTLEGROUNDS</td>\n",
       "      <td>PLAYERUNKNOWN'S BATTLEGROUNDS is a battle roya...</td>\n",
       "      <td>Mixed,(6,214),- 49% of the 6,214 user reviews ...</td>\n",
       "      <td>Mixed,(836,608),- 49% of the 836,608 user revi...</td>\n",
       "      <td>Dec 21, 2017</td>\n",
       "      <td>PUBG Corporation</td>\n",
       "      <td>PUBG Corporation,PUBG Corporation</td>\n",
       "      <td>Survival,Shooter,Multiplayer,Battle Royale,PvP...</td>\n",
       "      <td>Multi-player,Online Multi-Player,Stats</td>\n",
       "      <td>English,Korean,Simplified Chinese,French,Germa...</td>\n",
       "      <td>37.0</td>\n",
       "      <td>Action,Adventure,Massively Multiplayer</td>\n",
       "      <td>About This Game  PLAYERUNKNOWN'S BATTLEGROUND...</td>\n",
       "      <td>Mature Content Description  The developers de...</td>\n",
       "      <td>Minimum:,Requires a 64-bit processor and opera...</td>\n",
       "      <td>Recommended:,Requires a 64-bit processor and o...</td>\n",
       "      <td>$29.99</td>\n",
       "      <td>NaN</td>\n",
       "    </tr>\n",
       "    <tr>\n",
       "      <th>2</th>\n",
       "      <td>https://store.steampowered.com/app/637090/BATT...</td>\n",
       "      <td>app</td>\n",
       "      <td>BATTLETECH</td>\n",
       "      <td>Take command of your own mercenary outfit of '...</td>\n",
       "      <td>Mixed,(166),- 54% of the 166 user reviews in t...</td>\n",
       "      <td>Mostly Positive,(7,030),- 71% of the 7,030 use...</td>\n",
       "      <td>Apr 24, 2018</td>\n",
       "      <td>Harebrained Schemes</td>\n",
       "      <td>Paradox Interactive,Paradox Interactive</td>\n",
       "      <td>Mechs,Strategy,Turn-Based,Turn-Based Tactics,S...</td>\n",
       "      <td>Single-player,Multi-player,Online Multi-Player...</td>\n",
       "      <td>English,French,German,Russian</td>\n",
       "      <td>128.0</td>\n",
       "      <td>Action,Adventure,Strategy</td>\n",
       "      <td>About This Game  From original BATTLETECH/Mec...</td>\n",
       "      <td>NaN</td>\n",
       "      <td>Minimum:,Requires a 64-bit processor and opera...</td>\n",
       "      <td>Recommended:,Requires a 64-bit processor and o...</td>\n",
       "      <td>$39.99</td>\n",
       "      <td>NaN</td>\n",
       "    </tr>\n",
       "    <tr>\n",
       "      <th>3</th>\n",
       "      <td>https://store.steampowered.com/app/221100/DayZ/</td>\n",
       "      <td>app</td>\n",
       "      <td>DayZ</td>\n",
       "      <td>The post-soviet country of Chernarus is struck...</td>\n",
       "      <td>Mixed,(932),- 57% of the 932 user reviews in t...</td>\n",
       "      <td>Mixed,(167,115),- 61% of the 167,115 user revi...</td>\n",
       "      <td>Dec 13, 2018</td>\n",
       "      <td>Bohemia Interactive</td>\n",
       "      <td>Bohemia Interactive,Bohemia Interactive</td>\n",
       "      <td>Survival,Zombies,Open World,Multiplayer,PvP,Ma...</td>\n",
       "      <td>Multi-player,Online Multi-Player,Steam Worksho...</td>\n",
       "      <td>English,French,Italian,German,Spanish - Spain,...</td>\n",
       "      <td>NaN</td>\n",
       "      <td>Action,Adventure,Massively Multiplayer</td>\n",
       "      <td>About This Game The post-soviet country of Ch...</td>\n",
       "      <td>NaN</td>\n",
       "      <td>Minimum:,OS:,Windows 7/8.1 64-bit,Processor:,I...</td>\n",
       "      <td>Recommended:,OS:,Windows 10 64-bit,Processor:,...</td>\n",
       "      <td>$44.99</td>\n",
       "      <td>NaN</td>\n",
       "    </tr>\n",
       "    <tr>\n",
       "      <th>4</th>\n",
       "      <td>https://store.steampowered.com/app/8500/EVE_On...</td>\n",
       "      <td>app</td>\n",
       "      <td>EVE Online</td>\n",
       "      <td>EVE Online is a community-driven spaceship MMO...</td>\n",
       "      <td>Mixed,(287),- 54% of the 287 user reviews in t...</td>\n",
       "      <td>Mostly Positive,(11,481),- 74% of the 11,481 u...</td>\n",
       "      <td>May 6, 2003</td>\n",
       "      <td>CCP</td>\n",
       "      <td>CCP,CCP</td>\n",
       "      <td>Space,Massively Multiplayer,Sci-fi,Sandbox,MMO...</td>\n",
       "      <td>Multi-player,Online Multi-Player,MMO,Co-op,Onl...</td>\n",
       "      <td>English,German,Russian,French</td>\n",
       "      <td>NaN</td>\n",
       "      <td>Action,Free to Play,Massively Multiplayer,RPG,...</td>\n",
       "      <td>About This Game</td>\n",
       "      <td>NaN</td>\n",
       "      <td>Minimum:,OS:,Windows 7,Processor:,Intel Dual C...</td>\n",
       "      <td>Recommended:,OS:,Windows 10,Processor:,Intel i...</td>\n",
       "      <td>Free</td>\n",
       "      <td>NaN</td>\n",
       "    </tr>\n",
       "  </tbody>\n",
       "</table>\n",
       "</div>"
      ],
      "text/plain": [
       "                                                 url types  \\\n",
       "0    https://store.steampowered.com/app/379720/DOOM/   app   \n",
       "1  https://store.steampowered.com/app/578080/PLAY...   app   \n",
       "2  https://store.steampowered.com/app/637090/BATT...   app   \n",
       "3    https://store.steampowered.com/app/221100/DayZ/   app   \n",
       "4  https://store.steampowered.com/app/8500/EVE_On...   app   \n",
       "\n",
       "                            name  \\\n",
       "0                           DOOM   \n",
       "1  PLAYERUNKNOWN'S BATTLEGROUNDS   \n",
       "2                     BATTLETECH   \n",
       "3                           DayZ   \n",
       "4                     EVE Online   \n",
       "\n",
       "                                        desc_snippet  \\\n",
       "0  Now includes all three premium DLC packs (Unto...   \n",
       "1  PLAYERUNKNOWN'S BATTLEGROUNDS is a battle roya...   \n",
       "2  Take command of your own mercenary outfit of '...   \n",
       "3  The post-soviet country of Chernarus is struck...   \n",
       "4  EVE Online is a community-driven spaceship MMO...   \n",
       "\n",
       "                                      recent_reviews  \\\n",
       "0  Very Positive,(554),- 89% of the 554 user revi...   \n",
       "1  Mixed,(6,214),- 49% of the 6,214 user reviews ...   \n",
       "2  Mixed,(166),- 54% of the 166 user reviews in t...   \n",
       "3  Mixed,(932),- 57% of the 932 user reviews in t...   \n",
       "4  Mixed,(287),- 54% of the 287 user reviews in t...   \n",
       "\n",
       "                                         all_reviews  release_date  \\\n",
       "0  Very Positive,(42,550),- 92% of the 42,550 use...  May 12, 2016   \n",
       "1  Mixed,(836,608),- 49% of the 836,608 user revi...  Dec 21, 2017   \n",
       "2  Mostly Positive,(7,030),- 71% of the 7,030 use...  Apr 24, 2018   \n",
       "3  Mixed,(167,115),- 61% of the 167,115 user revi...  Dec 13, 2018   \n",
       "4  Mostly Positive,(11,481),- 74% of the 11,481 u...   May 6, 2003   \n",
       "\n",
       "             developer                                publisher  \\\n",
       "0          id Software    Bethesda Softworks,Bethesda Softworks   \n",
       "1     PUBG Corporation        PUBG Corporation,PUBG Corporation   \n",
       "2  Harebrained Schemes  Paradox Interactive,Paradox Interactive   \n",
       "3  Bohemia Interactive  Bohemia Interactive,Bohemia Interactive   \n",
       "4                  CCP                                  CCP,CCP   \n",
       "\n",
       "                                        popular_tags  \\\n",
       "0  FPS,Gore,Action,Demons,Shooter,First-Person,Gr...   \n",
       "1  Survival,Shooter,Multiplayer,Battle Royale,PvP...   \n",
       "2  Mechs,Strategy,Turn-Based,Turn-Based Tactics,S...   \n",
       "3  Survival,Zombies,Open World,Multiplayer,PvP,Ma...   \n",
       "4  Space,Massively Multiplayer,Sci-fi,Sandbox,MMO...   \n",
       "\n",
       "                                        game_details  \\\n",
       "0  Single-player,Multi-player,Co-op,Steam Achieve...   \n",
       "1             Multi-player,Online Multi-Player,Stats   \n",
       "2  Single-player,Multi-player,Online Multi-Player...   \n",
       "3  Multi-player,Online Multi-Player,Steam Worksho...   \n",
       "4  Multi-player,Online Multi-Player,MMO,Co-op,Onl...   \n",
       "\n",
       "                                           languages  achievements  \\\n",
       "0  English,French,Italian,German,Spanish - Spain,...          54.0   \n",
       "1  English,Korean,Simplified Chinese,French,Germa...          37.0   \n",
       "2                      English,French,German,Russian         128.0   \n",
       "3  English,French,Italian,German,Spanish - Spain,...           NaN   \n",
       "4                      English,German,Russian,French           NaN   \n",
       "\n",
       "                                               genre  \\\n",
       "0                                             Action   \n",
       "1             Action,Adventure,Massively Multiplayer   \n",
       "2                          Action,Adventure,Strategy   \n",
       "3             Action,Adventure,Massively Multiplayer   \n",
       "4  Action,Free to Play,Massively Multiplayer,RPG,...   \n",
       "\n",
       "                                    game_description  \\\n",
       "0   About This Game Developed by id software, the...   \n",
       "1   About This Game  PLAYERUNKNOWN'S BATTLEGROUND...   \n",
       "2   About This Game  From original BATTLETECH/Mec...   \n",
       "3   About This Game The post-soviet country of Ch...   \n",
       "4                                  About This Game     \n",
       "\n",
       "                                      mature_content  \\\n",
       "0                                                NaN   \n",
       "1   Mature Content Description  The developers de...   \n",
       "2                                                NaN   \n",
       "3                                                NaN   \n",
       "4                                                NaN   \n",
       "\n",
       "                                minimum_requirements  \\\n",
       "0  Minimum:,OS:,Windows 7/8.1/10 (64-bit versions...   \n",
       "1  Minimum:,Requires a 64-bit processor and opera...   \n",
       "2  Minimum:,Requires a 64-bit processor and opera...   \n",
       "3  Minimum:,OS:,Windows 7/8.1 64-bit,Processor:,I...   \n",
       "4  Minimum:,OS:,Windows 7,Processor:,Intel Dual C...   \n",
       "\n",
       "                            recommended_requirements original_price  \\\n",
       "0  Recommended:,OS:,Windows 7/8.1/10 (64-bit vers...         $19.99   \n",
       "1  Recommended:,Requires a 64-bit processor and o...         $29.99   \n",
       "2  Recommended:,Requires a 64-bit processor and o...         $39.99   \n",
       "3  Recommended:,OS:,Windows 10 64-bit,Processor:,...         $44.99   \n",
       "4  Recommended:,OS:,Windows 10,Processor:,Intel i...           Free   \n",
       "\n",
       "  discount_price  \n",
       "0         $14.99  \n",
       "1            NaN  \n",
       "2            NaN  \n",
       "3            NaN  \n",
       "4            NaN  "
      ]
     },
     "execution_count": 5,
     "metadata": {},
     "output_type": "execute_result"
    }
   ],
   "source": [
    "games.head()"
   ]
  },
  {
   "cell_type": "code",
   "execution_count": 6,
   "id": "organized-giving",
   "metadata": {},
   "outputs": [
    {
     "name": "stdout",
     "output_type": "stream",
     "text": [
      "<class 'pandas.core.frame.DataFrame'>\n",
      "RangeIndex: 40833 entries, 0 to 40832\n",
      "Data columns (total 20 columns):\n",
      " #   Column                    Non-Null Count  Dtype  \n",
      "---  ------                    --------------  -----  \n",
      " 0   url                       40833 non-null  object \n",
      " 1   types                     40831 non-null  object \n",
      " 2   name                      40817 non-null  object \n",
      " 3   desc_snippet              27612 non-null  object \n",
      " 4   recent_reviews            2706 non-null   object \n",
      " 5   all_reviews               28470 non-null  object \n",
      " 6   release_date              37654 non-null  object \n",
      " 7   developer                 40490 non-null  object \n",
      " 8   publisher                 35733 non-null  object \n",
      " 9   popular_tags              37888 non-null  object \n",
      " 10  game_details              40313 non-null  object \n",
      " 11  languages                 40797 non-null  object \n",
      " 12  achievements              12194 non-null  float64\n",
      " 13  genre                     40395 non-null  object \n",
      " 14  game_description          37920 non-null  object \n",
      " 15  mature_content            2897 non-null   object \n",
      " 16  minimum_requirements      21069 non-null  object \n",
      " 17  recommended_requirements  21075 non-null  object \n",
      " 18  original_price            35522 non-null  object \n",
      " 19  discount_price            14543 non-null  object \n",
      "dtypes: float64(1), object(19)\n",
      "memory usage: 6.2+ MB\n"
     ]
    }
   ],
   "source": [
    "games.info()"
   ]
  },
  {
   "cell_type": "code",
   "execution_count": 7,
   "id": "dietary-karen",
   "metadata": {},
   "outputs": [
    {
     "data": {
      "text/plain": [
       "'Very Positive,(42,550),- 92% of the 42,550 user reviews for this game are positive.'"
      ]
     },
     "execution_count": 7,
     "metadata": {},
     "output_type": "execute_result"
    }
   ],
   "source": [
    "string = games['all_reviews'][0]\n",
    "string"
   ]
  },
  {
   "cell_type": "code",
   "execution_count": 8,
   "id": "dimensional-behavior",
   "metadata": {},
   "outputs": [
    {
     "data": {
      "text/plain": [
       "'Mixed,(904),- 44% of the 904 user reviews for this game are positive.'"
      ]
     },
     "execution_count": 8,
     "metadata": {},
     "output_type": "execute_result"
    }
   ],
   "source": [
    "games['all_reviews'][9]"
   ]
  },
  {
   "cell_type": "code",
   "execution_count": 9,
   "id": "accessible-services",
   "metadata": {},
   "outputs": [],
   "source": [
    "def get_review_score(string):\n",
    "    return string.split(',')[0]\n",
    "    "
   ]
  },
  {
   "cell_type": "code",
   "execution_count": 10,
   "id": "excited-transparency",
   "metadata": {},
   "outputs": [
    {
     "data": {
      "text/plain": [
       "'Very Positive'"
      ]
     },
     "execution_count": 10,
     "metadata": {},
     "output_type": "execute_result"
    }
   ],
   "source": [
    "get_review_score(string)"
   ]
  },
  {
   "cell_type": "code",
   "execution_count": 11,
   "id": "above-possibility",
   "metadata": {},
   "outputs": [],
   "source": [
    "games[\"global_reviews\"] = games[\"all_reviews\"].apply(lambda x: get_review_score(str(x)))"
   ]
  },
  {
   "cell_type": "code",
   "execution_count": 12,
   "id": "controlled-madness",
   "metadata": {},
   "outputs": [
    {
     "data": {
      "text/plain": [
       "nan                        12363\n",
       "Mixed                       4680\n",
       "Very Positive               4539\n",
       "Positive                    3551\n",
       "Mostly Positive             3311\n",
       "1 user reviews              3023\n",
       "2 user reviews              1926\n",
       "3 user reviews              1469\n",
       "4 user reviews              1082\n",
       "5 user reviews               948\n",
       "6 user reviews               838\n",
       "Mostly Negative              782\n",
       "7 user reviews               693\n",
       "8 user reviews               600\n",
       "9 user reviews               528\n",
       "Overwhelmingly Positive      321\n",
       "Negative                     135\n",
       "Very Negative                 37\n",
       "Overwhelmingly Negative        7\n",
       "Name: global_reviews, dtype: int64"
      ]
     },
     "execution_count": 12,
     "metadata": {},
     "output_type": "execute_result"
    }
   ],
   "source": [
    "games[\"global_reviews\"].value_counts()"
   ]
  },
  {
   "cell_type": "code",
   "execution_count": 13,
   "id": "three-service",
   "metadata": {},
   "outputs": [],
   "source": [
    "games[\"now_reviews\"] = games['recent_reviews'].apply(lambda x: get_review_score(str(x)))"
   ]
  },
  {
   "cell_type": "code",
   "execution_count": 14,
   "id": "general-saint",
   "metadata": {},
   "outputs": [
    {
     "data": {
      "text/plain": [
       "nan                        38127\n",
       "Very Positive               1450\n",
       "Mixed                        642\n",
       "Mostly Positive              481\n",
       "Mostly Negative               76\n",
       "Overwhelmingly Positive       43\n",
       "Very Negative                 13\n",
       "Overwhelmingly Negative        1\n",
       "Name: now_reviews, dtype: int64"
      ]
     },
     "execution_count": 14,
     "metadata": {},
     "output_type": "execute_result"
    }
   ],
   "source": [
    "games['now_reviews'].value_counts()"
   ]
  },
  {
   "cell_type": "code",
   "execution_count": 15,
   "id": "reverse-kentucky",
   "metadata": {},
   "outputs": [],
   "source": [
    "import requests"
   ]
  },
  {
   "cell_type": "code",
   "execution_count": 16,
   "id": "proper-chase",
   "metadata": {},
   "outputs": [],
   "source": [
    "def rawg_review(game):\n",
    "    try:\n",
    "        api_key=\"58eeb730ca1a47e8aa9d130c3127d412\"\n",
    "        url=f\"https://api.rawg.io/api/games/{game}\"\n",
    "        response = requests.get(url, params={'apikey': api_key})\n",
    "        data = response.json()\n",
    "        return data['rating']\n",
    "    except:\n",
    "        return -1"
   ]
  },
  {
   "cell_type": "code",
   "execution_count": 17,
   "id": "relative-scholar",
   "metadata": {},
   "outputs": [],
   "source": [
    "def rawg_metacritic(game):\n",
    "    try:\n",
    "        api_key=\"58eeb730ca1a47e8aa9d130c3127d412\"\n",
    "        url=f\"https://api.rawg.io/api/games/{game}\"\n",
    "        response = requests.get(url, params={'apikey': api_key})\n",
    "        data = response.json()\n",
    "        return data['metacritic']\n",
    "    except:\n",
    "        return -1"
   ]
  },
  {
   "cell_type": "code",
   "execution_count": 18,
   "id": "recovered-aviation",
   "metadata": {},
   "outputs": [
    {
     "data": {
      "text/plain": [
       "4.22"
      ]
     },
     "execution_count": 18,
     "metadata": {},
     "output_type": "execute_result"
    }
   ],
   "source": [
    "rawg_review(\"superhot\")"
   ]
  },
  {
   "cell_type": "code",
   "execution_count": 19,
   "id": "endangered-company",
   "metadata": {},
   "outputs": [
    {
     "data": {
      "text/plain": [
       "82"
      ]
     },
     "execution_count": 19,
     "metadata": {},
     "output_type": "execute_result"
    }
   ],
   "source": [
    "rawg_metacritic(\"superhot\")"
   ]
  },
  {
   "cell_type": "code",
   "execution_count": 20,
   "id": "sixth-sperm",
   "metadata": {},
   "outputs": [],
   "source": [
    "games_1 = games[games['types']=='app']"
   ]
  },
  {
   "cell_type": "code",
   "execution_count": 21,
   "id": "capable-madagascar",
   "metadata": {},
   "outputs": [
    {
     "data": {
      "text/plain": [
       "app    38021\n",
       "Name: types, dtype: int64"
      ]
     },
     "execution_count": 21,
     "metadata": {},
     "output_type": "execute_result"
    }
   ],
   "source": [
    "games_1['types'].value_counts()"
   ]
  },
  {
   "cell_type": "code",
   "execution_count": 22,
   "id": "measured-kidney",
   "metadata": {},
   "outputs": [
    {
     "data": {
      "text/plain": [
       "0                                                     DOOM\n",
       "1                            PLAYERUNKNOWN'S BATTLEGROUNDS\n",
       "2                                               BATTLETECH\n",
       "3                                                     DayZ\n",
       "4                                               EVE Online\n",
       "                               ...                        \n",
       "40828    Rocksmith® 2014 Edition – Remastered – Sabaton...\n",
       "40829    Rocksmith® 2014 Edition – Remastered – Stone T...\n",
       "40830    Fantasy Grounds - Quests of Doom 4: A Midnight...\n",
       "40831                         Mega Man X5 Sound Collection\n",
       "40832                                     Stories In Stone\n",
       "Name: name, Length: 38021, dtype: object"
      ]
     },
     "execution_count": 22,
     "metadata": {},
     "output_type": "execute_result"
    }
   ],
   "source": [
    "games_1[\"name\"]"
   ]
  },
  {
   "cell_type": "code",
   "execution_count": 23,
   "id": "educational-jungle",
   "metadata": {},
   "outputs": [
    {
     "data": {
      "text/plain": [
       "4.39"
      ]
     },
     "execution_count": 23,
     "metadata": {},
     "output_type": "execute_result"
    }
   ],
   "source": [
    "rawg_review(games_1['name'][0])"
   ]
  },
  {
   "cell_type": "code",
   "execution_count": 24,
   "id": "straight-amateur",
   "metadata": {},
   "outputs": [
    {
     "name": "stderr",
     "output_type": "stream",
     "text": [
      "<ipython-input-24-74e1c011aef0>:1: SettingWithCopyWarning: \n",
      "A value is trying to be set on a copy of a slice from a DataFrame.\n",
      "Try using .loc[row_indexer,col_indexer] = value instead\n",
      "\n",
      "See the caveats in the documentation: https://pandas.pydata.org/pandas-docs/stable/user_guide/indexing.html#returning-a-view-versus-a-copy\n",
      "  games_1[\"rawg_rating\"] = games_1[\"name\"][100:100].apply(lambda x: rawg_review(str(x)))\n"
     ]
    }
   ],
   "source": [
    "games_1[\"rawg_rating\"] = games_1[\"name\"][100:100].apply(lambda x: rawg_review(str(x)))"
   ]
  },
  {
   "cell_type": "code",
   "execution_count": 25,
   "id": "surrounded-diabetes",
   "metadata": {},
   "outputs": [],
   "source": [
    "import numpy as np"
   ]
  },
  {
   "cell_type": "code",
   "execution_count": 26,
   "id": "pretty-richards",
   "metadata": {},
   "outputs": [
    {
     "data": {
      "text/plain": [
       "array([   0,  100,  200,  300,  400,  500,  600,  700,  800,  900, 1000,\n",
       "       1100, 1200, 1300, 1400, 1500, 1600, 1700, 1800, 1900, 2000, 2100,\n",
       "       2200, 2300, 2400, 2500, 2600, 2700, 2800, 2900, 3000, 3100, 3200,\n",
       "       3300, 3400, 3500, 3600, 3700, 3800, 3900, 4000, 4100, 4200, 4300,\n",
       "       4400, 4500, 4600, 4700, 4800, 4900, 5000, 5100, 5200, 5300, 5400,\n",
       "       5500, 5600, 5700, 5800, 5900, 6000, 6100, 6200, 6300, 6400, 6500,\n",
       "       6600, 6700, 6800, 6900, 7000, 7100, 7200, 7300, 7400, 7500, 7600,\n",
       "       7700, 7800, 7900, 8000, 8100, 8200, 8300, 8400, 8500, 8600, 8700,\n",
       "       8800, 8900, 9000, 9100, 9200, 9300, 9400, 9500, 9600, 9700, 9800,\n",
       "       9900])"
      ]
     },
     "execution_count": 26,
     "metadata": {},
     "output_type": "execute_result"
    }
   ],
   "source": [
    "np.arange(0,10000,100)"
   ]
  },
  {
   "cell_type": "code",
   "execution_count": 27,
   "id": "registered-rachel",
   "metadata": {},
   "outputs": [
    {
     "name": "stderr",
     "output_type": "stream",
     "text": [
      "<ipython-input-27-cec1b0b55834>:2: SettingWithCopyWarning: \n",
      "A value is trying to be set on a copy of a slice from a DataFrame.\n",
      "Try using .loc[row_indexer,col_indexer] = value instead\n",
      "\n",
      "See the caveats in the documentation: https://pandas.pydata.org/pandas-docs/stable/user_guide/indexing.html#returning-a-view-versus-a-copy\n",
      "  games_1[\"rawg_rating\"] = games_1[\"name\"][num:num+100].apply(lambda x: rawg_review(str(x)))\n"
     ]
    },
    {
     "name": "stdout",
     "output_type": "stream",
     "text": [
      "100 to 200 data has done\n",
      "200 to 300 data has done\n",
      "300 to 400 data has done\n",
      "400 to 500 data has done\n",
      "500 to 600 data has done\n",
      "600 to 700 data has done\n",
      "700 to 800 data has done\n",
      "800 to 900 data has done\n",
      "900 to 1000 data has done\n",
      "1000 to 1100 data has done\n",
      "1100 to 1200 data has done\n",
      "1200 to 1300 data has done\n",
      "1300 to 1400 data has done\n",
      "1400 to 1500 data has done\n",
      "1500 to 1600 data has done\n",
      "1600 to 1700 data has done\n",
      "1700 to 1800 data has done\n",
      "1800 to 1900 data has done\n",
      "1900 to 2000 data has done\n",
      "2000 to 2100 data has done\n",
      "2100 to 2200 data has done\n",
      "2200 to 2300 data has done\n",
      "2300 to 2400 data has done\n",
      "2400 to 2500 data has done\n",
      "2500 to 2600 data has done\n",
      "2600 to 2700 data has done\n",
      "2700 to 2800 data has done\n",
      "2800 to 2900 data has done\n",
      "2900 to 3000 data has done\n",
      "3000 to 3100 data has done\n",
      "3100 to 3200 data has done\n",
      "3200 to 3300 data has done\n",
      "3300 to 3400 data has done\n",
      "3400 to 3500 data has done\n",
      "3500 to 3600 data has done\n",
      "3600 to 3700 data has done\n",
      "3700 to 3800 data has done\n",
      "3800 to 3900 data has done\n",
      "3900 to 4000 data has done\n",
      "4000 to 4100 data has done\n",
      "4100 to 4200 data has done\n",
      "4200 to 4300 data has done\n",
      "4300 to 4400 data has done\n",
      "4400 to 4500 data has done\n",
      "4500 to 4600 data has done\n",
      "4600 to 4700 data has done\n",
      "4700 to 4800 data has done\n",
      "4800 to 4900 data has done\n",
      "4900 to 5000 data has done\n",
      "5000 to 5100 data has done\n",
      "5100 to 5200 data has done\n",
      "5200 to 5300 data has done\n",
      "5300 to 5400 data has done\n",
      "5400 to 5500 data has done\n",
      "5500 to 5600 data has done\n",
      "5600 to 5700 data has done\n",
      "5700 to 5800 data has done\n",
      "5800 to 5900 data has done\n",
      "5900 to 6000 data has done\n",
      "6000 to 6100 data has done\n",
      "6100 to 6200 data has done\n",
      "6200 to 6300 data has done\n",
      "6300 to 6400 data has done\n",
      "6400 to 6500 data has done\n",
      "6500 to 6600 data has done\n",
      "6600 to 6700 data has done\n",
      "6700 to 6800 data has done\n",
      "6800 to 6900 data has done\n",
      "6900 to 7000 data has done\n",
      "7000 to 7100 data has done\n",
      "7100 to 7200 data has done\n",
      "7200 to 7300 data has done\n",
      "7300 to 7400 data has done\n",
      "7400 to 7500 data has done\n",
      "7500 to 7600 data has done\n",
      "7600 to 7700 data has done\n",
      "7700 to 7800 data has done\n",
      "7800 to 7900 data has done\n",
      "7900 to 8000 data has done\n",
      "8000 to 8100 data has done\n",
      "8100 to 8200 data has done\n",
      "8200 to 8300 data has done\n",
      "8300 to 8400 data has done\n",
      "8400 to 8500 data has done\n",
      "8500 to 8600 data has done\n",
      "8600 to 8700 data has done\n",
      "8700 to 8800 data has done\n",
      "8800 to 8900 data has done\n",
      "8900 to 9000 data has done\n",
      "9000 to 9100 data has done\n",
      "9100 to 9200 data has done\n",
      "9200 to 9300 data has done\n",
      "9300 to 9400 data has done\n",
      "9400 to 9500 data has done\n",
      "9500 to 9600 data has done\n",
      "9600 to 9700 data has done\n",
      "9700 to 9800 data has done\n",
      "9800 to 9900 data has done\n",
      "9900 to 10000 data has done\n"
     ]
    }
   ],
   "source": [
    "for num in np.arange(100,10000,100):\n",
    "    games_1[\"rawg_rating\"] = games_1[\"name\"][num:num+100].apply(lambda x: rawg_review(str(x)))\n",
    "    print(f\"{num} to {num+100} data has done\")"
   ]
  },
  {
   "cell_type": "code",
   "execution_count": 29,
   "id": "naked-front",
   "metadata": {},
   "outputs": [
    {
     "data": {
      "text/plain": [
       "0       NaN\n",
       "1       NaN\n",
       "2       NaN\n",
       "3       NaN\n",
       "4       NaN\n",
       "         ..\n",
       "40828   NaN\n",
       "40829   NaN\n",
       "40830   NaN\n",
       "40831   NaN\n",
       "40832   NaN\n",
       "Name: rawg_rating, Length: 38021, dtype: float64"
      ]
     },
     "execution_count": 29,
     "metadata": {},
     "output_type": "execute_result"
    }
   ],
   "source": [
    "games_1[\"rawg_rating\"]"
   ]
  },
  {
   "cell_type": "code",
   "execution_count": 35,
   "id": "ethical-internet",
   "metadata": {},
   "outputs": [
    {
     "name": "stderr",
     "output_type": "stream",
     "text": [
      "<ipython-input-35-eeea357d75eb>:1: SettingWithCopyWarning: \n",
      "A value is trying to be set on a copy of a slice from a DataFrame\n",
      "\n",
      "See the caveats in the documentation: https://pandas.pydata.org/pandas-docs/stable/user_guide/indexing.html#returning-a-view-versus-a-copy\n",
      "  games_1[\"rawg_rating\"][0:100] = games_1[\"name\"][0:100].apply(lambda x: rawg_review(str(x)))\n",
      "/Users/zongyizhu/.pyenv/versions/3.8.6/envs/game_one/lib/python3.8/site-packages/pandas/core/series.py:996: SettingWithCopyWarning: \n",
      "A value is trying to be set on a copy of a slice from a DataFrame\n",
      "\n",
      "See the caveats in the documentation: https://pandas.pydata.org/pandas-docs/stable/user_guide/indexing.html#returning-a-view-versus-a-copy\n",
      "  self._set_with(key, value)\n",
      "/Users/zongyizhu/.pyenv/versions/3.8.6/envs/game_one/lib/python3.8/site-packages/IPython/core/interactiveshell.py:3427: SettingWithCopyWarning: \n",
      "A value is trying to be set on a copy of a slice from a DataFrame\n",
      "\n",
      "See the caveats in the documentation: https://pandas.pydata.org/pandas-docs/stable/user_guide/indexing.html#returning-a-view-versus-a-copy\n",
      "  exec(code_obj, self.user_global_ns, self.user_ns)\n"
     ]
    }
   ],
   "source": [
    "games_1[\"rawg_rating\"][0:100] = games_1[\"name\"][0:100].apply(lambda x: rawg_review(str(x)))"
   ]
  },
  {
   "cell_type": "code",
   "execution_count": 38,
   "id": "tough-melbourne",
   "metadata": {},
   "outputs": [
    {
     "data": {
      "text/plain": [
       "-1.00    176\n",
       " 0.00      3\n",
       " 4.33      2\n",
       " 3.59      1\n",
       " 3.55      1\n",
       " 3.44      1\n",
       " 3.74      1\n",
       " 4.10      1\n",
       " 2.91      1\n",
       " 4.17      1\n",
       " 3.80      1\n",
       " 4.39      1\n",
       " 2.60      1\n",
       " 4.52      1\n",
       " 2.88      1\n",
       " 3.27      1\n",
       " 3.11      1\n",
       " 2.66      1\n",
       " 3.76      1\n",
       " 4.02      1\n",
       " 3.84      1\n",
       " 4.37      1\n",
       "Name: rawg_rating, dtype: int64"
      ]
     },
     "execution_count": 38,
     "metadata": {},
     "output_type": "execute_result"
    }
   ],
   "source": [
    "games_1[\"rawg_rating\"][0:200].value_counts()"
   ]
  },
  {
   "cell_type": "code",
   "execution_count": null,
   "id": "billion-silly",
   "metadata": {},
   "outputs": [],
   "source": []
  }
 ],
 "metadata": {
  "kernelspec": {
   "display_name": "Python 3",
   "language": "python",
   "name": "python3"
  },
  "language_info": {
   "codemirror_mode": {
    "name": "ipython",
    "version": 3
   },
   "file_extension": ".py",
   "mimetype": "text/x-python",
   "name": "python",
   "nbconvert_exporter": "python",
   "pygments_lexer": "ipython3",
   "version": "3.8.6"
  },
  "toc": {
   "base_numbering": 1,
   "nav_menu": {},
   "number_sections": true,
   "sideBar": true,
   "skip_h1_title": false,
   "title_cell": "Table of Contents",
   "title_sidebar": "Contents",
   "toc_cell": false,
   "toc_position": {},
   "toc_section_display": true,
   "toc_window_display": false
  },
  "varInspector": {
   "cols": {
    "lenName": 16,
    "lenType": 16,
    "lenVar": 40
   },
   "kernels_config": {
    "python": {
     "delete_cmd_postfix": "",
     "delete_cmd_prefix": "del ",
     "library": "var_list.py",
     "varRefreshCmd": "print(var_dic_list())"
    },
    "r": {
     "delete_cmd_postfix": ") ",
     "delete_cmd_prefix": "rm(",
     "library": "var_list.r",
     "varRefreshCmd": "cat(var_dic_list()) "
    }
   },
   "types_to_exclude": [
    "module",
    "function",
    "builtin_function_or_method",
    "instance",
    "_Feature"
   ],
   "window_display": false
  }
 },
 "nbformat": 4,
 "nbformat_minor": 5
}
