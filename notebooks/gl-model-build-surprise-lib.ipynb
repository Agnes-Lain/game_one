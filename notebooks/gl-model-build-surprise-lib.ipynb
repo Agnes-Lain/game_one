{
 "cells": [
  {
   "cell_type": "code",
   "execution_count": 62,
   "id": "tender-power",
   "metadata": {
    "ExecuteTime": {
     "end_time": "2021-02-26T14:32:33.206234Z",
     "start_time": "2021-02-26T14:32:33.202836Z"
    }
   },
   "outputs": [],
   "source": [
    "import numpy as np\n",
    "import pandas as pd\n",
    "\n",
    "\n",
    "from surprise import SVD\n",
    "from surprise import Dataset\n",
    "from surprise.model_selection import cross_validate"
   ]
  },
  {
   "cell_type": "code",
   "execution_count": 63,
   "id": "executed-miami",
   "metadata": {
    "ExecuteTime": {
     "end_time": "2021-02-26T14:32:33.950958Z",
     "start_time": "2021-02-26T14:32:33.947996Z"
    }
   },
   "outputs": [],
   "source": [
    "def load_data():\n",
    "    user_game_df = pd.read_csv(\"../raw_data/rawg_user_games.csv\")\n",
    "    user_game_df['purchase'] = 1\n",
    "    return user_game_df"
   ]
  },
  {
   "cell_type": "code",
   "execution_count": 64,
   "id": "adverse-appendix",
   "metadata": {
    "ExecuteTime": {
     "end_time": "2021-02-26T14:32:34.992456Z",
     "start_time": "2021-02-26T14:32:34.657085Z"
    }
   },
   "outputs": [
    {
     "name": "stderr",
     "output_type": "stream",
     "text": [
      "/Users/guillaume/.pyenv/versions/3.8.6/envs/game_one_👾/lib/python3.8/site-packages/IPython/core/interactiveshell.py:3347: DtypeWarning: Columns (0) have mixed types.Specify dtype option on import or set low_memory=False.\n",
      "  if (await self.run_code(code, result,  async_=asy)):\n"
     ]
    }
   ],
   "source": [
    "data_df = load_data()"
   ]
  },
  {
   "cell_type": "code",
   "execution_count": 65,
   "id": "remarkable-coral",
   "metadata": {
    "ExecuteTime": {
     "end_time": "2021-02-26T14:32:35.767831Z",
     "start_time": "2021-02-26T14:32:35.745250Z"
    }
   },
   "outputs": [
    {
     "data": {
      "text/html": [
       "<div>\n",
       "<style scoped>\n",
       "    .dataframe tbody tr th:only-of-type {\n",
       "        vertical-align: middle;\n",
       "    }\n",
       "\n",
       "    .dataframe tbody tr th {\n",
       "        vertical-align: top;\n",
       "    }\n",
       "\n",
       "    .dataframe thead th {\n",
       "        text-align: right;\n",
       "    }\n",
       "</style>\n",
       "<table border=\"1\" class=\"dataframe\">\n",
       "  <thead>\n",
       "    <tr style=\"text-align: right;\">\n",
       "      <th></th>\n",
       "      <th>user_id</th>\n",
       "      <th>game_id</th>\n",
       "      <th>game_slug</th>\n",
       "      <th>game_name</th>\n",
       "      <th>user_rating</th>\n",
       "      <th>metacritic</th>\n",
       "      <th>rawg_rating</th>\n",
       "      <th>released</th>\n",
       "      <th>play_time</th>\n",
       "      <th>purchase</th>\n",
       "    </tr>\n",
       "  </thead>\n",
       "  <tbody>\n",
       "    <tr>\n",
       "      <th>0</th>\n",
       "      <td>1</td>\n",
       "      <td>446900</td>\n",
       "      <td>high-rise-a-puzzle-cityscape</td>\n",
       "      <td>High Rise - A Puzzle Cityscape</td>\n",
       "      <td>4</td>\n",
       "      <td>NaN</td>\n",
       "      <td>0.00</td>\n",
       "      <td>2020-05-16</td>\n",
       "      <td>0</td>\n",
       "      <td>1</td>\n",
       "    </tr>\n",
       "    <tr>\n",
       "      <th>1</th>\n",
       "      <td>1</td>\n",
       "      <td>264830</td>\n",
       "      <td>twinfold</td>\n",
       "      <td>Twinfold</td>\n",
       "      <td>5</td>\n",
       "      <td>NaN</td>\n",
       "      <td>0.00</td>\n",
       "      <td>2018-12-05</td>\n",
       "      <td>0</td>\n",
       "      <td>1</td>\n",
       "    </tr>\n",
       "    <tr>\n",
       "      <th>2</th>\n",
       "      <td>1</td>\n",
       "      <td>58443</td>\n",
       "      <td>pocket-run-pool</td>\n",
       "      <td>Pocket-Run Pool</td>\n",
       "      <td>4</td>\n",
       "      <td>NaN</td>\n",
       "      <td>0.00</td>\n",
       "      <td>2018-05-24</td>\n",
       "      <td>0</td>\n",
       "      <td>1</td>\n",
       "    </tr>\n",
       "    <tr>\n",
       "      <th>3</th>\n",
       "      <td>1</td>\n",
       "      <td>51288</td>\n",
       "      <td>cinco-paus</td>\n",
       "      <td>Cinco Paus</td>\n",
       "      <td>0</td>\n",
       "      <td>NaN</td>\n",
       "      <td>0.00</td>\n",
       "      <td>2017-12-25</td>\n",
       "      <td>0</td>\n",
       "      <td>1</td>\n",
       "    </tr>\n",
       "    <tr>\n",
       "      <th>4</th>\n",
       "      <td>1</td>\n",
       "      <td>21889</td>\n",
       "      <td>desert-fox-the-battle-of-el-alamein</td>\n",
       "      <td>Desert Fox: The Battle of El Alamein</td>\n",
       "      <td>4</td>\n",
       "      <td>NaN</td>\n",
       "      <td>0.00</td>\n",
       "      <td>2014-06-26</td>\n",
       "      <td>0</td>\n",
       "      <td>1</td>\n",
       "    </tr>\n",
       "    <tr>\n",
       "      <th>...</th>\n",
       "      <td>...</td>\n",
       "      <td>...</td>\n",
       "      <td>...</td>\n",
       "      <td>...</td>\n",
       "      <td>...</td>\n",
       "      <td>...</td>\n",
       "      <td>...</td>\n",
       "      <td>...</td>\n",
       "      <td>...</td>\n",
       "      <td>...</td>\n",
       "    </tr>\n",
       "    <tr>\n",
       "      <th>255492</th>\n",
       "      <td>rasha27</td>\n",
       "      <td>5578</td>\n",
       "      <td>grid</td>\n",
       "      <td>Race Driver: Grid</td>\n",
       "      <td>5</td>\n",
       "      <td>87.0</td>\n",
       "      <td>3.67</td>\n",
       "      <td>2008-06-03</td>\n",
       "      <td>1</td>\n",
       "      <td>1</td>\n",
       "    </tr>\n",
       "    <tr>\n",
       "      <th>255493</th>\n",
       "      <td>rasha27</td>\n",
       "      <td>326292</td>\n",
       "      <td>fall-guys</td>\n",
       "      <td>Fall Guys: Ultimate Knockout</td>\n",
       "      <td>3</td>\n",
       "      <td>80.0</td>\n",
       "      <td>3.87</td>\n",
       "      <td>2020-08-04</td>\n",
       "      <td>4</td>\n",
       "      <td>1</td>\n",
       "    </tr>\n",
       "    <tr>\n",
       "      <th>255494</th>\n",
       "      <td>rasha27</td>\n",
       "      <td>2572</td>\n",
       "      <td>dirt-rally</td>\n",
       "      <td>DiRT Rally</td>\n",
       "      <td>5</td>\n",
       "      <td>86.0</td>\n",
       "      <td>3.74</td>\n",
       "      <td>2015-12-07</td>\n",
       "      <td>4</td>\n",
       "      <td>1</td>\n",
       "    </tr>\n",
       "    <tr>\n",
       "      <th>255495</th>\n",
       "      <td>rasha27</td>\n",
       "      <td>4003</td>\n",
       "      <td>grid-2</td>\n",
       "      <td>GRID 2</td>\n",
       "      <td>5</td>\n",
       "      <td>80.0</td>\n",
       "      <td>3.30</td>\n",
       "      <td>2013-05-27</td>\n",
       "      <td>4</td>\n",
       "      <td>1</td>\n",
       "    </tr>\n",
       "    <tr>\n",
       "      <th>255496</th>\n",
       "      <td>rasha27</td>\n",
       "      <td>3272</td>\n",
       "      <td>rocket-league</td>\n",
       "      <td>Rocket League</td>\n",
       "      <td>5</td>\n",
       "      <td>86.0</td>\n",
       "      <td>4.01</td>\n",
       "      <td>2015-07-07</td>\n",
       "      <td>17</td>\n",
       "      <td>1</td>\n",
       "    </tr>\n",
       "  </tbody>\n",
       "</table>\n",
       "<p>255497 rows × 10 columns</p>\n",
       "</div>"
      ],
      "text/plain": [
       "        user_id  game_id                            game_slug  \\\n",
       "0             1   446900         high-rise-a-puzzle-cityscape   \n",
       "1             1   264830                             twinfold   \n",
       "2             1    58443                      pocket-run-pool   \n",
       "3             1    51288                           cinco-paus   \n",
       "4             1    21889  desert-fox-the-battle-of-el-alamein   \n",
       "...         ...      ...                                  ...   \n",
       "255492  rasha27     5578                                 grid   \n",
       "255493  rasha27   326292                            fall-guys   \n",
       "255494  rasha27     2572                           dirt-rally   \n",
       "255495  rasha27     4003                               grid-2   \n",
       "255496  rasha27     3272                        rocket-league   \n",
       "\n",
       "                                   game_name  user_rating  metacritic  \\\n",
       "0             High Rise - A Puzzle Cityscape            4         NaN   \n",
       "1                                   Twinfold            5         NaN   \n",
       "2                            Pocket-Run Pool            4         NaN   \n",
       "3                                 Cinco Paus            0         NaN   \n",
       "4       Desert Fox: The Battle of El Alamein            4         NaN   \n",
       "...                                      ...          ...         ...   \n",
       "255492                     Race Driver: Grid            5        87.0   \n",
       "255493          Fall Guys: Ultimate Knockout            3        80.0   \n",
       "255494                            DiRT Rally            5        86.0   \n",
       "255495                                GRID 2            5        80.0   \n",
       "255496                         Rocket League            5        86.0   \n",
       "\n",
       "        rawg_rating    released  play_time  purchase  \n",
       "0              0.00  2020-05-16          0         1  \n",
       "1              0.00  2018-12-05          0         1  \n",
       "2              0.00  2018-05-24          0         1  \n",
       "3              0.00  2017-12-25          0         1  \n",
       "4              0.00  2014-06-26          0         1  \n",
       "...             ...         ...        ...       ...  \n",
       "255492         3.67  2008-06-03          1         1  \n",
       "255493         3.87  2020-08-04          4         1  \n",
       "255494         3.74  2015-12-07          4         1  \n",
       "255495         3.30  2013-05-27          4         1  \n",
       "255496         4.01  2015-07-07         17         1  \n",
       "\n",
       "[255497 rows x 10 columns]"
      ]
     },
     "execution_count": 65,
     "metadata": {},
     "output_type": "execute_result"
    }
   ],
   "source": [
    "data_df"
   ]
  },
  {
   "cell_type": "code",
   "execution_count": 66,
   "id": "strategic-input",
   "metadata": {
    "ExecuteTime": {
     "end_time": "2021-02-26T14:32:36.567879Z",
     "start_time": "2021-02-26T14:32:36.549093Z"
    }
   },
   "outputs": [],
   "source": [
    "metadata = data_df[['game_id','game_name', 'released', 'metacritic', 'rawg_rating']]"
   ]
  },
  {
   "cell_type": "code",
   "execution_count": 67,
   "id": "polish-degree",
   "metadata": {
    "ExecuteTime": {
     "end_time": "2021-02-26T14:32:37.300916Z",
     "start_time": "2021-02-26T14:32:37.287676Z"
    }
   },
   "outputs": [
    {
     "data": {
      "text/html": [
       "<div>\n",
       "<style scoped>\n",
       "    .dataframe tbody tr th:only-of-type {\n",
       "        vertical-align: middle;\n",
       "    }\n",
       "\n",
       "    .dataframe tbody tr th {\n",
       "        vertical-align: top;\n",
       "    }\n",
       "\n",
       "    .dataframe thead th {\n",
       "        text-align: right;\n",
       "    }\n",
       "</style>\n",
       "<table border=\"1\" class=\"dataframe\">\n",
       "  <thead>\n",
       "    <tr style=\"text-align: right;\">\n",
       "      <th></th>\n",
       "      <th>game_id</th>\n",
       "      <th>game_name</th>\n",
       "      <th>released</th>\n",
       "      <th>metacritic</th>\n",
       "      <th>rawg_rating</th>\n",
       "    </tr>\n",
       "  </thead>\n",
       "  <tbody>\n",
       "    <tr>\n",
       "      <th>0</th>\n",
       "      <td>446900</td>\n",
       "      <td>High Rise - A Puzzle Cityscape</td>\n",
       "      <td>2020-05-16</td>\n",
       "      <td>NaN</td>\n",
       "      <td>0.00</td>\n",
       "    </tr>\n",
       "    <tr>\n",
       "      <th>1</th>\n",
       "      <td>264830</td>\n",
       "      <td>Twinfold</td>\n",
       "      <td>2018-12-05</td>\n",
       "      <td>NaN</td>\n",
       "      <td>0.00</td>\n",
       "    </tr>\n",
       "    <tr>\n",
       "      <th>2</th>\n",
       "      <td>58443</td>\n",
       "      <td>Pocket-Run Pool</td>\n",
       "      <td>2018-05-24</td>\n",
       "      <td>NaN</td>\n",
       "      <td>0.00</td>\n",
       "    </tr>\n",
       "    <tr>\n",
       "      <th>3</th>\n",
       "      <td>51288</td>\n",
       "      <td>Cinco Paus</td>\n",
       "      <td>2017-12-25</td>\n",
       "      <td>NaN</td>\n",
       "      <td>0.00</td>\n",
       "    </tr>\n",
       "    <tr>\n",
       "      <th>4</th>\n",
       "      <td>21889</td>\n",
       "      <td>Desert Fox: The Battle of El Alamein</td>\n",
       "      <td>2014-06-26</td>\n",
       "      <td>NaN</td>\n",
       "      <td>0.00</td>\n",
       "    </tr>\n",
       "    <tr>\n",
       "      <th>...</th>\n",
       "      <td>...</td>\n",
       "      <td>...</td>\n",
       "      <td>...</td>\n",
       "      <td>...</td>\n",
       "      <td>...</td>\n",
       "    </tr>\n",
       "    <tr>\n",
       "      <th>255492</th>\n",
       "      <td>5578</td>\n",
       "      <td>Race Driver: Grid</td>\n",
       "      <td>2008-06-03</td>\n",
       "      <td>87.0</td>\n",
       "      <td>3.67</td>\n",
       "    </tr>\n",
       "    <tr>\n",
       "      <th>255493</th>\n",
       "      <td>326292</td>\n",
       "      <td>Fall Guys: Ultimate Knockout</td>\n",
       "      <td>2020-08-04</td>\n",
       "      <td>80.0</td>\n",
       "      <td>3.87</td>\n",
       "    </tr>\n",
       "    <tr>\n",
       "      <th>255494</th>\n",
       "      <td>2572</td>\n",
       "      <td>DiRT Rally</td>\n",
       "      <td>2015-12-07</td>\n",
       "      <td>86.0</td>\n",
       "      <td>3.74</td>\n",
       "    </tr>\n",
       "    <tr>\n",
       "      <th>255495</th>\n",
       "      <td>4003</td>\n",
       "      <td>GRID 2</td>\n",
       "      <td>2013-05-27</td>\n",
       "      <td>80.0</td>\n",
       "      <td>3.30</td>\n",
       "    </tr>\n",
       "    <tr>\n",
       "      <th>255496</th>\n",
       "      <td>3272</td>\n",
       "      <td>Rocket League</td>\n",
       "      <td>2015-07-07</td>\n",
       "      <td>86.0</td>\n",
       "      <td>4.01</td>\n",
       "    </tr>\n",
       "  </tbody>\n",
       "</table>\n",
       "<p>255497 rows × 5 columns</p>\n",
       "</div>"
      ],
      "text/plain": [
       "        game_id                             game_name    released  metacritic  \\\n",
       "0        446900        High Rise - A Puzzle Cityscape  2020-05-16         NaN   \n",
       "1        264830                              Twinfold  2018-12-05         NaN   \n",
       "2         58443                       Pocket-Run Pool  2018-05-24         NaN   \n",
       "3         51288                            Cinco Paus  2017-12-25         NaN   \n",
       "4         21889  Desert Fox: The Battle of El Alamein  2014-06-26         NaN   \n",
       "...         ...                                   ...         ...         ...   \n",
       "255492     5578                     Race Driver: Grid  2008-06-03        87.0   \n",
       "255493   326292          Fall Guys: Ultimate Knockout  2020-08-04        80.0   \n",
       "255494     2572                            DiRT Rally  2015-12-07        86.0   \n",
       "255495     4003                                GRID 2  2013-05-27        80.0   \n",
       "255496     3272                         Rocket League  2015-07-07        86.0   \n",
       "\n",
       "        rawg_rating  \n",
       "0              0.00  \n",
       "1              0.00  \n",
       "2              0.00  \n",
       "3              0.00  \n",
       "4              0.00  \n",
       "...             ...  \n",
       "255492         3.67  \n",
       "255493         3.87  \n",
       "255494         3.74  \n",
       "255495         3.30  \n",
       "255496         4.01  \n",
       "\n",
       "[255497 rows x 5 columns]"
      ]
     },
     "execution_count": 67,
     "metadata": {},
     "output_type": "execute_result"
    }
   ],
   "source": [
    "metadata"
   ]
  },
  {
   "cell_type": "code",
   "execution_count": 68,
   "id": "homeless-coordinator",
   "metadata": {
    "ExecuteTime": {
     "end_time": "2021-02-26T14:32:38.173664Z",
     "start_time": "2021-02-26T14:32:38.170495Z"
    }
   },
   "outputs": [],
   "source": [
    "def prepare_data_for_surprise(data_df):\n",
    "    data_filter_for_csv =  data_df[['user_id','game_id','purchase']]\n",
    "    data_filter_for_csv.columns = ['user', 'item', 'rating']\n",
    "    return data_filter_for_csv"
   ]
  },
  {
   "cell_type": "code",
   "execution_count": 69,
   "id": "super-circumstances",
   "metadata": {
    "ExecuteTime": {
     "end_time": "2021-02-26T14:32:39.419074Z",
     "start_time": "2021-02-26T14:32:38.952039Z"
    }
   },
   "outputs": [],
   "source": [
    "test = prepare_data_for_surprise(data_df)\n",
    "test.to_csv('../raw_data/surprise_purchase.csv', sep='\\t')"
   ]
  },
  {
   "cell_type": "code",
   "execution_count": 70,
   "id": "fleet-chassis",
   "metadata": {
    "ExecuteTime": {
     "end_time": "2021-02-26T14:32:40.156413Z",
     "start_time": "2021-02-26T14:32:40.149719Z"
    }
   },
   "outputs": [
    {
     "data": {
      "text/plain": [
       "(           user    item  rating\n",
       " 0             1  446900       1\n",
       " 1             1  264830       1\n",
       " 2             1   58443       1\n",
       " 3             1   51288       1\n",
       " 4             1   21889       1\n",
       " ...         ...     ...     ...\n",
       " 255492  rasha27    5578       1\n",
       " 255493  rasha27  326292       1\n",
       " 255494  rasha27    2572       1\n",
       " 255495  rasha27    4003       1\n",
       " 255496  rasha27    3272       1\n",
       " \n",
       " [255497 rows x 3 columns],\n",
       " user      object\n",
       " item       int64\n",
       " rating     int64\n",
       " dtype: object)"
      ]
     },
     "execution_count": 70,
     "metadata": {},
     "output_type": "execute_result"
    }
   ],
   "source": [
    "test, test.dtypes"
   ]
  },
  {
   "cell_type": "code",
   "execution_count": 71,
   "id": "political-prediction",
   "metadata": {
    "ExecuteTime": {
     "end_time": "2021-02-26T14:32:40.999603Z",
     "start_time": "2021-02-26T14:32:40.997055Z"
    }
   },
   "outputs": [],
   "source": [
    "# data = Dataset.load_builtin('ml-100k')\n",
    "# data.__dict__"
   ]
  },
  {
   "cell_type": "code",
   "execution_count": 72,
   "id": "distant-perspective",
   "metadata": {
    "ExecuteTime": {
     "end_time": "2021-02-26T14:32:41.833501Z",
     "start_time": "2021-02-26T14:32:41.831210Z"
    }
   },
   "outputs": [],
   "source": [
    "# # Load the movielens-100k dataset (download it if needed).\n",
    "# # data = Dataset.load_builtin('ml-100k')\n",
    "# \n",
    "# # Use the famous SVD algorithm.\n",
    "# algo = SVD()\n",
    "# \n",
    "# # Run 5-fold cross-validation and print results.\n",
    "# cross_validate(algo, data, measures=['RMSE', 'MAE'], cv=5, verbose=True)"
   ]
  },
  {
   "cell_type": "code",
   "execution_count": 73,
   "id": "violent-virtue",
   "metadata": {
    "ExecuteTime": {
     "end_time": "2021-02-26T14:32:42.746145Z",
     "start_time": "2021-02-26T14:32:42.742800Z"
    }
   },
   "outputs": [],
   "source": [
    "from surprise import BaselineOnly\n",
    "from surprise import Dataset\n",
    "from surprise import Reader\n",
    "from surprise.model_selection import cross_validate\n",
    "import os"
   ]
  },
  {
   "cell_type": "code",
   "execution_count": 74,
   "id": "nutritional-medication",
   "metadata": {
    "ExecuteTime": {
     "end_time": "2021-02-26T14:32:43.650322Z",
     "start_time": "2021-02-26T14:32:43.647551Z"
    }
   },
   "outputs": [],
   "source": [
    "reader = Reader(rating_scale=(0, 1))"
   ]
  },
  {
   "cell_type": "code",
   "execution_count": 75,
   "id": "existing-india",
   "metadata": {
    "ExecuteTime": {
     "end_time": "2021-02-26T14:32:44.857378Z",
     "start_time": "2021-02-26T14:32:44.566939Z"
    }
   },
   "outputs": [],
   "source": [
    "data = Dataset.load_from_df(data_df[['user_id', 'game_id', 'purchase']], reader)"
   ]
  },
  {
   "cell_type": "code",
   "execution_count": 76,
   "id": "neural-husband",
   "metadata": {
    "ExecuteTime": {
     "end_time": "2021-02-26T14:32:45.792041Z",
     "start_time": "2021-02-26T14:32:45.787480Z"
    }
   },
   "outputs": [
    {
     "data": {
      "text/plain": [
       "<surprise.dataset.DatasetAutoFolds at 0x12bfb3970>"
      ]
     },
     "execution_count": 76,
     "metadata": {},
     "output_type": "execute_result"
    }
   ],
   "source": [
    "data"
   ]
  },
  {
   "cell_type": "code",
   "execution_count": 77,
   "id": "hundred-cursor",
   "metadata": {
    "ExecuteTime": {
     "end_time": "2021-02-26T14:33:08.849353Z",
     "start_time": "2021-02-26T14:32:46.632812Z"
    }
   },
   "outputs": [
    {
     "name": "stdout",
     "output_type": "stream",
     "text": [
      "Processing epoch 0\n",
      "Processing epoch 1\n",
      "Processing epoch 2\n",
      "Processing epoch 3\n",
      "Processing epoch 4\n",
      "Processing epoch 5\n",
      "Processing epoch 6\n",
      "Processing epoch 7\n",
      "Processing epoch 8\n",
      "Processing epoch 9\n",
      "Processing epoch 0\n",
      "Processing epoch 1\n",
      "Processing epoch 2\n",
      "Processing epoch 3\n",
      "Processing epoch 4\n",
      "Processing epoch 5\n",
      "Processing epoch 6\n",
      "Processing epoch 7\n",
      "Processing epoch 8\n",
      "Processing epoch 9\n",
      "Processing epoch 0\n",
      "Processing epoch 1\n",
      "Processing epoch 2\n",
      "Processing epoch 3\n",
      "Processing epoch 4\n",
      "Processing epoch 5\n",
      "Processing epoch 6\n",
      "Processing epoch 7\n",
      "Processing epoch 8\n",
      "Processing epoch 9\n",
      "Evaluating RMSE, MAE of algorithm SVD on 3 split(s).\n",
      "\n",
      "                  Fold 1  Fold 2  Fold 3  Mean    Std     \n",
      "RMSE (testset)    0.0365  0.0361  0.0368  0.0365  0.0003  \n",
      "MAE (testset)     0.0177  0.0175  0.0180  0.0177  0.0002  \n",
      "Fit time          5.84    5.82    6.07    5.91    0.11    \n",
      "Test time         1.34    0.82    0.94    1.03    0.23    \n"
     ]
    },
    {
     "data": {
      "text/plain": [
       "{'test_rmse': array([0.03651064, 0.03609742, 0.03676917]),\n",
       " 'test_mae': array([0.0176711 , 0.01753515, 0.01797967]),\n",
       " 'fit_time': (5.843993902206421, 5.820149898529053, 6.067728281021118),\n",
       " 'test_time': (1.3448231220245361, 0.815148115158081, 0.9435679912567139)}"
      ]
     },
     "execution_count": 77,
     "metadata": {},
     "output_type": "execute_result"
    }
   ],
   "source": [
    "svd = SVD(verbose=True, n_epochs=10)\n",
    "cross_validate(svd, data, measures=['RMSE', 'MAE'], cv=3, verbose=True)"
   ]
  },
  {
   "cell_type": "code",
   "execution_count": 78,
   "id": "racial-plenty",
   "metadata": {
    "ExecuteTime": {
     "end_time": "2021-02-26T14:33:20.920776Z",
     "start_time": "2021-02-26T14:33:09.669804Z"
    }
   },
   "outputs": [
    {
     "name": "stdout",
     "output_type": "stream",
     "text": [
      "Processing epoch 0\n",
      "Processing epoch 1\n",
      "Processing epoch 2\n",
      "Processing epoch 3\n",
      "Processing epoch 4\n",
      "Processing epoch 5\n",
      "Processing epoch 6\n",
      "Processing epoch 7\n",
      "Processing epoch 8\n",
      "Processing epoch 9\n"
     ]
    },
    {
     "data": {
      "text/plain": [
       "<surprise.prediction_algorithms.matrix_factorization.SVD at 0x12e38e460>"
      ]
     },
     "execution_count": 78,
     "metadata": {},
     "output_type": "execute_result"
    }
   ],
   "source": [
    "trainset = data.build_full_trainset()\n",
    "svd.fit(trainset)"
   ]
  },
  {
   "cell_type": "code",
   "execution_count": 79,
   "id": "happy-discount",
   "metadata": {
    "ExecuteTime": {
     "end_time": "2021-02-26T14:33:22.628702Z",
     "start_time": "2021-02-26T14:33:22.619929Z"
    }
   },
   "outputs": [
    {
     "data": {
      "text/plain": [
       "Prediction(uid=42, iid=1, r_ui=None, est=1, details={'was_impossible': False})"
      ]
     },
     "execution_count": 79,
     "metadata": {},
     "output_type": "execute_result"
    }
   ],
   "source": [
    "svd.predict(uid=42, iid=1)"
   ]
  },
  {
   "cell_type": "code",
   "execution_count": 80,
   "id": "equal-border",
   "metadata": {
    "ExecuteTime": {
     "end_time": "2021-02-26T14:33:24.276510Z",
     "start_time": "2021-02-26T14:33:24.270219Z"
    }
   },
   "outputs": [],
   "source": [
    "import difflib\n",
    "import random"
   ]
  },
  {
   "cell_type": "code",
   "execution_count": 81,
   "id": "middle-burke",
   "metadata": {
    "ExecuteTime": {
     "end_time": "2021-02-26T14:33:26.442009Z",
     "start_time": "2021-02-26T14:33:26.429822Z"
    }
   },
   "outputs": [],
   "source": [
    "def get_game_id(game_name, metadata):\n",
    "    \n",
    "    \"\"\"\n",
    "    Gets the book ID for a book title based on the closest match in the metadata dataframe.\n",
    "    \"\"\"\n",
    "    \n",
    "    existing_titles = list(metadata['game_name'].values)\n",
    "    closest_titles = difflib.get_close_matches(game_name, existing_titles)\n",
    "    game_id = metadata[metadata['game_name'] == closest_titles[0]]['game_id'].values[0]\n",
    "    return game_id"
   ]
  },
  {
   "cell_type": "code",
   "execution_count": 82,
   "id": "abroad-despite",
   "metadata": {
    "ExecuteTime": {
     "end_time": "2021-02-26T14:33:28.487411Z",
     "start_time": "2021-02-26T14:33:28.481194Z"
    }
   },
   "outputs": [],
   "source": [
    "def get_game_info(game_id, metadata):\n",
    "    \n",
    "    \"\"\"\n",
    "    Returns some basic information about a book given the book id and the metadata dataframe.\n",
    "    \"\"\"\n",
    "    \n",
    "    game_info = metadata[metadata['game_id'] == game_id][['game_id','game_name', 'released', 'metacritic', 'rawg_rating']]\n",
    "    return game_info.to_dict(orient='records')"
   ]
  },
  {
   "cell_type": "code",
   "execution_count": 83,
   "id": "laughing-identification",
   "metadata": {
    "ExecuteTime": {
     "end_time": "2021-02-26T14:33:30.030232Z",
     "start_time": "2021-02-26T14:33:30.016371Z"
    }
   },
   "outputs": [
    {
     "data": {
      "text/plain": [
       "[{'game_id': 446900,\n",
       "  'game_name': 'High Rise - A Puzzle Cityscape',\n",
       "  'released': '2020-05-16',\n",
       "  'metacritic': nan,\n",
       "  'rawg_rating': 0.0}]"
      ]
     },
     "execution_count": 83,
     "metadata": {},
     "output_type": "execute_result"
    }
   ],
   "source": [
    "get_game_info(446900, metadata)"
   ]
  },
  {
   "cell_type": "code",
   "execution_count": 84,
   "id": "welcome-spanish",
   "metadata": {
    "ExecuteTime": {
     "end_time": "2021-02-26T14:33:31.308473Z",
     "start_time": "2021-02-26T14:33:31.303498Z"
    }
   },
   "outputs": [],
   "source": [
    "def predict_purchase(user_id, game_name, model, metadata):\n",
    "    \n",
    "    \"\"\"\n",
    "    Predicts the purchase state (on a scale of 0-1) that a user would assign to a specific book. \n",
    "    \"\"\"\n",
    "    \n",
    "    game_id = get_game_id(game_name, metadata)\n",
    "    review_prediction = model.predict(uid=user_id, iid=game_id)\n",
    "    return review_prediction.est"
   ]
  },
  {
   "cell_type": "code",
   "execution_count": 85,
   "id": "tired-laugh",
   "metadata": {
    "ExecuteTime": {
     "end_time": "2021-02-26T14:33:34.386631Z",
     "start_time": "2021-02-26T14:33:32.469266Z"
    }
   },
   "outputs": [
    {
     "data": {
      "text/plain": [
       "0.8806664066325144"
      ]
     },
     "execution_count": 85,
     "metadata": {},
     "output_type": "execute_result"
    }
   ],
   "source": [
    "predict_purchase(1, 'World of Warcraft', svd, metadata)"
   ]
  },
  {
   "cell_type": "code",
   "execution_count": 86,
   "id": "alpine-spectrum",
   "metadata": {
    "ExecuteTime": {
     "end_time": "2021-02-26T14:33:35.185868Z",
     "start_time": "2021-02-26T14:33:35.181209Z"
    }
   },
   "outputs": [],
   "source": [
    "def generate_recommendation(user_id, model, metadata, thresh=0.9):\n",
    "    \n",
    "    \"\"\"\n",
    "    Generates a book recommendation for a user based on a rating threshold. Only\n",
    "    books with a predicted rating at or above the threshold will be recommended\n",
    "    \"\"\"\n",
    "    \n",
    "    game_names = list(metadata['game_name'].values)\n",
    "    random.shuffle(game_names)\n",
    "    \n",
    "    \n",
    "    predictions = []\n",
    "    \n",
    "    for game_name in game_names:\n",
    "        print(game_name)\n",
    "        prediction = predict_purchase(user_id, game_name, model, metadata)\n",
    "        print(prediction)\n",
    "        if prediction > thresh :\n",
    "            predictions.append({'game_name': game_name, 'prediction': prediction })\n",
    "    #     if rating >= thresh:\n",
    "    #         game_id = get_game_id(game_name, metadata)\n",
    "    #         print(get_game_info(game_id, metadata))\n",
    "    return predictions"
   ]
  },
  {
   "cell_type": "code",
   "execution_count": 114,
   "id": "arbitrary-alpha",
   "metadata": {
    "ExecuteTime": {
     "end_time": "2021-02-26T15:58:05.507917Z",
     "start_time": "2021-02-26T15:58:05.505811Z"
    },
    "scrolled": false
   },
   "outputs": [],
   "source": [
    "#svd.__dict__"
   ]
  },
  {
   "cell_type": "code",
   "execution_count": 115,
   "id": "protecting-flush",
   "metadata": {
    "ExecuteTime": {
     "end_time": "2021-02-26T15:58:08.741216Z",
     "start_time": "2021-02-26T15:58:08.739194Z"
    }
   },
   "outputs": [],
   "source": [
    "#svd.bu.shape"
   ]
  },
  {
   "cell_type": "code",
   "execution_count": 116,
   "id": "moved-missouri",
   "metadata": {
    "ExecuteTime": {
     "end_time": "2021-02-26T15:58:10.883731Z",
     "start_time": "2021-02-26T15:58:10.881744Z"
    }
   },
   "outputs": [],
   "source": [
    "#svd.bi.shape"
   ]
  },
  {
   "cell_type": "code",
   "execution_count": 117,
   "id": "prompt-lightning",
   "metadata": {
    "ExecuteTime": {
     "end_time": "2021-02-26T15:58:13.466545Z",
     "start_time": "2021-02-26T15:58:13.464449Z"
    }
   },
   "outputs": [],
   "source": [
    "#svd.pu.shape"
   ]
  },
  {
   "cell_type": "code",
   "execution_count": 118,
   "id": "answering-grass",
   "metadata": {
    "ExecuteTime": {
     "end_time": "2021-02-26T15:58:16.416035Z",
     "start_time": "2021-02-26T15:58:16.413978Z"
    }
   },
   "outputs": [],
   "source": [
    "#svd.qi.shape"
   ]
  },
  {
   "cell_type": "code",
   "execution_count": null,
   "id": "revolutionary-detective",
   "metadata": {},
   "outputs": [],
   "source": [
    "svd.bu.shape"
   ]
  },
  {
   "cell_type": "code",
   "execution_count": 121,
   "id": "duplicate-thursday",
   "metadata": {
    "ExecuteTime": {
     "end_time": "2021-02-26T15:58:29.294639Z",
     "start_time": "2021-02-26T15:58:29.292651Z"
    }
   },
   "outputs": [],
   "source": [
    "#U = np.dot(svd.pu.transpose(), np.diag(svd.bu))\n",
    "#V = np.dot(svd.qi.transpose(), np.diag(svd.bi))"
   ]
  },
  {
   "cell_type": "code",
   "execution_count": 123,
   "id": "greenhouse-worst",
   "metadata": {
    "ExecuteTime": {
     "end_time": "2021-02-26T15:58:34.344777Z",
     "start_time": "2021-02-26T15:58:34.342581Z"
    }
   },
   "outputs": [],
   "source": [
    "#U.shape"
   ]
  },
  {
   "cell_type": "code",
   "execution_count": 113,
   "id": "elect-poker",
   "metadata": {
    "ExecuteTime": {
     "end_time": "2021-02-26T15:44:02.890147Z",
     "start_time": "2021-02-26T15:44:02.879011Z"
    }
   },
   "outputs": [],
   "source": [
    "reco = []\n",
    "\n",
    "game_list = range(1000)\n",
    "\n",
    "for x in game_list:\n",
    "    reco.append(svd.predict(uid=1, iid=x))"
   ]
  },
  {
   "cell_type": "code",
   "execution_count": 124,
   "id": "sapphire-andrews",
   "metadata": {
    "ExecuteTime": {
     "end_time": "2021-02-26T15:58:39.164437Z",
     "start_time": "2021-02-26T15:58:39.162050Z"
    }
   },
   "outputs": [],
   "source": [
    "# reco"
   ]
  },
  {
   "cell_type": "code",
   "execution_count": 126,
   "id": "developmental-outdoors",
   "metadata": {
    "ExecuteTime": {
     "end_time": "2021-02-26T16:05:56.436098Z",
     "start_time": "2021-02-26T16:04:05.311949Z"
    }
   },
   "outputs": [
    {
     "name": "stdout",
     "output_type": "stream",
     "text": [
      "Grand Theft Auto V\n",
      "1\n",
      "Divinity: Dragon Commander\n",
      "1\n",
      "BPM: BULLETS PER MINUTE\n",
      "1\n",
      "Blood Bowl 2\n",
      "0.8676219876382091\n",
      "Strike Team Hydra\n",
      "0.9154396625033823\n",
      "Retro/Grade\n",
      "1\n",
      "Far Cry Primal\n",
      "0.9944710639181706\n",
      "Destiny\n",
      "1\n",
      "Left 4 Dead\n",
      "1\n",
      "Aqua Kitty - Milk Mine Defender\n",
      "1\n",
      "Red Faction Guerrilla\n",
      "0.9280919177483837\n",
      "Driver Parallel Lines\n",
      "0.8937379385288245\n",
      "Darkness Within: In Pursuit of Loath Nolder\n",
      "1\n",
      "LEGO Batman\n",
      "1\n",
      "Guns, Gore & Cannoli\n",
      "1\n",
      "Mount & Blade: Warband\n",
      "1\n",
      "Blood & Truth\n",
      "0.9770775011293551\n",
      "The Book of Unwritten Tales\n",
      "1\n",
      "Fallout 2: A Post Nuclear Role Playing Game\n",
      "0.8750203513729992\n",
      "The Elder Scrolls V: Skyrim\n",
      "0.9937372172876106\n",
      "Retro City Rampage\n",
      "0.9310783515476482\n",
      "Europa Universalis III\n",
      "1\n",
      "Lucius\n",
      "0.9712282511971975\n",
      "Sine Mora EX\n",
      "1\n",
      "Amnesia: A Machine for Pigs\n",
      "0.9826785306385171\n",
      "Unturned\n",
      "1\n",
      "The Playroom VR\n",
      "1\n",
      "Alpha Protocol\n",
      "1\n",
      "Alpha Protocol\n",
      "1\n",
      "Dead Rising 2: Off the Record\n",
      "1\n",
      "ROME: Total War\n",
      "1\n",
      "Silent Hill: Book of Memories\n",
      "0.9352262825207378\n",
      "Ratchet & Clank (2016)\n",
      "1\n",
      "DayZ\n",
      "0.9458749253081411\n",
      "GRUZCHIK\n",
      "0.7742092225738526\n",
      "Castle Crashers\n",
      "0.8916918528441595\n",
      "Showing Tonight: Mindhunters Incident\n",
      "0.9580661563115306\n",
      "Crying Suns\n",
      "1\n",
      "Call of Duty: Black Ops\n",
      "1\n",
      "Red Faction II\n",
      "1\n",
      "Medieval II: Total War Kingdoms\n",
      "1\n",
      "Back to the Future: The Game - Episode 2. Get Tannen\n",
      "0.9313315371773105\n",
      "Call of Duty: Ghosts\n",
      "0.9437438614485523\n",
      "Q.U.B.E: Director's Cut\n",
      "0.9218516768110611\n",
      "Arma 2: British Armed Forces\n",
      "0.9487252229079185\n",
      "Commandos: Behind Enemy Lines\n",
      "0.9316856739951299\n",
      "Just Cause 2\n",
      "1\n",
      "A Wild Catgirl Appears!\n",
      "0.9793200183789429\n",
      "Supreme Commander 2\n",
      "0.8721183972771424\n",
      "Far Cry 3: Blood Dragon\n",
      "1\n",
      "Vertical Drop Heroes HD\n",
      "1\n",
      "Lovers in a Dangerous Spacetime\n"
     ]
    },
    {
     "ename": "KeyboardInterrupt",
     "evalue": "",
     "output_type": "error",
     "traceback": [
      "\u001b[0;31m---------------------------------------------------------------------------\u001b[0m",
      "\u001b[0;31mKeyboardInterrupt\u001b[0m                         Traceback (most recent call last)",
      "\u001b[0;32m<ipython-input-126-804fa2752783>\u001b[0m in \u001b[0;36m<module>\u001b[0;34m\u001b[0m\n\u001b[0;32m----> 1\u001b[0;31m \u001b[0mprediction_test\u001b[0m \u001b[0;34m=\u001b[0m \u001b[0mgenerate_recommendation\u001b[0m\u001b[0;34m(\u001b[0m\u001b[0;34m'rasha27'\u001b[0m\u001b[0;34m,\u001b[0m \u001b[0msvd\u001b[0m\u001b[0;34m,\u001b[0m \u001b[0mmetadata\u001b[0m\u001b[0;34m)\u001b[0m\u001b[0;34m\u001b[0m\u001b[0;34m\u001b[0m\u001b[0m\n\u001b[0m",
      "\u001b[0;32m<ipython-input-86-dfc3618f96ef>\u001b[0m in \u001b[0;36mgenerate_recommendation\u001b[0;34m(user_id, model, metadata, thresh)\u001b[0m\n\u001b[1;32m     14\u001b[0m     \u001b[0;32mfor\u001b[0m \u001b[0mgame_name\u001b[0m \u001b[0;32min\u001b[0m \u001b[0mgame_names\u001b[0m\u001b[0;34m:\u001b[0m\u001b[0;34m\u001b[0m\u001b[0;34m\u001b[0m\u001b[0m\n\u001b[1;32m     15\u001b[0m         \u001b[0mprint\u001b[0m\u001b[0;34m(\u001b[0m\u001b[0mgame_name\u001b[0m\u001b[0;34m)\u001b[0m\u001b[0;34m\u001b[0m\u001b[0;34m\u001b[0m\u001b[0m\n\u001b[0;32m---> 16\u001b[0;31m         \u001b[0mprediction\u001b[0m \u001b[0;34m=\u001b[0m \u001b[0mpredict_purchase\u001b[0m\u001b[0;34m(\u001b[0m\u001b[0muser_id\u001b[0m\u001b[0;34m,\u001b[0m \u001b[0mgame_name\u001b[0m\u001b[0;34m,\u001b[0m \u001b[0mmodel\u001b[0m\u001b[0;34m,\u001b[0m \u001b[0mmetadata\u001b[0m\u001b[0;34m)\u001b[0m\u001b[0;34m\u001b[0m\u001b[0;34m\u001b[0m\u001b[0m\n\u001b[0m\u001b[1;32m     17\u001b[0m         \u001b[0mprint\u001b[0m\u001b[0;34m(\u001b[0m\u001b[0mprediction\u001b[0m\u001b[0;34m)\u001b[0m\u001b[0;34m\u001b[0m\u001b[0;34m\u001b[0m\u001b[0m\n\u001b[1;32m     18\u001b[0m         \u001b[0;32mif\u001b[0m \u001b[0mprediction\u001b[0m \u001b[0;34m>\u001b[0m \u001b[0mthresh\u001b[0m \u001b[0;34m:\u001b[0m\u001b[0;34m\u001b[0m\u001b[0;34m\u001b[0m\u001b[0m\n",
      "\u001b[0;32m<ipython-input-84-7bb82fc9c9af>\u001b[0m in \u001b[0;36mpredict_purchase\u001b[0;34m(user_id, game_name, model, metadata)\u001b[0m\n\u001b[1;32m      5\u001b[0m     \"\"\"\n\u001b[1;32m      6\u001b[0m \u001b[0;34m\u001b[0m\u001b[0m\n\u001b[0;32m----> 7\u001b[0;31m     \u001b[0mgame_id\u001b[0m \u001b[0;34m=\u001b[0m \u001b[0mget_game_id\u001b[0m\u001b[0;34m(\u001b[0m\u001b[0mgame_name\u001b[0m\u001b[0;34m,\u001b[0m \u001b[0mmetadata\u001b[0m\u001b[0;34m)\u001b[0m\u001b[0;34m\u001b[0m\u001b[0;34m\u001b[0m\u001b[0m\n\u001b[0m\u001b[1;32m      8\u001b[0m     \u001b[0mreview_prediction\u001b[0m \u001b[0;34m=\u001b[0m \u001b[0mmodel\u001b[0m\u001b[0;34m.\u001b[0m\u001b[0mpredict\u001b[0m\u001b[0;34m(\u001b[0m\u001b[0muid\u001b[0m\u001b[0;34m=\u001b[0m\u001b[0muser_id\u001b[0m\u001b[0;34m,\u001b[0m \u001b[0miid\u001b[0m\u001b[0;34m=\u001b[0m\u001b[0mgame_id\u001b[0m\u001b[0;34m)\u001b[0m\u001b[0;34m\u001b[0m\u001b[0;34m\u001b[0m\u001b[0m\n\u001b[1;32m      9\u001b[0m     \u001b[0;32mreturn\u001b[0m \u001b[0mreview_prediction\u001b[0m\u001b[0;34m.\u001b[0m\u001b[0mest\u001b[0m\u001b[0;34m\u001b[0m\u001b[0;34m\u001b[0m\u001b[0m\n",
      "\u001b[0;32m<ipython-input-81-48c563f1f937>\u001b[0m in \u001b[0;36mget_game_id\u001b[0;34m(game_name, metadata)\u001b[0m\n\u001b[1;32m      6\u001b[0m \u001b[0;34m\u001b[0m\u001b[0m\n\u001b[1;32m      7\u001b[0m     \u001b[0mexisting_titles\u001b[0m \u001b[0;34m=\u001b[0m \u001b[0mlist\u001b[0m\u001b[0;34m(\u001b[0m\u001b[0mmetadata\u001b[0m\u001b[0;34m[\u001b[0m\u001b[0;34m'game_name'\u001b[0m\u001b[0;34m]\u001b[0m\u001b[0;34m.\u001b[0m\u001b[0mvalues\u001b[0m\u001b[0;34m)\u001b[0m\u001b[0;34m\u001b[0m\u001b[0;34m\u001b[0m\u001b[0m\n\u001b[0;32m----> 8\u001b[0;31m     \u001b[0mclosest_titles\u001b[0m \u001b[0;34m=\u001b[0m \u001b[0mdifflib\u001b[0m\u001b[0;34m.\u001b[0m\u001b[0mget_close_matches\u001b[0m\u001b[0;34m(\u001b[0m\u001b[0mgame_name\u001b[0m\u001b[0;34m,\u001b[0m \u001b[0mexisting_titles\u001b[0m\u001b[0;34m)\u001b[0m\u001b[0;34m\u001b[0m\u001b[0;34m\u001b[0m\u001b[0m\n\u001b[0m\u001b[1;32m      9\u001b[0m     \u001b[0mgame_id\u001b[0m \u001b[0;34m=\u001b[0m \u001b[0mmetadata\u001b[0m\u001b[0;34m[\u001b[0m\u001b[0mmetadata\u001b[0m\u001b[0;34m[\u001b[0m\u001b[0;34m'game_name'\u001b[0m\u001b[0;34m]\u001b[0m \u001b[0;34m==\u001b[0m \u001b[0mclosest_titles\u001b[0m\u001b[0;34m[\u001b[0m\u001b[0;36m0\u001b[0m\u001b[0;34m]\u001b[0m\u001b[0;34m]\u001b[0m\u001b[0;34m[\u001b[0m\u001b[0;34m'game_id'\u001b[0m\u001b[0;34m]\u001b[0m\u001b[0;34m.\u001b[0m\u001b[0mvalues\u001b[0m\u001b[0;34m[\u001b[0m\u001b[0;36m0\u001b[0m\u001b[0;34m]\u001b[0m\u001b[0;34m\u001b[0m\u001b[0;34m\u001b[0m\u001b[0m\n\u001b[1;32m     10\u001b[0m     \u001b[0;32mreturn\u001b[0m \u001b[0mgame_id\u001b[0m\u001b[0;34m\u001b[0m\u001b[0;34m\u001b[0m\u001b[0m\n",
      "\u001b[0;32m~/.pyenv/versions/3.8.6/lib/python3.8/difflib.py\u001b[0m in \u001b[0;36mget_close_matches\u001b[0;34m(word, possibilities, n, cutoff)\u001b[0m\n\u001b[1;32m    725\u001b[0m         \u001b[0ms\u001b[0m\u001b[0;34m.\u001b[0m\u001b[0mset_seq1\u001b[0m\u001b[0;34m(\u001b[0m\u001b[0mx\u001b[0m\u001b[0;34m)\u001b[0m\u001b[0;34m\u001b[0m\u001b[0;34m\u001b[0m\u001b[0m\n\u001b[1;32m    726\u001b[0m         \u001b[0;32mif\u001b[0m \u001b[0ms\u001b[0m\u001b[0;34m.\u001b[0m\u001b[0mreal_quick_ratio\u001b[0m\u001b[0;34m(\u001b[0m\u001b[0;34m)\u001b[0m \u001b[0;34m>=\u001b[0m \u001b[0mcutoff\u001b[0m \u001b[0;32mand\u001b[0m\u001b[0;31m \u001b[0m\u001b[0;31m\\\u001b[0m\u001b[0;34m\u001b[0m\u001b[0;34m\u001b[0m\u001b[0m\n\u001b[0;32m--> 727\u001b[0;31m            \u001b[0ms\u001b[0m\u001b[0;34m.\u001b[0m\u001b[0mquick_ratio\u001b[0m\u001b[0;34m(\u001b[0m\u001b[0;34m)\u001b[0m \u001b[0;34m>=\u001b[0m \u001b[0mcutoff\u001b[0m \u001b[0;32mand\u001b[0m\u001b[0;31m \u001b[0m\u001b[0;31m\\\u001b[0m\u001b[0;34m\u001b[0m\u001b[0;34m\u001b[0m\u001b[0m\n\u001b[0m\u001b[1;32m    728\u001b[0m            \u001b[0ms\u001b[0m\u001b[0;34m.\u001b[0m\u001b[0mratio\u001b[0m\u001b[0;34m(\u001b[0m\u001b[0;34m)\u001b[0m \u001b[0;34m>=\u001b[0m \u001b[0mcutoff\u001b[0m\u001b[0;34m:\u001b[0m\u001b[0;34m\u001b[0m\u001b[0;34m\u001b[0m\u001b[0m\n\u001b[1;32m    729\u001b[0m             \u001b[0mresult\u001b[0m\u001b[0;34m.\u001b[0m\u001b[0mappend\u001b[0m\u001b[0;34m(\u001b[0m\u001b[0;34m(\u001b[0m\u001b[0ms\u001b[0m\u001b[0;34m.\u001b[0m\u001b[0mratio\u001b[0m\u001b[0;34m(\u001b[0m\u001b[0;34m)\u001b[0m\u001b[0;34m,\u001b[0m \u001b[0mx\u001b[0m\u001b[0;34m)\u001b[0m\u001b[0;34m)\u001b[0m\u001b[0;34m\u001b[0m\u001b[0;34m\u001b[0m\u001b[0m\n",
      "\u001b[0;32m~/.pyenv/versions/3.8.6/lib/python3.8/difflib.py\u001b[0m in \u001b[0;36mquick_ratio\u001b[0;34m(self)\u001b[0m\n\u001b[1;32m    669\u001b[0m             \u001b[0;32melse\u001b[0m\u001b[0;34m:\u001b[0m\u001b[0;34m\u001b[0m\u001b[0;34m\u001b[0m\u001b[0m\n\u001b[1;32m    670\u001b[0m                 \u001b[0mnumb\u001b[0m \u001b[0;34m=\u001b[0m \u001b[0mfullbcount\u001b[0m\u001b[0;34m.\u001b[0m\u001b[0mget\u001b[0m\u001b[0;34m(\u001b[0m\u001b[0melt\u001b[0m\u001b[0;34m,\u001b[0m \u001b[0;36m0\u001b[0m\u001b[0;34m)\u001b[0m\u001b[0;34m\u001b[0m\u001b[0;34m\u001b[0m\u001b[0m\n\u001b[0;32m--> 671\u001b[0;31m             \u001b[0mavail\u001b[0m\u001b[0;34m[\u001b[0m\u001b[0melt\u001b[0m\u001b[0;34m]\u001b[0m \u001b[0;34m=\u001b[0m \u001b[0mnumb\u001b[0m \u001b[0;34m-\u001b[0m \u001b[0;36m1\u001b[0m\u001b[0;34m\u001b[0m\u001b[0;34m\u001b[0m\u001b[0m\n\u001b[0m\u001b[1;32m    672\u001b[0m             \u001b[0;32mif\u001b[0m \u001b[0mnumb\u001b[0m \u001b[0;34m>\u001b[0m \u001b[0;36m0\u001b[0m\u001b[0;34m:\u001b[0m\u001b[0;34m\u001b[0m\u001b[0;34m\u001b[0m\u001b[0m\n\u001b[1;32m    673\u001b[0m                 \u001b[0mmatches\u001b[0m \u001b[0;34m=\u001b[0m \u001b[0mmatches\u001b[0m \u001b[0;34m+\u001b[0m \u001b[0;36m1\u001b[0m\u001b[0;34m\u001b[0m\u001b[0;34m\u001b[0m\u001b[0m\n",
      "\u001b[0;31mKeyboardInterrupt\u001b[0m: "
     ]
    }
   ],
   "source": [
    "prediction_test = generate_recommendation('rasha27', svd, metadata)"
   ]
  },
  {
   "cell_type": "code",
   "execution_count": null,
   "id": "varying-annex",
   "metadata": {
    "ExecuteTime": {
     "end_time": "2021-02-26T14:34:35.920536Z",
     "start_time": "2021-02-26T14:32:38.687Z"
    }
   },
   "outputs": [],
   "source": [
    "prediction_test\n"
   ]
  },
  {
   "cell_type": "code",
   "execution_count": null,
   "id": "legendary-browse",
   "metadata": {},
   "outputs": [],
   "source": []
  }
 ],
 "metadata": {
  "kernelspec": {
   "display_name": "Python 3",
   "language": "python",
   "name": "python3"
  },
  "language_info": {
   "codemirror_mode": {
    "name": "ipython",
    "version": 3
   },
   "file_extension": ".py",
   "mimetype": "text/x-python",
   "name": "python",
   "nbconvert_exporter": "python",
   "pygments_lexer": "ipython3",
   "version": "3.8.6"
  },
  "toc": {
   "base_numbering": 1,
   "nav_menu": {},
   "number_sections": true,
   "sideBar": true,
   "skip_h1_title": false,
   "title_cell": "Table of Contents",
   "title_sidebar": "Contents",
   "toc_cell": false,
   "toc_position": {},
   "toc_section_display": true,
   "toc_window_display": false
  },
  "varInspector": {
   "cols": {
    "lenName": 16,
    "lenType": 16,
    "lenVar": 40
   },
   "kernels_config": {
    "python": {
     "delete_cmd_postfix": "",
     "delete_cmd_prefix": "del ",
     "library": "var_list.py",
     "varRefreshCmd": "print(var_dic_list())"
    },
    "r": {
     "delete_cmd_postfix": ") ",
     "delete_cmd_prefix": "rm(",
     "library": "var_list.r",
     "varRefreshCmd": "cat(var_dic_list()) "
    }
   },
   "types_to_exclude": [
    "module",
    "function",
    "builtin_function_or_method",
    "instance",
    "_Feature"
   ],
   "window_display": false
  }
 },
 "nbformat": 4,
 "nbformat_minor": 5
}
