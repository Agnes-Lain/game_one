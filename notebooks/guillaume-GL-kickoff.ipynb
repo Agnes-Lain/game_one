{
 "cells": [
  {
   "cell_type": "code",
   "execution_count": 20,
   "id": "delayed-corps",
   "metadata": {
    "ExecuteTime": {
     "end_time": "2021-02-24T13:41:57.806069Z",
     "start_time": "2021-02-24T13:41:57.801724Z"
    }
   },
   "outputs": [],
   "source": [
    "import pandas as pd\n",
    "import numpy as np\n",
    "import matplotlib.pyplot as plt\n",
    "import seaborn as sns\n",
    "\n",
    "\n",
    "from sklearn.decomposition import TruncatedSVD\n",
    "from sklearn.preprocessing import MinMaxScaler"
   ]
  },
  {
   "cell_type": "code",
   "execution_count": 21,
   "id": "packed-imperial",
   "metadata": {
    "ExecuteTime": {
     "end_time": "2021-02-24T13:42:00.115246Z",
     "start_time": "2021-02-24T13:41:59.977265Z"
    }
   },
   "outputs": [
    {
     "name": "stdout",
     "output_type": "stream",
     "text": [
      "rawg_games.csv       rawg_users.csv       steam_games.csv\r\n",
      "rawg_user_games.csv  steam-200k.csv\r\n"
     ]
    }
   ],
   "source": [
    "ls ../raw_data/"
   ]
  },
  {
   "cell_type": "code",
   "execution_count": 22,
   "id": "threatened-abortion",
   "metadata": {
    "ExecuteTime": {
     "end_time": "2021-02-24T13:42:02.321328Z",
     "start_time": "2021-02-24T13:42:02.319264Z"
    }
   },
   "outputs": [],
   "source": [
    "# def get_user_data_steam():\n",
    "#     user_df = pd.read_csv(\"../raw_data/steam-200k.csv\",names = ['user','game','status','hour','4' ])\n",
    "#     return user_df\n",
    "# \n",
    "# def get_game_data_steam():\n",
    "#     game_df = pd.read_csv(\"../raw_data/steam_games.csv\")\n",
    "#     return game_df"
   ]
  },
  {
   "cell_type": "code",
   "execution_count": 23,
   "id": "imported-afternoon",
   "metadata": {
    "ExecuteTime": {
     "end_time": "2021-02-24T13:42:04.584728Z",
     "start_time": "2021-02-24T13:42:04.582470Z"
    }
   },
   "outputs": [],
   "source": [
    "# user_df = get_user_data_steam()\n",
    "# game_df = get_game_data_steam()\n",
    "# user_df"
   ]
  },
  {
   "cell_type": "code",
   "execution_count": 24,
   "id": "contained-proportion",
   "metadata": {
    "ExecuteTime": {
     "end_time": "2021-02-24T13:42:08.033705Z",
     "start_time": "2021-02-24T13:42:06.879426Z"
    },
    "scrolled": true
   },
   "outputs": [
    {
     "data": {
      "text/html": [
       "<div>\n",
       "<style scoped>\n",
       "    .dataframe tbody tr th:only-of-type {\n",
       "        vertical-align: middle;\n",
       "    }\n",
       "\n",
       "    .dataframe tbody tr th {\n",
       "        vertical-align: top;\n",
       "    }\n",
       "\n",
       "    .dataframe thead th {\n",
       "        text-align: right;\n",
       "    }\n",
       "</style>\n",
       "<table border=\"1\" class=\"dataframe\">\n",
       "  <thead>\n",
       "    <tr style=\"text-align: right;\">\n",
       "      <th></th>\n",
       "      <th>url</th>\n",
       "      <th>types</th>\n",
       "      <th>name</th>\n",
       "      <th>desc_snippet</th>\n",
       "      <th>recent_reviews</th>\n",
       "      <th>all_reviews</th>\n",
       "      <th>release_date</th>\n",
       "      <th>developer</th>\n",
       "      <th>publisher</th>\n",
       "      <th>popular_tags</th>\n",
       "      <th>game_details</th>\n",
       "      <th>languages</th>\n",
       "      <th>achievements</th>\n",
       "      <th>genre</th>\n",
       "      <th>game_description</th>\n",
       "      <th>mature_content</th>\n",
       "      <th>minimum_requirements</th>\n",
       "      <th>recommended_requirements</th>\n",
       "      <th>original_price</th>\n",
       "      <th>discount_price</th>\n",
       "    </tr>\n",
       "  </thead>\n",
       "  <tbody>\n",
       "    <tr>\n",
       "      <th>0</th>\n",
       "      <td>https://store.steampowered.com/app/379720/DOOM/</td>\n",
       "      <td>app</td>\n",
       "      <td>DOOM</td>\n",
       "      <td>Now includes all three premium DLC packs (Unto...</td>\n",
       "      <td>Very Positive,(554),- 89% of the 554 user revi...</td>\n",
       "      <td>Very Positive,(42,550),- 92% of the 42,550 use...</td>\n",
       "      <td>May 12, 2016</td>\n",
       "      <td>id Software</td>\n",
       "      <td>Bethesda Softworks,Bethesda Softworks</td>\n",
       "      <td>FPS,Gore,Action,Demons,Shooter,First-Person,Gr...</td>\n",
       "      <td>Single-player,Multi-player,Co-op,Steam Achieve...</td>\n",
       "      <td>English,French,Italian,German,Spanish - Spain,...</td>\n",
       "      <td>54.0</td>\n",
       "      <td>Action</td>\n",
       "      <td>About This Game Developed by id software, the...</td>\n",
       "      <td>NaN</td>\n",
       "      <td>Minimum:,OS:,Windows 7/8.1/10 (64-bit versions...</td>\n",
       "      <td>Recommended:,OS:,Windows 7/8.1/10 (64-bit vers...</td>\n",
       "      <td>$19.99</td>\n",
       "      <td>$14.99</td>\n",
       "    </tr>\n",
       "    <tr>\n",
       "      <th>1</th>\n",
       "      <td>https://store.steampowered.com/app/578080/PLAY...</td>\n",
       "      <td>app</td>\n",
       "      <td>PLAYERUNKNOWN'S BATTLEGROUNDS</td>\n",
       "      <td>PLAYERUNKNOWN'S BATTLEGROUNDS is a battle roya...</td>\n",
       "      <td>Mixed,(6,214),- 49% of the 6,214 user reviews ...</td>\n",
       "      <td>Mixed,(836,608),- 49% of the 836,608 user revi...</td>\n",
       "      <td>Dec 21, 2017</td>\n",
       "      <td>PUBG Corporation</td>\n",
       "      <td>PUBG Corporation,PUBG Corporation</td>\n",
       "      <td>Survival,Shooter,Multiplayer,Battle Royale,PvP...</td>\n",
       "      <td>Multi-player,Online Multi-Player,Stats</td>\n",
       "      <td>English,Korean,Simplified Chinese,French,Germa...</td>\n",
       "      <td>37.0</td>\n",
       "      <td>Action,Adventure,Massively Multiplayer</td>\n",
       "      <td>About This Game  PLAYERUNKNOWN'S BATTLEGROUND...</td>\n",
       "      <td>Mature Content Description  The developers de...</td>\n",
       "      <td>Minimum:,Requires a 64-bit processor and opera...</td>\n",
       "      <td>Recommended:,Requires a 64-bit processor and o...</td>\n",
       "      <td>$29.99</td>\n",
       "      <td>NaN</td>\n",
       "    </tr>\n",
       "    <tr>\n",
       "      <th>2</th>\n",
       "      <td>https://store.steampowered.com/app/637090/BATT...</td>\n",
       "      <td>app</td>\n",
       "      <td>BATTLETECH</td>\n",
       "      <td>Take command of your own mercenary outfit of '...</td>\n",
       "      <td>Mixed,(166),- 54% of the 166 user reviews in t...</td>\n",
       "      <td>Mostly Positive,(7,030),- 71% of the 7,030 use...</td>\n",
       "      <td>Apr 24, 2018</td>\n",
       "      <td>Harebrained Schemes</td>\n",
       "      <td>Paradox Interactive,Paradox Interactive</td>\n",
       "      <td>Mechs,Strategy,Turn-Based,Turn-Based Tactics,S...</td>\n",
       "      <td>Single-player,Multi-player,Online Multi-Player...</td>\n",
       "      <td>English,French,German,Russian</td>\n",
       "      <td>128.0</td>\n",
       "      <td>Action,Adventure,Strategy</td>\n",
       "      <td>About This Game  From original BATTLETECH/Mec...</td>\n",
       "      <td>NaN</td>\n",
       "      <td>Minimum:,Requires a 64-bit processor and opera...</td>\n",
       "      <td>Recommended:,Requires a 64-bit processor and o...</td>\n",
       "      <td>$39.99</td>\n",
       "      <td>NaN</td>\n",
       "    </tr>\n",
       "    <tr>\n",
       "      <th>3</th>\n",
       "      <td>https://store.steampowered.com/app/221100/DayZ/</td>\n",
       "      <td>app</td>\n",
       "      <td>DayZ</td>\n",
       "      <td>The post-soviet country of Chernarus is struck...</td>\n",
       "      <td>Mixed,(932),- 57% of the 932 user reviews in t...</td>\n",
       "      <td>Mixed,(167,115),- 61% of the 167,115 user revi...</td>\n",
       "      <td>Dec 13, 2018</td>\n",
       "      <td>Bohemia Interactive</td>\n",
       "      <td>Bohemia Interactive,Bohemia Interactive</td>\n",
       "      <td>Survival,Zombies,Open World,Multiplayer,PvP,Ma...</td>\n",
       "      <td>Multi-player,Online Multi-Player,Steam Worksho...</td>\n",
       "      <td>English,French,Italian,German,Spanish - Spain,...</td>\n",
       "      <td>NaN</td>\n",
       "      <td>Action,Adventure,Massively Multiplayer</td>\n",
       "      <td>About This Game The post-soviet country of Ch...</td>\n",
       "      <td>NaN</td>\n",
       "      <td>Minimum:,OS:,Windows 7/8.1 64-bit,Processor:,I...</td>\n",
       "      <td>Recommended:,OS:,Windows 10 64-bit,Processor:,...</td>\n",
       "      <td>$44.99</td>\n",
       "      <td>NaN</td>\n",
       "    </tr>\n",
       "    <tr>\n",
       "      <th>4</th>\n",
       "      <td>https://store.steampowered.com/app/8500/EVE_On...</td>\n",
       "      <td>app</td>\n",
       "      <td>EVE Online</td>\n",
       "      <td>EVE Online is a community-driven spaceship MMO...</td>\n",
       "      <td>Mixed,(287),- 54% of the 287 user reviews in t...</td>\n",
       "      <td>Mostly Positive,(11,481),- 74% of the 11,481 u...</td>\n",
       "      <td>May 6, 2003</td>\n",
       "      <td>CCP</td>\n",
       "      <td>CCP,CCP</td>\n",
       "      <td>Space,Massively Multiplayer,Sci-fi,Sandbox,MMO...</td>\n",
       "      <td>Multi-player,Online Multi-Player,MMO,Co-op,Onl...</td>\n",
       "      <td>English,German,Russian,French</td>\n",
       "      <td>NaN</td>\n",
       "      <td>Action,Free to Play,Massively Multiplayer,RPG,...</td>\n",
       "      <td>About This Game</td>\n",
       "      <td>NaN</td>\n",
       "      <td>Minimum:,OS:,Windows 7,Processor:,Intel Dual C...</td>\n",
       "      <td>Recommended:,OS:,Windows 10,Processor:,Intel i...</td>\n",
       "      <td>Free</td>\n",
       "      <td>NaN</td>\n",
       "    </tr>\n",
       "    <tr>\n",
       "      <th>...</th>\n",
       "      <td>...</td>\n",
       "      <td>...</td>\n",
       "      <td>...</td>\n",
       "      <td>...</td>\n",
       "      <td>...</td>\n",
       "      <td>...</td>\n",
       "      <td>...</td>\n",
       "      <td>...</td>\n",
       "      <td>...</td>\n",
       "      <td>...</td>\n",
       "      <td>...</td>\n",
       "      <td>...</td>\n",
       "      <td>...</td>\n",
       "      <td>...</td>\n",
       "      <td>...</td>\n",
       "      <td>...</td>\n",
       "      <td>...</td>\n",
       "      <td>...</td>\n",
       "      <td>...</td>\n",
       "      <td>...</td>\n",
       "    </tr>\n",
       "    <tr>\n",
       "      <th>40828</th>\n",
       "      <td>https://store.steampowered.com/app/899836/Rock...</td>\n",
       "      <td>app</td>\n",
       "      <td>Rocksmith® 2014 Edition – Remastered – Sabaton...</td>\n",
       "      <td>NaN</td>\n",
       "      <td>NaN</td>\n",
       "      <td>NaN</td>\n",
       "      <td>Feb 12, 2019</td>\n",
       "      <td>Ubisoft - San Francisco</td>\n",
       "      <td>NaN</td>\n",
       "      <td>Casual,Simulation</td>\n",
       "      <td>Single-player,Shared/Split Screen,Downloadable...</td>\n",
       "      <td>English,German,French,Italian,Spanish - Spain,...</td>\n",
       "      <td>NaN</td>\n",
       "      <td>Casual,Simulation</td>\n",
       "      <td>About This Content Play \"Ghost Division\" by S...</td>\n",
       "      <td>NaN</td>\n",
       "      <td>Minimum:,OS:,Windows Vista, Windows 7, Windows...</td>\n",
       "      <td>Recommended:,OS:,Windows Vista, Windows 7, Win...</td>\n",
       "      <td>$2.99</td>\n",
       "      <td>NaN</td>\n",
       "    </tr>\n",
       "    <tr>\n",
       "      <th>40829</th>\n",
       "      <td>https://store.steampowered.com/app/899832/Rock...</td>\n",
       "      <td>app</td>\n",
       "      <td>Rocksmith® 2014 Edition – Remastered – Stone T...</td>\n",
       "      <td>NaN</td>\n",
       "      <td>NaN</td>\n",
       "      <td>NaN</td>\n",
       "      <td>Feb 5, 2019</td>\n",
       "      <td>Ubisoft - San Francisco</td>\n",
       "      <td>NaN</td>\n",
       "      <td>Casual,Simulation</td>\n",
       "      <td>Single-player,Shared/Split Screen,Downloadable...</td>\n",
       "      <td>English,German,French,Italian,Spanish - Spain,...</td>\n",
       "      <td>NaN</td>\n",
       "      <td>Casual,Simulation</td>\n",
       "      <td>About This Content Play \"Trippin’ on a Hole i...</td>\n",
       "      <td>NaN</td>\n",
       "      <td>Minimum:,OS:,Windows Vista, Windows 7, Windows...</td>\n",
       "      <td>Recommended:,OS:,Windows Vista, Windows 7, Win...</td>\n",
       "      <td>$2.99</td>\n",
       "      <td>NaN</td>\n",
       "    </tr>\n",
       "    <tr>\n",
       "      <th>40830</th>\n",
       "      <td>https://store.steampowered.com/app/906840/Fant...</td>\n",
       "      <td>app</td>\n",
       "      <td>Fantasy Grounds - Quests of Doom 4: A Midnight...</td>\n",
       "      <td>NaN</td>\n",
       "      <td>NaN</td>\n",
       "      <td>NaN</td>\n",
       "      <td>Jul 31, 2018</td>\n",
       "      <td>SmiteWorks USA, LLC</td>\n",
       "      <td>NaN</td>\n",
       "      <td>RPG,Indie,Strategy,Software,Turn-Based,Fantasy...</td>\n",
       "      <td>Multi-player,Co-op,Cross-Platform Multiplayer,...</td>\n",
       "      <td>English</td>\n",
       "      <td>NaN</td>\n",
       "      <td>Indie,RPG,Strategy</td>\n",
       "      <td>About This Content  Quests of Doom 4: A Midni...</td>\n",
       "      <td>NaN</td>\n",
       "      <td>Minimum:,OS:,Windows 7x , 8x or 10x,Processor:...</td>\n",
       "      <td>Recommended:,OS:,Windows 7x , 8x or 10x,Proces...</td>\n",
       "      <td>$7.99</td>\n",
       "      <td>NaN</td>\n",
       "    </tr>\n",
       "    <tr>\n",
       "      <th>40831</th>\n",
       "      <td>https://store.steampowered.com/app/906635/Mega...</td>\n",
       "      <td>app</td>\n",
       "      <td>Mega Man X5 Sound Collection</td>\n",
       "      <td>NaN</td>\n",
       "      <td>NaN</td>\n",
       "      <td>NaN</td>\n",
       "      <td>Jul 24, 2018</td>\n",
       "      <td>CAPCOM CO., LTD</td>\n",
       "      <td>CAPCOM CO., LTD,CAPCOM CO., LTD</td>\n",
       "      <td>Action</td>\n",
       "      <td>Single-player,Downloadable Content,Steam Achie...</td>\n",
       "      <td>English,French,Italian,German,Spanish - Spain,...</td>\n",
       "      <td>NaN</td>\n",
       "      <td>Action</td>\n",
       "      <td>About This Content Get equipped with the stun...</td>\n",
       "      <td>NaN</td>\n",
       "      <td>Minimum:,OS:,WINDOWS® 7 (64bit),Processor:,Int...</td>\n",
       "      <td>Recommended:,OS:,WINDOWS®10 (64bit),Processor:...</td>\n",
       "      <td>$9.99</td>\n",
       "      <td>NaN</td>\n",
       "    </tr>\n",
       "    <tr>\n",
       "      <th>40832</th>\n",
       "      <td>https://store.steampowered.com/app/908000/Stor...</td>\n",
       "      <td>app</td>\n",
       "      <td>Stories In Stone</td>\n",
       "      <td>An RPG about a tribe exploring an ancient worl...</td>\n",
       "      <td>NaN</td>\n",
       "      <td>NaN</td>\n",
       "      <td>Aug 8, 2018</td>\n",
       "      <td>16 Bit Psych,Kyle B</td>\n",
       "      <td>Self-Publish,Self-Publish</td>\n",
       "      <td>RPG,Adventure</td>\n",
       "      <td>Single-player,Partial Controller Support,Profi...</td>\n",
       "      <td>English</td>\n",
       "      <td>NaN</td>\n",
       "      <td>Adventure,RPG</td>\n",
       "      <td>About This Game  An RPG about a tribe explori...</td>\n",
       "      <td>NaN</td>\n",
       "      <td>NaN</td>\n",
       "      <td>NaN</td>\n",
       "      <td>$4.99</td>\n",
       "      <td>$2.80</td>\n",
       "    </tr>\n",
       "  </tbody>\n",
       "</table>\n",
       "<p>40833 rows × 20 columns</p>\n",
       "</div>"
      ],
      "text/plain": [
       "                                                     url types  \\\n",
       "0        https://store.steampowered.com/app/379720/DOOM/   app   \n",
       "1      https://store.steampowered.com/app/578080/PLAY...   app   \n",
       "2      https://store.steampowered.com/app/637090/BATT...   app   \n",
       "3        https://store.steampowered.com/app/221100/DayZ/   app   \n",
       "4      https://store.steampowered.com/app/8500/EVE_On...   app   \n",
       "...                                                  ...   ...   \n",
       "40828  https://store.steampowered.com/app/899836/Rock...   app   \n",
       "40829  https://store.steampowered.com/app/899832/Rock...   app   \n",
       "40830  https://store.steampowered.com/app/906840/Fant...   app   \n",
       "40831  https://store.steampowered.com/app/906635/Mega...   app   \n",
       "40832  https://store.steampowered.com/app/908000/Stor...   app   \n",
       "\n",
       "                                                    name  \\\n",
       "0                                                   DOOM   \n",
       "1                          PLAYERUNKNOWN'S BATTLEGROUNDS   \n",
       "2                                             BATTLETECH   \n",
       "3                                                   DayZ   \n",
       "4                                             EVE Online   \n",
       "...                                                  ...   \n",
       "40828  Rocksmith® 2014 Edition – Remastered – Sabaton...   \n",
       "40829  Rocksmith® 2014 Edition – Remastered – Stone T...   \n",
       "40830  Fantasy Grounds - Quests of Doom 4: A Midnight...   \n",
       "40831                       Mega Man X5 Sound Collection   \n",
       "40832                                   Stories In Stone   \n",
       "\n",
       "                                            desc_snippet  \\\n",
       "0      Now includes all three premium DLC packs (Unto...   \n",
       "1      PLAYERUNKNOWN'S BATTLEGROUNDS is a battle roya...   \n",
       "2      Take command of your own mercenary outfit of '...   \n",
       "3      The post-soviet country of Chernarus is struck...   \n",
       "4      EVE Online is a community-driven spaceship MMO...   \n",
       "...                                                  ...   \n",
       "40828                                                NaN   \n",
       "40829                                                NaN   \n",
       "40830                                                NaN   \n",
       "40831                                                NaN   \n",
       "40832  An RPG about a tribe exploring an ancient worl...   \n",
       "\n",
       "                                          recent_reviews  \\\n",
       "0      Very Positive,(554),- 89% of the 554 user revi...   \n",
       "1      Mixed,(6,214),- 49% of the 6,214 user reviews ...   \n",
       "2      Mixed,(166),- 54% of the 166 user reviews in t...   \n",
       "3      Mixed,(932),- 57% of the 932 user reviews in t...   \n",
       "4      Mixed,(287),- 54% of the 287 user reviews in t...   \n",
       "...                                                  ...   \n",
       "40828                                                NaN   \n",
       "40829                                                NaN   \n",
       "40830                                                NaN   \n",
       "40831                                                NaN   \n",
       "40832                                                NaN   \n",
       "\n",
       "                                             all_reviews  release_date  \\\n",
       "0      Very Positive,(42,550),- 92% of the 42,550 use...  May 12, 2016   \n",
       "1      Mixed,(836,608),- 49% of the 836,608 user revi...  Dec 21, 2017   \n",
       "2      Mostly Positive,(7,030),- 71% of the 7,030 use...  Apr 24, 2018   \n",
       "3      Mixed,(167,115),- 61% of the 167,115 user revi...  Dec 13, 2018   \n",
       "4      Mostly Positive,(11,481),- 74% of the 11,481 u...   May 6, 2003   \n",
       "...                                                  ...           ...   \n",
       "40828                                                NaN  Feb 12, 2019   \n",
       "40829                                                NaN   Feb 5, 2019   \n",
       "40830                                                NaN  Jul 31, 2018   \n",
       "40831                                                NaN  Jul 24, 2018   \n",
       "40832                                                NaN   Aug 8, 2018   \n",
       "\n",
       "                     developer                                publisher  \\\n",
       "0                  id Software    Bethesda Softworks,Bethesda Softworks   \n",
       "1             PUBG Corporation        PUBG Corporation,PUBG Corporation   \n",
       "2          Harebrained Schemes  Paradox Interactive,Paradox Interactive   \n",
       "3          Bohemia Interactive  Bohemia Interactive,Bohemia Interactive   \n",
       "4                          CCP                                  CCP,CCP   \n",
       "...                        ...                                      ...   \n",
       "40828  Ubisoft - San Francisco                                      NaN   \n",
       "40829  Ubisoft - San Francisco                                      NaN   \n",
       "40830      SmiteWorks USA, LLC                                      NaN   \n",
       "40831          CAPCOM CO., LTD          CAPCOM CO., LTD,CAPCOM CO., LTD   \n",
       "40832      16 Bit Psych,Kyle B                Self-Publish,Self-Publish   \n",
       "\n",
       "                                            popular_tags  \\\n",
       "0      FPS,Gore,Action,Demons,Shooter,First-Person,Gr...   \n",
       "1      Survival,Shooter,Multiplayer,Battle Royale,PvP...   \n",
       "2      Mechs,Strategy,Turn-Based,Turn-Based Tactics,S...   \n",
       "3      Survival,Zombies,Open World,Multiplayer,PvP,Ma...   \n",
       "4      Space,Massively Multiplayer,Sci-fi,Sandbox,MMO...   \n",
       "...                                                  ...   \n",
       "40828                                  Casual,Simulation   \n",
       "40829                                  Casual,Simulation   \n",
       "40830  RPG,Indie,Strategy,Software,Turn-Based,Fantasy...   \n",
       "40831                                             Action   \n",
       "40832                                      RPG,Adventure   \n",
       "\n",
       "                                            game_details  \\\n",
       "0      Single-player,Multi-player,Co-op,Steam Achieve...   \n",
       "1                 Multi-player,Online Multi-Player,Stats   \n",
       "2      Single-player,Multi-player,Online Multi-Player...   \n",
       "3      Multi-player,Online Multi-Player,Steam Worksho...   \n",
       "4      Multi-player,Online Multi-Player,MMO,Co-op,Onl...   \n",
       "...                                                  ...   \n",
       "40828  Single-player,Shared/Split Screen,Downloadable...   \n",
       "40829  Single-player,Shared/Split Screen,Downloadable...   \n",
       "40830  Multi-player,Co-op,Cross-Platform Multiplayer,...   \n",
       "40831  Single-player,Downloadable Content,Steam Achie...   \n",
       "40832  Single-player,Partial Controller Support,Profi...   \n",
       "\n",
       "                                               languages  achievements  \\\n",
       "0      English,French,Italian,German,Spanish - Spain,...          54.0   \n",
       "1      English,Korean,Simplified Chinese,French,Germa...          37.0   \n",
       "2                          English,French,German,Russian         128.0   \n",
       "3      English,French,Italian,German,Spanish - Spain,...           NaN   \n",
       "4                          English,German,Russian,French           NaN   \n",
       "...                                                  ...           ...   \n",
       "40828  English,German,French,Italian,Spanish - Spain,...           NaN   \n",
       "40829  English,German,French,Italian,Spanish - Spain,...           NaN   \n",
       "40830                                            English           NaN   \n",
       "40831  English,French,Italian,German,Spanish - Spain,...           NaN   \n",
       "40832                                            English           NaN   \n",
       "\n",
       "                                                   genre  \\\n",
       "0                                                 Action   \n",
       "1                 Action,Adventure,Massively Multiplayer   \n",
       "2                              Action,Adventure,Strategy   \n",
       "3                 Action,Adventure,Massively Multiplayer   \n",
       "4      Action,Free to Play,Massively Multiplayer,RPG,...   \n",
       "...                                                  ...   \n",
       "40828                                  Casual,Simulation   \n",
       "40829                                  Casual,Simulation   \n",
       "40830                                 Indie,RPG,Strategy   \n",
       "40831                                             Action   \n",
       "40832                                      Adventure,RPG   \n",
       "\n",
       "                                        game_description  \\\n",
       "0       About This Game Developed by id software, the...   \n",
       "1       About This Game  PLAYERUNKNOWN'S BATTLEGROUND...   \n",
       "2       About This Game  From original BATTLETECH/Mec...   \n",
       "3       About This Game The post-soviet country of Ch...   \n",
       "4                                      About This Game     \n",
       "...                                                  ...   \n",
       "40828   About This Content Play \"Ghost Division\" by S...   \n",
       "40829   About This Content Play \"Trippin’ on a Hole i...   \n",
       "40830   About This Content  Quests of Doom 4: A Midni...   \n",
       "40831   About This Content Get equipped with the stun...   \n",
       "40832   About This Game  An RPG about a tribe explori...   \n",
       "\n",
       "                                          mature_content  \\\n",
       "0                                                    NaN   \n",
       "1       Mature Content Description  The developers de...   \n",
       "2                                                    NaN   \n",
       "3                                                    NaN   \n",
       "4                                                    NaN   \n",
       "...                                                  ...   \n",
       "40828                                                NaN   \n",
       "40829                                                NaN   \n",
       "40830                                                NaN   \n",
       "40831                                                NaN   \n",
       "40832                                                NaN   \n",
       "\n",
       "                                    minimum_requirements  \\\n",
       "0      Minimum:,OS:,Windows 7/8.1/10 (64-bit versions...   \n",
       "1      Minimum:,Requires a 64-bit processor and opera...   \n",
       "2      Minimum:,Requires a 64-bit processor and opera...   \n",
       "3      Minimum:,OS:,Windows 7/8.1 64-bit,Processor:,I...   \n",
       "4      Minimum:,OS:,Windows 7,Processor:,Intel Dual C...   \n",
       "...                                                  ...   \n",
       "40828  Minimum:,OS:,Windows Vista, Windows 7, Windows...   \n",
       "40829  Minimum:,OS:,Windows Vista, Windows 7, Windows...   \n",
       "40830  Minimum:,OS:,Windows 7x , 8x or 10x,Processor:...   \n",
       "40831  Minimum:,OS:,WINDOWS® 7 (64bit),Processor:,Int...   \n",
       "40832                                                NaN   \n",
       "\n",
       "                                recommended_requirements original_price  \\\n",
       "0      Recommended:,OS:,Windows 7/8.1/10 (64-bit vers...         $19.99   \n",
       "1      Recommended:,Requires a 64-bit processor and o...         $29.99   \n",
       "2      Recommended:,Requires a 64-bit processor and o...         $39.99   \n",
       "3      Recommended:,OS:,Windows 10 64-bit,Processor:,...         $44.99   \n",
       "4      Recommended:,OS:,Windows 10,Processor:,Intel i...           Free   \n",
       "...                                                  ...            ...   \n",
       "40828  Recommended:,OS:,Windows Vista, Windows 7, Win...          $2.99   \n",
       "40829  Recommended:,OS:,Windows Vista, Windows 7, Win...          $2.99   \n",
       "40830  Recommended:,OS:,Windows 7x , 8x or 10x,Proces...          $7.99   \n",
       "40831  Recommended:,OS:,WINDOWS®10 (64bit),Processor:...          $9.99   \n",
       "40832                                                NaN          $4.99   \n",
       "\n",
       "      discount_price  \n",
       "0             $14.99  \n",
       "1                NaN  \n",
       "2                NaN  \n",
       "3                NaN  \n",
       "4                NaN  \n",
       "...              ...  \n",
       "40828            NaN  \n",
       "40829            NaN  \n",
       "40830            NaN  \n",
       "40831            NaN  \n",
       "40832          $2.80  \n",
       "\n",
       "[40833 rows x 20 columns]"
      ]
     },
     "execution_count": 24,
     "metadata": {},
     "output_type": "execute_result"
    }
   ],
   "source": [
    "game_df = get_game_data_steam()\n",
    "game_df"
   ]
  },
  {
   "cell_type": "code",
   "execution_count": 25,
   "id": "pursuant-ukraine",
   "metadata": {
    "ExecuteTime": {
     "end_time": "2021-02-24T13:42:10.334606Z",
     "start_time": "2021-02-24T13:42:10.330379Z"
    }
   },
   "outputs": [],
   "source": [
    "def get_user_games_data_rawg():\n",
    "    user_game_df = pd.read_csv(\"../raw_data/rawg_user_games.csv\")\n",
    "    return user_game_df\n",
    "\n",
    "def get_game_data_rawg():\n",
    "    game_df = pd.read_csv(\"../raw_data/rawg_games.csv\")\n",
    "    return game_df\n",
    "                               \n",
    "def get_user_data_rawg():\n",
    "    user_df = pd.read_csv(\"../raw_data/rawg_users.csv\")\n",
    "    return user_df"
   ]
  },
  {
   "cell_type": "code",
   "execution_count": 26,
   "id": "cognitive-galaxy",
   "metadata": {
    "ExecuteTime": {
     "end_time": "2021-02-24T13:42:13.125513Z",
     "start_time": "2021-02-24T13:42:12.594496Z"
    }
   },
   "outputs": [],
   "source": [
    "rawg_user_game_df = get_user_games_data_rawg()\n",
    "rawg_game_df = get_game_data_rawg()\n",
    "rawg_user_df = get_user_data_rawg()"
   ]
  },
  {
   "cell_type": "code",
   "execution_count": 27,
   "id": "together-premiere",
   "metadata": {
    "ExecuteTime": {
     "end_time": "2021-02-24T13:42:15.375597Z",
     "start_time": "2021-02-24T13:42:15.354067Z"
    }
   },
   "outputs": [
    {
     "data": {
      "text/html": [
       "<div>\n",
       "<style scoped>\n",
       "    .dataframe tbody tr th:only-of-type {\n",
       "        vertical-align: middle;\n",
       "    }\n",
       "\n",
       "    .dataframe tbody tr th {\n",
       "        vertical-align: top;\n",
       "    }\n",
       "\n",
       "    .dataframe thead th {\n",
       "        text-align: right;\n",
       "    }\n",
       "</style>\n",
       "<table border=\"1\" class=\"dataframe\">\n",
       "  <thead>\n",
       "    <tr style=\"text-align: right;\">\n",
       "      <th></th>\n",
       "      <th>Unnamed: 0</th>\n",
       "      <th>user_id</th>\n",
       "      <th>game_id</th>\n",
       "      <th>game_slug</th>\n",
       "      <th>game_name</th>\n",
       "      <th>user_rating</th>\n",
       "      <th>metacritic</th>\n",
       "      <th>rawg_rating</th>\n",
       "      <th>released</th>\n",
       "      <th>play_time</th>\n",
       "    </tr>\n",
       "  </thead>\n",
       "  <tbody>\n",
       "    <tr>\n",
       "      <th>0</th>\n",
       "      <td>0</td>\n",
       "      <td>3</td>\n",
       "      <td>150724</td>\n",
       "      <td>game-500</td>\n",
       "      <td>......</td>\n",
       "      <td>4</td>\n",
       "      <td>NaN</td>\n",
       "      <td>0.00</td>\n",
       "      <td>2016-11-12</td>\n",
       "      <td>0</td>\n",
       "    </tr>\n",
       "    <tr>\n",
       "      <th>1</th>\n",
       "      <td>1</td>\n",
       "      <td>3</td>\n",
       "      <td>47782</td>\n",
       "      <td>polyfauna</td>\n",
       "      <td>PolyFauna</td>\n",
       "      <td>5</td>\n",
       "      <td>NaN</td>\n",
       "      <td>0.00</td>\n",
       "      <td>2014-01-12</td>\n",
       "      <td>0</td>\n",
       "    </tr>\n",
       "    <tr>\n",
       "      <th>2</th>\n",
       "      <td>2</td>\n",
       "      <td>3</td>\n",
       "      <td>57224</td>\n",
       "      <td>tiny-toon-adventures-busters-hidden-treasure</td>\n",
       "      <td>Tiny Toon Adventures: Buster's Hidden Treasure</td>\n",
       "      <td>5</td>\n",
       "      <td>NaN</td>\n",
       "      <td>4.18</td>\n",
       "      <td>1993-02-07</td>\n",
       "      <td>0</td>\n",
       "    </tr>\n",
       "    <tr>\n",
       "      <th>3</th>\n",
       "      <td>3</td>\n",
       "      <td>3</td>\n",
       "      <td>31033</td>\n",
       "      <td>stronghold-crusader</td>\n",
       "      <td>Stronghold: Crusader</td>\n",
       "      <td>5</td>\n",
       "      <td>78.0</td>\n",
       "      <td>4.35</td>\n",
       "      <td>2002-09-27</td>\n",
       "      <td>0</td>\n",
       "    </tr>\n",
       "    <tr>\n",
       "      <th>4</th>\n",
       "      <td>4</td>\n",
       "      <td>3</td>\n",
       "      <td>35403</td>\n",
       "      <td>space-rangers-2-rise-of-the-dominators</td>\n",
       "      <td>Space Rangers 2: Rise of the Dominators</td>\n",
       "      <td>4</td>\n",
       "      <td>NaN</td>\n",
       "      <td>4.31</td>\n",
       "      <td>2004-11-26</td>\n",
       "      <td>0</td>\n",
       "    </tr>\n",
       "    <tr>\n",
       "      <th>...</th>\n",
       "      <td>...</td>\n",
       "      <td>...</td>\n",
       "      <td>...</td>\n",
       "      <td>...</td>\n",
       "      <td>...</td>\n",
       "      <td>...</td>\n",
       "      <td>...</td>\n",
       "      <td>...</td>\n",
       "      <td>...</td>\n",
       "      <td>...</td>\n",
       "    </tr>\n",
       "    <tr>\n",
       "      <th>266135</th>\n",
       "      <td>266135</td>\n",
       "      <td>999</td>\n",
       "      <td>18745</td>\n",
       "      <td>way-of-gold-and-steel</td>\n",
       "      <td>Way of Gold and Steel</td>\n",
       "      <td>0</td>\n",
       "      <td>NaN</td>\n",
       "      <td>0.00</td>\n",
       "      <td>2015-08-17</td>\n",
       "      <td>4</td>\n",
       "    </tr>\n",
       "    <tr>\n",
       "      <th>266136</th>\n",
       "      <td>266136</td>\n",
       "      <td>999</td>\n",
       "      <td>18763</td>\n",
       "      <td>stardrive-2</td>\n",
       "      <td>StarDrive 2</td>\n",
       "      <td>0</td>\n",
       "      <td>70.0</td>\n",
       "      <td>3.29</td>\n",
       "      <td>2015-04-09</td>\n",
       "      <td>3</td>\n",
       "    </tr>\n",
       "    <tr>\n",
       "      <th>266137</th>\n",
       "      <td>266137</td>\n",
       "      <td>999</td>\n",
       "      <td>3436</td>\n",
       "      <td>super-stardust-ultra</td>\n",
       "      <td>Super Stardust Ultra</td>\n",
       "      <td>0</td>\n",
       "      <td>NaN</td>\n",
       "      <td>4.11</td>\n",
       "      <td>2015-02-10</td>\n",
       "      <td>0</td>\n",
       "    </tr>\n",
       "    <tr>\n",
       "      <th>266138</th>\n",
       "      <td>266138</td>\n",
       "      <td>999</td>\n",
       "      <td>28449</td>\n",
       "      <td>magic-2012</td>\n",
       "      <td>Magic 2012</td>\n",
       "      <td>0</td>\n",
       "      <td>NaN</td>\n",
       "      <td>4.00</td>\n",
       "      <td>2010-12-20</td>\n",
       "      <td>0</td>\n",
       "    </tr>\n",
       "    <tr>\n",
       "      <th>266139</th>\n",
       "      <td>266139</td>\n",
       "      <td>999</td>\n",
       "      <td>5380</td>\n",
       "      <td>comet-crash</td>\n",
       "      <td>Comet Crash</td>\n",
       "      <td>0</td>\n",
       "      <td>NaN</td>\n",
       "      <td>2.89</td>\n",
       "      <td>2009-04-02</td>\n",
       "      <td>0</td>\n",
       "    </tr>\n",
       "  </tbody>\n",
       "</table>\n",
       "<p>266140 rows × 10 columns</p>\n",
       "</div>"
      ],
      "text/plain": [
       "        Unnamed: 0  user_id  game_id  \\\n",
       "0                0        3   150724   \n",
       "1                1        3    47782   \n",
       "2                2        3    57224   \n",
       "3                3        3    31033   \n",
       "4                4        3    35403   \n",
       "...            ...      ...      ...   \n",
       "266135      266135      999    18745   \n",
       "266136      266136      999    18763   \n",
       "266137      266137      999     3436   \n",
       "266138      266138      999    28449   \n",
       "266139      266139      999     5380   \n",
       "\n",
       "                                           game_slug  \\\n",
       "0                                           game-500   \n",
       "1                                          polyfauna   \n",
       "2       tiny-toon-adventures-busters-hidden-treasure   \n",
       "3                                stronghold-crusader   \n",
       "4             space-rangers-2-rise-of-the-dominators   \n",
       "...                                              ...   \n",
       "266135                         way-of-gold-and-steel   \n",
       "266136                                   stardrive-2   \n",
       "266137                          super-stardust-ultra   \n",
       "266138                                    magic-2012   \n",
       "266139                                   comet-crash   \n",
       "\n",
       "                                             game_name  user_rating  \\\n",
       "0                                               ......            4   \n",
       "1                                            PolyFauna            5   \n",
       "2       Tiny Toon Adventures: Buster's Hidden Treasure            5   \n",
       "3                                 Stronghold: Crusader            5   \n",
       "4              Space Rangers 2: Rise of the Dominators            4   \n",
       "...                                                ...          ...   \n",
       "266135                           Way of Gold and Steel            0   \n",
       "266136                                     StarDrive 2            0   \n",
       "266137                            Super Stardust Ultra            0   \n",
       "266138                                      Magic 2012            0   \n",
       "266139                                     Comet Crash            0   \n",
       "\n",
       "        metacritic  rawg_rating    released  play_time  \n",
       "0              NaN         0.00  2016-11-12          0  \n",
       "1              NaN         0.00  2014-01-12          0  \n",
       "2              NaN         4.18  1993-02-07          0  \n",
       "3             78.0         4.35  2002-09-27          0  \n",
       "4              NaN         4.31  2004-11-26          0  \n",
       "...            ...          ...         ...        ...  \n",
       "266135         NaN         0.00  2015-08-17          4  \n",
       "266136        70.0         3.29  2015-04-09          3  \n",
       "266137         NaN         4.11  2015-02-10          0  \n",
       "266138         NaN         4.00  2010-12-20          0  \n",
       "266139         NaN         2.89  2009-04-02          0  \n",
       "\n",
       "[266140 rows x 10 columns]"
      ]
     },
     "execution_count": 27,
     "metadata": {},
     "output_type": "execute_result"
    }
   ],
   "source": [
    "rawg_user_game_df"
   ]
  },
  {
   "cell_type": "code",
   "execution_count": 28,
   "id": "gorgeous-neutral",
   "metadata": {
    "ExecuteTime": {
     "end_time": "2021-02-24T13:42:17.748262Z",
     "start_time": "2021-02-24T13:42:17.745649Z"
    }
   },
   "outputs": [],
   "source": [
    "# rawg_game_df"
   ]
  },
  {
   "cell_type": "code",
   "execution_count": 29,
   "id": "hungarian-weather",
   "metadata": {
    "ExecuteTime": {
     "end_time": "2021-02-24T13:42:20.149352Z",
     "start_time": "2021-02-24T13:42:20.146628Z"
    }
   },
   "outputs": [],
   "source": [
    "# rawg_user_df"
   ]
  },
  {
   "cell_type": "code",
   "execution_count": 30,
   "id": "third-height",
   "metadata": {
    "ExecuteTime": {
     "end_time": "2021-02-24T13:42:22.507492Z",
     "start_time": "2021-02-24T13:42:22.505229Z"
    }
   },
   "outputs": [],
   "source": [
    "# def transform_user_df(df):\n",
    "#     df['purchase'] = 0\n",
    "#     df['play'] = 0\n",
    "#     for i in range(len(df)):\n",
    "#         if df['status'][i] == 'purchase':\n",
    "#             purchase_number = df['hour'][i]\n",
    "#             df['purchase'][i] = purchase_number\n",
    "#     for i in range(len(df)):    \n",
    "#         if df['status'][i] == 'play':\n",
    "#             play_hour = df['hour'][i]\n",
    "#             df['play'][i] = play_hour\n",
    "#     df = df.drop(columns=['hour','status','4'])\n",
    "#     df_group_user_and_game = df.groupby(by=['user', 'game'], ).sum()\n",
    "#     ungroup_user_df = df_group_user_and_game.reset_index()\n",
    "#     return ungroup_user_df"
   ]
  },
  {
   "cell_type": "code",
   "execution_count": 31,
   "id": "average-italy",
   "metadata": {
    "ExecuteTime": {
     "end_time": "2021-02-24T13:42:24.848277Z",
     "start_time": "2021-02-24T13:42:24.846190Z"
    }
   },
   "outputs": [],
   "source": [
    "# updated_user_df = transform_user_df(user_df)\n",
    "# updated_user_df"
   ]
  },
  {
   "cell_type": "code",
   "execution_count": 40,
   "id": "given-istanbul",
   "metadata": {
    "ExecuteTime": {
     "end_time": "2021-02-24T13:48:43.181446Z",
     "start_time": "2021-02-24T13:48:43.175860Z"
    }
   },
   "outputs": [],
   "source": [
    "def transform_rawg_user_game_df(df):\n",
    "    df['purchase'] = 1\n",
    "    df = df[['user_id','game_id', 'game_name','purchase']]\n",
    "    df_group_user_and_game = df.groupby(by=['user_id','game_id', 'game_name']).sum()\n",
    "    ungroup_user_df = df_group_user_and_game.reset_index()\n",
    "    return ungroup_user_df"
   ]
  },
  {
   "cell_type": "code",
   "execution_count": 41,
   "id": "nominated-durham",
   "metadata": {
    "ExecuteTime": {
     "end_time": "2021-02-24T13:48:45.432541Z",
     "start_time": "2021-02-24T13:48:45.356493Z"
    }
   },
   "outputs": [
    {
     "data": {
      "text/html": [
       "<div>\n",
       "<style scoped>\n",
       "    .dataframe tbody tr th:only-of-type {\n",
       "        vertical-align: middle;\n",
       "    }\n",
       "\n",
       "    .dataframe tbody tr th {\n",
       "        vertical-align: top;\n",
       "    }\n",
       "\n",
       "    .dataframe thead th {\n",
       "        text-align: right;\n",
       "    }\n",
       "</style>\n",
       "<table border=\"1\" class=\"dataframe\">\n",
       "  <thead>\n",
       "    <tr style=\"text-align: right;\">\n",
       "      <th></th>\n",
       "      <th>user_id</th>\n",
       "      <th>game_id</th>\n",
       "      <th>game_name</th>\n",
       "      <th>purchase</th>\n",
       "    </tr>\n",
       "  </thead>\n",
       "  <tbody>\n",
       "    <tr>\n",
       "      <th>0</th>\n",
       "      <td>1</td>\n",
       "      <td>1175</td>\n",
       "      <td>Lost Frontier</td>\n",
       "      <td>19</td>\n",
       "    </tr>\n",
       "    <tr>\n",
       "      <th>1</th>\n",
       "      <td>1</td>\n",
       "      <td>1190</td>\n",
       "      <td>Imbroglio</td>\n",
       "      <td>19</td>\n",
       "    </tr>\n",
       "    <tr>\n",
       "      <th>2</th>\n",
       "      <td>1</td>\n",
       "      <td>1867</td>\n",
       "      <td>Desert Golfing</td>\n",
       "      <td>19</td>\n",
       "    </tr>\n",
       "    <tr>\n",
       "      <th>3</th>\n",
       "      <td>1</td>\n",
       "      <td>1972</td>\n",
       "      <td>Sage Solitaire</td>\n",
       "      <td>19</td>\n",
       "    </tr>\n",
       "    <tr>\n",
       "      <th>4</th>\n",
       "      <td>1</td>\n",
       "      <td>6111</td>\n",
       "      <td>twofold inc.</td>\n",
       "      <td>19</td>\n",
       "    </tr>\n",
       "    <tr>\n",
       "      <th>...</th>\n",
       "      <td>...</td>\n",
       "      <td>...</td>\n",
       "      <td>...</td>\n",
       "      <td>...</td>\n",
       "    </tr>\n",
       "    <tr>\n",
       "      <th>14270</th>\n",
       "      <td>999</td>\n",
       "      <td>28449</td>\n",
       "      <td>Magic 2012</td>\n",
       "      <td>16</td>\n",
       "    </tr>\n",
       "    <tr>\n",
       "      <th>14271</th>\n",
       "      <td>999</td>\n",
       "      <td>40332</td>\n",
       "      <td>Start the Party!</td>\n",
       "      <td>16</td>\n",
       "    </tr>\n",
       "    <tr>\n",
       "      <th>14272</th>\n",
       "      <td>999</td>\n",
       "      <td>40438</td>\n",
       "      <td>Dead State</td>\n",
       "      <td>16</td>\n",
       "    </tr>\n",
       "    <tr>\n",
       "      <th>14273</th>\n",
       "      <td>999</td>\n",
       "      <td>40457</td>\n",
       "      <td>Tumble</td>\n",
       "      <td>16</td>\n",
       "    </tr>\n",
       "    <tr>\n",
       "      <th>14274</th>\n",
       "      <td>999</td>\n",
       "      <td>49840</td>\n",
       "      <td>Dominions 5 - Warriors of the Faith</td>\n",
       "      <td>16</td>\n",
       "    </tr>\n",
       "  </tbody>\n",
       "</table>\n",
       "<p>14275 rows × 4 columns</p>\n",
       "</div>"
      ],
      "text/plain": [
       "       user_id  game_id                            game_name  purchase\n",
       "0            1     1175                        Lost Frontier        19\n",
       "1            1     1190                            Imbroglio        19\n",
       "2            1     1867                       Desert Golfing        19\n",
       "3            1     1972                       Sage Solitaire        19\n",
       "4            1     6111                         twofold inc.        19\n",
       "...        ...      ...                                  ...       ...\n",
       "14270      999    28449                           Magic 2012        16\n",
       "14271      999    40332                     Start the Party!        16\n",
       "14272      999    40438                           Dead State        16\n",
       "14273      999    40457                               Tumble        16\n",
       "14274      999    49840  Dominions 5 - Warriors of the Faith        16\n",
       "\n",
       "[14275 rows x 4 columns]"
      ]
     },
     "execution_count": 41,
     "metadata": {},
     "output_type": "execute_result"
    }
   ],
   "source": [
    "updated_user_df = transform_rawg_user_game_df(rawg_user_game_df)\n",
    "updated_user_df"
   ]
  },
  {
   "cell_type": "code",
   "execution_count": 51,
   "id": "executed-vegetarian",
   "metadata": {
    "ExecuteTime": {
     "end_time": "2021-02-24T13:56:44.746069Z",
     "start_time": "2021-02-24T13:56:44.739151Z"
    }
   },
   "outputs": [],
   "source": [
    "a = rawg_user_game_df[rawg_user_game_df['user_id']==2]\n",
    "#a[a['game_name']=='Twinfold']"
   ]
  },
  {
   "cell_type": "code",
   "execution_count": 45,
   "id": "verbal-advertiser",
   "metadata": {
    "ExecuteTime": {
     "end_time": "2021-02-24T13:50:34.124918Z",
     "start_time": "2021-02-24T13:50:34.114153Z"
    }
   },
   "outputs": [
    {
     "data": {
      "text/plain": [
       "Pocket-Run Pool                         19\n",
       "Twinfold                                19\n",
       "Lost Frontier                           19\n",
       "P1 Select                               19\n",
       "DR.MEEP                                 19\n",
       "High Rise - A Puzzle Cityscape          19\n",
       "Sage Solitaire                          19\n",
       "Cinco Paus                              19\n",
       "see/saw                                 19\n",
       "Topsoil                                 19\n",
       "Imbroglio                               19\n",
       "Look, Your Loot! - A card crawler       19\n",
       "twofold inc.                            19\n",
       "Desert Fox: The Battle of El Alamein    19\n",
       "Twelvesmith                             19\n",
       "Domino Drop                             19\n",
       "Desert Golfing                          19\n",
       "Skies of Fury DX                        19\n",
       "ELOH                                    19\n",
       "IndyCar Racing 2                        19\n",
       "Name: game_name, dtype: int64"
      ]
     },
     "execution_count": 45,
     "metadata": {},
     "output_type": "execute_result"
    }
   ],
   "source": [
    "rawg_user_game_df[rawg_user_game_df['user_id']==1]['game_name'].value_counts()"
   ]
  },
  {
   "cell_type": "code",
   "execution_count": null,
   "id": "simplified-franchise",
   "metadata": {},
   "outputs": [],
   "source": []
  },
  {
   "cell_type": "code",
   "execution_count": null,
   "id": "computational-insulation",
   "metadata": {},
   "outputs": [],
   "source": []
  },
  {
   "cell_type": "code",
   "execution_count": null,
   "id": "breeding-macedonia",
   "metadata": {},
   "outputs": [],
   "source": []
  },
  {
   "cell_type": "code",
   "execution_count": 18,
   "id": "disabled-standing",
   "metadata": {
    "ExecuteTime": {
     "end_time": "2021-02-24T13:41:40.091577Z",
     "start_time": "2021-02-24T13:41:40.089421Z"
    }
   },
   "outputs": [],
   "source": [
    "# def hour_per_user_per_game(df):\n",
    "#     hours_df = df.pivot(index = 'game', columns ='user', values = 'play').fillna(0)\n",
    "#     return hours_df"
   ]
  },
  {
   "cell_type": "code",
   "execution_count": 19,
   "id": "emerging-jacket",
   "metadata": {
    "ExecuteTime": {
     "end_time": "2021-02-24T13:41:42.423209Z",
     "start_time": "2021-02-24T13:41:42.421464Z"
    }
   },
   "outputs": [],
   "source": [
    "# hours_df = hour_per_user_per_game(updated_user_df)\n",
    "# hours_df"
   ]
  },
  {
   "cell_type": "code",
   "execution_count": 36,
   "id": "quick-saturday",
   "metadata": {
    "ExecuteTime": {
     "end_time": "2021-02-24T13:45:36.909547Z",
     "start_time": "2021-02-24T13:45:36.904698Z"
    }
   },
   "outputs": [],
   "source": [
    "def game_per_user_matrix(df):\n",
    "    game_matrix_df = df.pivot(index = 'game_id', columns ='user_id', values = 'purchase').fillna(0)\n",
    "    return game_matrix_df"
   ]
  },
  {
   "cell_type": "code",
   "execution_count": 37,
   "id": "conditional-premises",
   "metadata": {
    "ExecuteTime": {
     "end_time": "2021-02-24T13:45:39.106414Z",
     "start_time": "2021-02-24T13:45:39.047440Z"
    }
   },
   "outputs": [
    {
     "ename": "ValueError",
     "evalue": "Index contains duplicate entries, cannot reshape",
     "output_type": "error",
     "traceback": [
      "\u001b[0;31m---------------------------------------------------------------------------\u001b[0m",
      "\u001b[0;31mValueError\u001b[0m                                Traceback (most recent call last)",
      "\u001b[0;32m<ipython-input-37-6b76fbd362c3>\u001b[0m in \u001b[0;36m<module>\u001b[0;34m\u001b[0m\n\u001b[0;32m----> 1\u001b[0;31m \u001b[0mgame_per_user_df\u001b[0m \u001b[0;34m=\u001b[0m \u001b[0mgame_per_user_matrix\u001b[0m\u001b[0;34m(\u001b[0m\u001b[0mupdated_user_df\u001b[0m\u001b[0;34m)\u001b[0m\u001b[0;34m\u001b[0m\u001b[0;34m\u001b[0m\u001b[0m\n\u001b[0m\u001b[1;32m      2\u001b[0m \u001b[0mgame_per_user_df\u001b[0m\u001b[0;34m\u001b[0m\u001b[0;34m\u001b[0m\u001b[0m\n",
      "\u001b[0;32m<ipython-input-36-b6b02239d1db>\u001b[0m in \u001b[0;36mgame_per_user_matrix\u001b[0;34m(df)\u001b[0m\n\u001b[1;32m      1\u001b[0m \u001b[0;32mdef\u001b[0m \u001b[0mgame_per_user_matrix\u001b[0m\u001b[0;34m(\u001b[0m\u001b[0mdf\u001b[0m\u001b[0;34m)\u001b[0m\u001b[0;34m:\u001b[0m\u001b[0;34m\u001b[0m\u001b[0;34m\u001b[0m\u001b[0m\n\u001b[0;32m----> 2\u001b[0;31m     \u001b[0mgame_matrix_df\u001b[0m \u001b[0;34m=\u001b[0m \u001b[0mdf\u001b[0m\u001b[0;34m.\u001b[0m\u001b[0mpivot\u001b[0m\u001b[0;34m(\u001b[0m\u001b[0mindex\u001b[0m \u001b[0;34m=\u001b[0m \u001b[0;34m'game_id'\u001b[0m\u001b[0;34m,\u001b[0m \u001b[0mcolumns\u001b[0m \u001b[0;34m=\u001b[0m\u001b[0;34m'user_id'\u001b[0m\u001b[0;34m,\u001b[0m \u001b[0mvalues\u001b[0m \u001b[0;34m=\u001b[0m \u001b[0;34m'purchase'\u001b[0m\u001b[0;34m)\u001b[0m\u001b[0;34m.\u001b[0m\u001b[0mfillna\u001b[0m\u001b[0;34m(\u001b[0m\u001b[0;36m0\u001b[0m\u001b[0;34m)\u001b[0m\u001b[0;34m\u001b[0m\u001b[0;34m\u001b[0m\u001b[0m\n\u001b[0m\u001b[1;32m      3\u001b[0m     \u001b[0;32mreturn\u001b[0m \u001b[0mgame_matrix_df\u001b[0m\u001b[0;34m\u001b[0m\u001b[0;34m\u001b[0m\u001b[0m\n",
      "\u001b[0;32m~/.pyenv/versions/3.8.6/envs/game_one_👾/lib/python3.8/site-packages/pandas/core/frame.py\u001b[0m in \u001b[0;36mpivot\u001b[0;34m(self, index, columns, values)\u001b[0m\n\u001b[1;32m   6874\u001b[0m         \u001b[0;32mfrom\u001b[0m \u001b[0mpandas\u001b[0m\u001b[0;34m.\u001b[0m\u001b[0mcore\u001b[0m\u001b[0;34m.\u001b[0m\u001b[0mreshape\u001b[0m\u001b[0;34m.\u001b[0m\u001b[0mpivot\u001b[0m \u001b[0;32mimport\u001b[0m \u001b[0mpivot\u001b[0m\u001b[0;34m\u001b[0m\u001b[0;34m\u001b[0m\u001b[0m\n\u001b[1;32m   6875\u001b[0m \u001b[0;34m\u001b[0m\u001b[0m\n\u001b[0;32m-> 6876\u001b[0;31m         \u001b[0;32mreturn\u001b[0m \u001b[0mpivot\u001b[0m\u001b[0;34m(\u001b[0m\u001b[0mself\u001b[0m\u001b[0;34m,\u001b[0m \u001b[0mindex\u001b[0m\u001b[0;34m=\u001b[0m\u001b[0mindex\u001b[0m\u001b[0;34m,\u001b[0m \u001b[0mcolumns\u001b[0m\u001b[0;34m=\u001b[0m\u001b[0mcolumns\u001b[0m\u001b[0;34m,\u001b[0m \u001b[0mvalues\u001b[0m\u001b[0;34m=\u001b[0m\u001b[0mvalues\u001b[0m\u001b[0;34m)\u001b[0m\u001b[0;34m\u001b[0m\u001b[0;34m\u001b[0m\u001b[0m\n\u001b[0m\u001b[1;32m   6877\u001b[0m \u001b[0;34m\u001b[0m\u001b[0m\n\u001b[1;32m   6878\u001b[0m     _shared_docs[\n",
      "\u001b[0;32m~/.pyenv/versions/3.8.6/envs/game_one_👾/lib/python3.8/site-packages/pandas/core/reshape/pivot.py\u001b[0m in \u001b[0;36mpivot\u001b[0;34m(data, index, columns, values)\u001b[0m\n\u001b[1;32m    459\u001b[0m         \u001b[0;32melse\u001b[0m\u001b[0;34m:\u001b[0m\u001b[0;34m\u001b[0m\u001b[0;34m\u001b[0m\u001b[0m\n\u001b[1;32m    460\u001b[0m             \u001b[0mindexed\u001b[0m \u001b[0;34m=\u001b[0m \u001b[0mdata\u001b[0m\u001b[0;34m.\u001b[0m\u001b[0m_constructor_sliced\u001b[0m\u001b[0;34m(\u001b[0m\u001b[0mdata\u001b[0m\u001b[0;34m[\u001b[0m\u001b[0mvalues\u001b[0m\u001b[0;34m]\u001b[0m\u001b[0;34m.\u001b[0m\u001b[0m_values\u001b[0m\u001b[0;34m,\u001b[0m \u001b[0mindex\u001b[0m\u001b[0;34m=\u001b[0m\u001b[0mindex\u001b[0m\u001b[0;34m)\u001b[0m\u001b[0;34m\u001b[0m\u001b[0;34m\u001b[0m\u001b[0m\n\u001b[0;32m--> 461\u001b[0;31m     \u001b[0;32mreturn\u001b[0m \u001b[0mindexed\u001b[0m\u001b[0;34m.\u001b[0m\u001b[0munstack\u001b[0m\u001b[0;34m(\u001b[0m\u001b[0mcolumns\u001b[0m\u001b[0;34m)\u001b[0m\u001b[0;34m\u001b[0m\u001b[0;34m\u001b[0m\u001b[0m\n\u001b[0m\u001b[1;32m    462\u001b[0m \u001b[0;34m\u001b[0m\u001b[0m\n\u001b[1;32m    463\u001b[0m \u001b[0;34m\u001b[0m\u001b[0m\n",
      "\u001b[0;32m~/.pyenv/versions/3.8.6/envs/game_one_👾/lib/python3.8/site-packages/pandas/core/series.py\u001b[0m in \u001b[0;36munstack\u001b[0;34m(self, level, fill_value)\u001b[0m\n\u001b[1;32m   3824\u001b[0m         \u001b[0;32mfrom\u001b[0m \u001b[0mpandas\u001b[0m\u001b[0;34m.\u001b[0m\u001b[0mcore\u001b[0m\u001b[0;34m.\u001b[0m\u001b[0mreshape\u001b[0m\u001b[0;34m.\u001b[0m\u001b[0mreshape\u001b[0m \u001b[0;32mimport\u001b[0m \u001b[0munstack\u001b[0m\u001b[0;34m\u001b[0m\u001b[0;34m\u001b[0m\u001b[0m\n\u001b[1;32m   3825\u001b[0m \u001b[0;34m\u001b[0m\u001b[0m\n\u001b[0;32m-> 3826\u001b[0;31m         \u001b[0;32mreturn\u001b[0m \u001b[0munstack\u001b[0m\u001b[0;34m(\u001b[0m\u001b[0mself\u001b[0m\u001b[0;34m,\u001b[0m \u001b[0mlevel\u001b[0m\u001b[0;34m,\u001b[0m \u001b[0mfill_value\u001b[0m\u001b[0;34m)\u001b[0m\u001b[0;34m\u001b[0m\u001b[0;34m\u001b[0m\u001b[0m\n\u001b[0m\u001b[1;32m   3827\u001b[0m \u001b[0;34m\u001b[0m\u001b[0m\n\u001b[1;32m   3828\u001b[0m     \u001b[0;31m# ----------------------------------------------------------------------\u001b[0m\u001b[0;34m\u001b[0m\u001b[0;34m\u001b[0m\u001b[0;34m\u001b[0m\u001b[0m\n",
      "\u001b[0;32m~/.pyenv/versions/3.8.6/envs/game_one_👾/lib/python3.8/site-packages/pandas/core/reshape/reshape.py\u001b[0m in \u001b[0;36munstack\u001b[0;34m(obj, level, fill_value)\u001b[0m\n\u001b[1;32m    428\u001b[0m         \u001b[0;32mif\u001b[0m \u001b[0mis_extension_array_dtype\u001b[0m\u001b[0;34m(\u001b[0m\u001b[0mobj\u001b[0m\u001b[0;34m.\u001b[0m\u001b[0mdtype\u001b[0m\u001b[0;34m)\u001b[0m\u001b[0;34m:\u001b[0m\u001b[0;34m\u001b[0m\u001b[0;34m\u001b[0m\u001b[0m\n\u001b[1;32m    429\u001b[0m             \u001b[0;32mreturn\u001b[0m \u001b[0m_unstack_extension_series\u001b[0m\u001b[0;34m(\u001b[0m\u001b[0mobj\u001b[0m\u001b[0;34m,\u001b[0m \u001b[0mlevel\u001b[0m\u001b[0;34m,\u001b[0m \u001b[0mfill_value\u001b[0m\u001b[0;34m)\u001b[0m\u001b[0;34m\u001b[0m\u001b[0;34m\u001b[0m\u001b[0m\n\u001b[0;32m--> 430\u001b[0;31m         unstacker = _Unstacker(\n\u001b[0m\u001b[1;32m    431\u001b[0m             \u001b[0mobj\u001b[0m\u001b[0;34m.\u001b[0m\u001b[0mindex\u001b[0m\u001b[0;34m,\u001b[0m \u001b[0mlevel\u001b[0m\u001b[0;34m=\u001b[0m\u001b[0mlevel\u001b[0m\u001b[0;34m,\u001b[0m \u001b[0mconstructor\u001b[0m\u001b[0;34m=\u001b[0m\u001b[0mobj\u001b[0m\u001b[0;34m.\u001b[0m\u001b[0m_constructor_expanddim\u001b[0m\u001b[0;34m\u001b[0m\u001b[0;34m\u001b[0m\u001b[0m\n\u001b[1;32m    432\u001b[0m         )\n",
      "\u001b[0;32m~/.pyenv/versions/3.8.6/envs/game_one_👾/lib/python3.8/site-packages/pandas/core/reshape/reshape.py\u001b[0m in \u001b[0;36m__init__\u001b[0;34m(self, index, level, constructor)\u001b[0m\n\u001b[1;32m    116\u001b[0m             \u001b[0;32mraise\u001b[0m \u001b[0mValueError\u001b[0m\u001b[0;34m(\u001b[0m\u001b[0;34m\"Unstacked DataFrame is too big, causing int32 overflow\"\u001b[0m\u001b[0;34m)\u001b[0m\u001b[0;34m\u001b[0m\u001b[0;34m\u001b[0m\u001b[0m\n\u001b[1;32m    117\u001b[0m \u001b[0;34m\u001b[0m\u001b[0m\n\u001b[0;32m--> 118\u001b[0;31m         \u001b[0mself\u001b[0m\u001b[0;34m.\u001b[0m\u001b[0m_make_selectors\u001b[0m\u001b[0;34m(\u001b[0m\u001b[0;34m)\u001b[0m\u001b[0;34m\u001b[0m\u001b[0;34m\u001b[0m\u001b[0m\n\u001b[0m\u001b[1;32m    119\u001b[0m \u001b[0;34m\u001b[0m\u001b[0m\n\u001b[1;32m    120\u001b[0m     \u001b[0;34m@\u001b[0m\u001b[0mcache_readonly\u001b[0m\u001b[0;34m\u001b[0m\u001b[0;34m\u001b[0m\u001b[0m\n",
      "\u001b[0;32m~/.pyenv/versions/3.8.6/envs/game_one_👾/lib/python3.8/site-packages/pandas/core/reshape/reshape.py\u001b[0m in \u001b[0;36m_make_selectors\u001b[0;34m(self)\u001b[0m\n\u001b[1;32m    165\u001b[0m \u001b[0;34m\u001b[0m\u001b[0m\n\u001b[1;32m    166\u001b[0m         \u001b[0;32mif\u001b[0m \u001b[0mmask\u001b[0m\u001b[0;34m.\u001b[0m\u001b[0msum\u001b[0m\u001b[0;34m(\u001b[0m\u001b[0;34m)\u001b[0m \u001b[0;34m<\u001b[0m \u001b[0mlen\u001b[0m\u001b[0;34m(\u001b[0m\u001b[0mself\u001b[0m\u001b[0;34m.\u001b[0m\u001b[0mindex\u001b[0m\u001b[0;34m)\u001b[0m\u001b[0;34m:\u001b[0m\u001b[0;34m\u001b[0m\u001b[0;34m\u001b[0m\u001b[0m\n\u001b[0;32m--> 167\u001b[0;31m             \u001b[0;32mraise\u001b[0m \u001b[0mValueError\u001b[0m\u001b[0;34m(\u001b[0m\u001b[0;34m\"Index contains duplicate entries, cannot reshape\"\u001b[0m\u001b[0;34m)\u001b[0m\u001b[0;34m\u001b[0m\u001b[0;34m\u001b[0m\u001b[0m\n\u001b[0m\u001b[1;32m    168\u001b[0m \u001b[0;34m\u001b[0m\u001b[0m\n\u001b[1;32m    169\u001b[0m         \u001b[0mself\u001b[0m\u001b[0;34m.\u001b[0m\u001b[0mgroup_index\u001b[0m \u001b[0;34m=\u001b[0m \u001b[0mcomp_index\u001b[0m\u001b[0;34m\u001b[0m\u001b[0;34m\u001b[0m\u001b[0m\n",
      "\u001b[0;31mValueError\u001b[0m: Index contains duplicate entries, cannot reshape"
     ]
    }
   ],
   "source": [
    "game_per_user_df = game_per_user_matrix(updated_user_df)\n",
    "game_per_user_df"
   ]
  },
  {
   "cell_type": "code",
   "execution_count": null,
   "id": "abandoned-bullet",
   "metadata": {
    "ExecuteTime": {
     "end_time": "2021-02-24T09:14:13.252263Z",
     "start_time": "2021-02-24T09:14:13.248404Z"
    }
   },
   "outputs": [],
   "source": [
    "def svd_model(df, nb_components):\n",
    "    svd = TruncatedSVD(n_components=nb_components)\n",
    "    latent_df = svd.fit_transform(df)\n",
    "    return latent_df, svd"
   ]
  },
  {
   "cell_type": "code",
   "execution_count": null,
   "id": "opposite-pattern",
   "metadata": {
    "ExecuteTime": {
     "end_time": "2021-02-24T09:14:18.687320Z",
     "start_time": "2021-02-24T09:14:13.716271Z"
    },
    "scrolled": true
   },
   "outputs": [],
   "source": [
    "latent_df = svd_model(hours_df,200)[0]\n",
    "latent_df"
   ]
  },
  {
   "cell_type": "code",
   "execution_count": null,
   "id": "russian-watch",
   "metadata": {
    "ExecuteTime": {
     "end_time": "2021-02-24T09:15:16.023228Z",
     "start_time": "2021-02-24T09:15:10.748242Z"
    }
   },
   "outputs": [],
   "source": [
    "svd_saved = svd_model(hours_df,200)[1]"
   ]
  },
  {
   "cell_type": "code",
   "execution_count": null,
   "id": "organized-coaching",
   "metadata": {
    "ExecuteTime": {
     "end_time": "2021-02-24T09:15:16.525584Z",
     "start_time": "2021-02-24T09:15:16.213029Z"
    }
   },
   "outputs": [],
   "source": [
    "plt.plot(svd_saved.explained_variance_ratio_.cumsum())\n",
    "plt.xlabel('number of singular value components')\n",
    "plt.ylabel('Cumulative percent of variance')   \n",
    "plt.grid()\n",
    "plt.show()"
   ]
  },
  {
   "cell_type": "code",
   "execution_count": null,
   "id": "distinct-graphic",
   "metadata": {
    "ExecuteTime": {
     "end_time": "2021-02-23T17:12:51.036544Z",
     "start_time": "2021-02-23T17:12:51.032850Z"
    }
   },
   "outputs": [],
   "source": [
    "from sklearn.preprocessing import MinMaxScaler"
   ]
  },
  {
   "cell_type": "code",
   "execution_count": null,
   "id": "lucky-norway",
   "metadata": {
    "ExecuteTime": {
     "end_time": "2021-02-23T17:18:12.132822Z",
     "start_time": "2021-02-23T17:18:12.128049Z"
    }
   },
   "outputs": [],
   "source": [
    "hours_scaled = pd.DataFrame(hours_scaled)"
   ]
  },
  {
   "cell_type": "code",
   "execution_count": null,
   "id": "operational-jones",
   "metadata": {
    "ExecuteTime": {
     "end_time": "2021-02-24T09:28:48.405260Z",
     "start_time": "2021-02-24T09:28:48.376598Z"
    }
   },
   "outputs": [],
   "source": [
    "hours_df.columns.values.tolist()"
   ]
  },
  {
   "cell_type": "code",
   "execution_count": null,
   "id": "olive-cancellation",
   "metadata": {
    "ExecuteTime": {
     "end_time": "2021-02-24T09:45:13.391781Z",
     "start_time": "2021-02-24T09:44:49.374464Z"
    }
   },
   "outputs": [],
   "source": [
    "test_df = hours_df.copy()\n",
    "for column in test_df.columns.values.tolist():\n",
    "    print(column)\n",
    "    min_col = min(test_df[column])\n",
    "    max_col = max(test_df[column])\n",
    "    print(min_col, max_col)\n",
    "    if max_col != 0:\n",
    "        for i in \n",
    "        print(test_df[column])\n"
   ]
  },
  {
   "cell_type": "code",
   "execution_count": null,
   "id": "sublime-father",
   "metadata": {
    "ExecuteTime": {
     "end_time": "2021-02-23T17:13:49.957095Z",
     "start_time": "2021-02-23T17:13:42.274915Z"
    }
   },
   "outputs": [],
   "source": [
    "latent_scaled_df = svd.fit_transform(hours_scaled)"
   ]
  },
  {
   "cell_type": "code",
   "execution_count": null,
   "id": "decent-nicholas",
   "metadata": {
    "ExecuteTime": {
     "end_time": "2021-02-23T17:13:50.655794Z",
     "start_time": "2021-02-23T17:13:50.649373Z"
    }
   },
   "outputs": [],
   "source": [
    "latent_scaled_df"
   ]
  },
  {
   "cell_type": "code",
   "execution_count": null,
   "id": "incorrect-athletics",
   "metadata": {
    "ExecuteTime": {
     "end_time": "2021-02-23T17:13:59.729662Z",
     "start_time": "2021-02-23T17:13:59.525790Z"
    }
   },
   "outputs": [],
   "source": [
    "plt.plot(svd.explained_variance_ratio_.cumsum())\n",
    "plt.xlabel('number of singular value components')\n",
    "plt.ylabel('Cumulative percent of variance')   \n",
    "plt.grid()\n",
    "plt.show()"
   ]
  },
  {
   "cell_type": "code",
   "execution_count": null,
   "id": "nuclear-scheme",
   "metadata": {},
   "outputs": [],
   "source": []
  }
 ],
 "metadata": {
  "kernelspec": {
   "display_name": "Python 3",
   "language": "python",
   "name": "python3"
  },
  "language_info": {
   "codemirror_mode": {
    "name": "ipython",
    "version": 3
   },
   "file_extension": ".py",
   "mimetype": "text/x-python",
   "name": "python",
   "nbconvert_exporter": "python",
   "pygments_lexer": "ipython3",
   "version": "3.8.6"
  },
  "toc": {
   "base_numbering": 1,
   "nav_menu": {},
   "number_sections": true,
   "sideBar": true,
   "skip_h1_title": false,
   "title_cell": "Table of Contents",
   "title_sidebar": "Contents",
   "toc_cell": false,
   "toc_position": {},
   "toc_section_display": true,
   "toc_window_display": false
  },
  "varInspector": {
   "cols": {
    "lenName": 16,
    "lenType": 16,
    "lenVar": 40
   },
   "kernels_config": {
    "python": {
     "delete_cmd_postfix": "",
     "delete_cmd_prefix": "del ",
     "library": "var_list.py",
     "varRefreshCmd": "print(var_dic_list())"
    },
    "r": {
     "delete_cmd_postfix": ") ",
     "delete_cmd_prefix": "rm(",
     "library": "var_list.r",
     "varRefreshCmd": "cat(var_dic_list()) "
    }
   },
   "types_to_exclude": [
    "module",
    "function",
    "builtin_function_or_method",
    "instance",
    "_Feature"
   ],
   "window_display": false
  }
 },
 "nbformat": 4,
 "nbformat_minor": 5
}
