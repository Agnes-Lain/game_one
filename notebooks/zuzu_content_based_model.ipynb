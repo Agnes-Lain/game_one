{
 "cells": [
  {
   "cell_type": "code",
   "execution_count": 1,
   "id": "sharing-mozambique",
   "metadata": {},
   "outputs": [],
   "source": [
    "import pandas as pd\n",
    "import numpy as np\n",
    "import matplotlib.pyplot as plt"
   ]
  },
  {
   "cell_type": "code",
   "execution_count": 3,
   "id": "liquid-coffee",
   "metadata": {},
   "outputs": [],
   "source": [
    "df = pd.read_csv('../raw_data/rawg_games.csv')"
   ]
  },
  {
   "cell_type": "code",
   "execution_count": 21,
   "id": "italian-brake",
   "metadata": {},
   "outputs": [],
   "source": [
    "df.fillna(\"\", inplace=True)"
   ]
  },
  {
   "cell_type": "code",
   "execution_count": 23,
   "id": "charitable-handy",
   "metadata": {},
   "outputs": [],
   "source": [
    "df['developers'] = df['developers'].str.replace(',',' ')"
   ]
  },
  {
   "cell_type": "code",
   "execution_count": 25,
   "id": "modern-somerset",
   "metadata": {},
   "outputs": [],
   "source": [
    "df['publishers'] = df['developers'].str.replace(',',' ')"
   ]
  },
  {
   "cell_type": "code",
   "execution_count": null,
   "id": "extra-address",
   "metadata": {},
   "outputs": [],
   "source": [
    "def string_space(df, column):\n",
    "    df[column] = df[column].str.replace"
   ]
  },
  {
   "cell_type": "code",
   "execution_count": 26,
   "id": "oriented-livestock",
   "metadata": {},
   "outputs": [
    {
     "data": {
      "text/html": [
       "<div>\n",
       "<style scoped>\n",
       "    .dataframe tbody tr th:only-of-type {\n",
       "        vertical-align: middle;\n",
       "    }\n",
       "\n",
       "    .dataframe tbody tr th {\n",
       "        vertical-align: top;\n",
       "    }\n",
       "\n",
       "    .dataframe thead th {\n",
       "        text-align: right;\n",
       "    }\n",
       "</style>\n",
       "<table border=\"1\" class=\"dataframe\">\n",
       "  <thead>\n",
       "    <tr style=\"text-align: right;\">\n",
       "      <th></th>\n",
       "      <th>Unnamed: 0</th>\n",
       "      <th>game_id</th>\n",
       "      <th>slug</th>\n",
       "      <th>name</th>\n",
       "      <th>description</th>\n",
       "      <th>released</th>\n",
       "      <th>rating</th>\n",
       "      <th>detail_ratings</th>\n",
       "      <th>ratings_count</th>\n",
       "      <th>suggestions_count</th>\n",
       "      <th>game_series_count</th>\n",
       "      <th>reviews_count</th>\n",
       "      <th>metacritic</th>\n",
       "      <th>game_platforms</th>\n",
       "      <th>game_genres</th>\n",
       "      <th>game_tags</th>\n",
       "      <th>developers</th>\n",
       "      <th>publishers</th>\n",
       "    </tr>\n",
       "  </thead>\n",
       "  <tbody>\n",
       "    <tr>\n",
       "      <th>0</th>\n",
       "      <td>0</td>\n",
       "      <td>150724</td>\n",
       "      <td>game-500</td>\n",
       "      <td>......</td>\n",
       "      <td>&lt;p&gt;...... is a casual game developed by ixabri...</td>\n",
       "      <td>2016-11-12</td>\n",
       "      <td>0.00</td>\n",
       "      <td>4|recommended|1|100.0</td>\n",
       "      <td>1</td>\n",
       "      <td>5</td>\n",
       "      <td>0</td>\n",
       "      <td>1</td>\n",
       "      <td></td>\n",
       "      <td>171|Web</td>\n",
       "      <td>Casual</td>\n",
       "      <td></td>\n",
       "      <td>45057|ixabris</td>\n",
       "      <td>45057|ixabris</td>\n",
       "    </tr>\n",
       "    <tr>\n",
       "      <th>1</th>\n",
       "      <td>1</td>\n",
       "      <td>47782</td>\n",
       "      <td>polyfauna</td>\n",
       "      <td>PolyFauna</td>\n",
       "      <td>&lt;p&gt;PolyFauna is an experimental collaboration ...</td>\n",
       "      <td>2014-01-12</td>\n",
       "      <td>0.00</td>\n",
       "      <td>5|exceptional|1|100.0</td>\n",
       "      <td>1</td>\n",
       "      <td>326</td>\n",
       "      <td>0</td>\n",
       "      <td>1</td>\n",
       "      <td></td>\n",
       "      <td>21|Android, 3|iOS</td>\n",
       "      <td>Indie</td>\n",
       "      <td>Experimental</td>\n",
       "      <td>23347|Radiohead</td>\n",
       "      <td>23347|Radiohead</td>\n",
       "    </tr>\n",
       "    <tr>\n",
       "      <th>2</th>\n",
       "      <td>2</td>\n",
       "      <td>57224</td>\n",
       "      <td>tiny-toon-adventures-busters-hidden-treasure</td>\n",
       "      <td>Tiny Toon Adventures: Buster's Hidden Treasure</td>\n",
       "      <td>&lt;p&gt;Tiny Toon Adventures: Buster's Hidden Treas...</td>\n",
       "      <td>1993-02-07</td>\n",
       "      <td>4.18</td>\n",
       "      <td>4|recommended|29|64.44, 5|exceptional|13|28.89...</td>\n",
       "      <td>43</td>\n",
       "      <td>252</td>\n",
       "      <td>0</td>\n",
       "      <td>45</td>\n",
       "      <td></td>\n",
       "      <td>167|Genesis</td>\n",
       "      <td></td>\n",
       "      <td>Singleplayer, exclusive, true exclusive</td>\n",
       "      <td>1971|Konami Digital Entertainment</td>\n",
       "      <td>1971|Konami Digital Entertainment</td>\n",
       "    </tr>\n",
       "    <tr>\n",
       "      <th>3</th>\n",
       "      <td>3</td>\n",
       "      <td>31033</td>\n",
       "      <td>stronghold-crusader</td>\n",
       "      <td>Stronghold: Crusader</td>\n",
       "      <td>&lt;p&gt;Stronghold: Crusader is a strategy game dev...</td>\n",
       "      <td>2002-09-27</td>\n",
       "      <td>4.35</td>\n",
       "      <td>4|recommended|49|60.49, 5|exceptional|30|37.04...</td>\n",
       "      <td>81</td>\n",
       "      <td>528</td>\n",
       "      <td>0</td>\n",
       "      <td>81</td>\n",
       "      <td>78.0</td>\n",
       "      <td>4|PC</td>\n",
       "      <td>Strategy</td>\n",
       "      <td>exclusive, true exclusive</td>\n",
       "      <td>4393|FireFly Studios</td>\n",
       "      <td>4393|FireFly Studios</td>\n",
       "    </tr>\n",
       "    <tr>\n",
       "      <th>4</th>\n",
       "      <td>4</td>\n",
       "      <td>35403</td>\n",
       "      <td>space-rangers-2-rise-of-the-dominators</td>\n",
       "      <td>Space Rangers 2: Rise of the Dominators</td>\n",
       "      <td>&lt;p&gt;Space Rangers 2: Rise of the Dominators is ...</td>\n",
       "      <td>2004-11-26</td>\n",
       "      <td>4.31</td>\n",
       "      <td>5|exceptional|80|65.57, 4|recommended|24|19.67...</td>\n",
       "      <td>121</td>\n",
       "      <td>521</td>\n",
       "      <td>2</td>\n",
       "      <td>122</td>\n",
       "      <td></td>\n",
       "      <td>4|PC</td>\n",
       "      <td>Adventure, RPG, Strategy, Arcade</td>\n",
       "      <td></td>\n",
       "      <td>5834|Elemental Games</td>\n",
       "      <td>5834|Elemental Games</td>\n",
       "    </tr>\n",
       "  </tbody>\n",
       "</table>\n",
       "</div>"
      ],
      "text/plain": [
       "   Unnamed: 0  game_id                                          slug  \\\n",
       "0           0   150724                                      game-500   \n",
       "1           1    47782                                     polyfauna   \n",
       "2           2    57224  tiny-toon-adventures-busters-hidden-treasure   \n",
       "3           3    31033                           stronghold-crusader   \n",
       "4           4    35403        space-rangers-2-rise-of-the-dominators   \n",
       "\n",
       "                                             name  \\\n",
       "0                                          ......   \n",
       "1                                       PolyFauna   \n",
       "2  Tiny Toon Adventures: Buster's Hidden Treasure   \n",
       "3                            Stronghold: Crusader   \n",
       "4         Space Rangers 2: Rise of the Dominators   \n",
       "\n",
       "                                         description    released  rating  \\\n",
       "0  <p>...... is a casual game developed by ixabri...  2016-11-12    0.00   \n",
       "1  <p>PolyFauna is an experimental collaboration ...  2014-01-12    0.00   \n",
       "2  <p>Tiny Toon Adventures: Buster's Hidden Treas...  1993-02-07    4.18   \n",
       "3  <p>Stronghold: Crusader is a strategy game dev...  2002-09-27    4.35   \n",
       "4  <p>Space Rangers 2: Rise of the Dominators is ...  2004-11-26    4.31   \n",
       "\n",
       "                                      detail_ratings  ratings_count  \\\n",
       "0                              4|recommended|1|100.0              1   \n",
       "1                              5|exceptional|1|100.0              1   \n",
       "2  4|recommended|29|64.44, 5|exceptional|13|28.89...             43   \n",
       "3  4|recommended|49|60.49, 5|exceptional|30|37.04...             81   \n",
       "4  5|exceptional|80|65.57, 4|recommended|24|19.67...            121   \n",
       "\n",
       "   suggestions_count  game_series_count  reviews_count metacritic  \\\n",
       "0                  5                  0              1              \n",
       "1                326                  0              1              \n",
       "2                252                  0             45              \n",
       "3                528                  0             81       78.0   \n",
       "4                521                  2            122              \n",
       "\n",
       "      game_platforms                       game_genres  \\\n",
       "0            171|Web                            Casual   \n",
       "1  21|Android, 3|iOS                             Indie   \n",
       "2        167|Genesis                                     \n",
       "3               4|PC                          Strategy   \n",
       "4               4|PC  Adventure, RPG, Strategy, Arcade   \n",
       "\n",
       "                                 game_tags                         developers  \\\n",
       "0                                                               45057|ixabris   \n",
       "1                             Experimental                    23347|Radiohead   \n",
       "2  Singleplayer, exclusive, true exclusive  1971|Konami Digital Entertainment   \n",
       "3                exclusive, true exclusive               4393|FireFly Studios   \n",
       "4                                                        5834|Elemental Games   \n",
       "\n",
       "                          publishers  \n",
       "0                      45057|ixabris  \n",
       "1                    23347|Radiohead  \n",
       "2  1971|Konami Digital Entertainment  \n",
       "3               4393|FireFly Studios  \n",
       "4               5834|Elemental Games  "
      ]
     },
     "execution_count": 26,
     "metadata": {},
     "output_type": "execute_result"
    }
   ],
   "source": [
    "df.head()"
   ]
  },
  {
   "cell_type": "code",
   "execution_count": 7,
   "id": "latter-large",
   "metadata": {},
   "outputs": [
    {
     "data": {
      "text/plain": [
       "'Singleplayer, exclusive, true exclusive'"
      ]
     },
     "execution_count": 7,
     "metadata": {},
     "output_type": "execute_result"
    }
   ],
   "source": [
    "df.game_tags[2]"
   ]
  },
  {
   "cell_type": "code",
   "execution_count": 8,
   "id": "clear-clear",
   "metadata": {},
   "outputs": [
    {
     "data": {
      "text/plain": [
       "'4|recommended|29|64.44, 5|exceptional|13|28.89, 3|meh|2|4.44, 1|skip|1|2.22'"
      ]
     },
     "execution_count": 8,
     "metadata": {},
     "output_type": "execute_result"
    }
   ],
   "source": [
    "df.detail_ratings[2]"
   ]
  },
  {
   "cell_type": "code",
   "execution_count": 9,
   "id": "advisory-career",
   "metadata": {},
   "outputs": [
    {
     "data": {
      "text/plain": [
       "6|Sony Interactive Entertainment                                                 73\n",
       "1971|Konami Digital Entertainment                                                38\n",
       "425|SEGA                                                                         32\n",
       "694|Telltale Games                                                               30\n",
       "4132|Square Enix                                                                 29\n",
       "                                                                                 ..\n",
       "425|SEGA, 13637|Headcannon, 13635|PagodaWest Games, 13636|Christian Whitehead     1\n",
       "11671|GamePrix                                                                    1\n",
       "760|Fantasy Flight Games, 9465|Fantasy Flight Publishing                          1\n",
       "5736|Alersteam                                                                    1\n",
       "425|SEGA, 8254|Sonic Team, 8181|Devil's Details                                   1\n",
       "Name: developers, Length: 5133, dtype: int64"
      ]
     },
     "execution_count": 9,
     "metadata": {},
     "output_type": "execute_result"
    }
   ],
   "source": [
    "df.developers.value_counts()"
   ]
  },
  {
   "cell_type": "code",
   "execution_count": 10,
   "id": "present-header",
   "metadata": {},
   "outputs": [
    {
     "data": {
      "text/plain": [
       "918|Ubisoft Entertainment            191\n",
       "354|Electronic Arts                  190\n",
       "20987|Microsoft Studios              107\n",
       "10212|Sony Computer Entertainment    100\n",
       "3408|SEGA                             94\n",
       "                                    ... \n",
       "5076|Ganz                              1\n",
       "3979|Mediatonic                        1\n",
       "6628|Suits & Sandals                   1\n",
       "22910|Denis Sinner                     1\n",
       "3171|Crate Entertainment               1\n",
       "Name: publishers, Length: 3733, dtype: int64"
      ]
     },
     "execution_count": 10,
     "metadata": {},
     "output_type": "execute_result"
    }
   ],
   "source": [
    "df.publishers.value_counts()"
   ]
  },
  {
   "cell_type": "code",
   "execution_count": 17,
   "id": "complex-circus",
   "metadata": {},
   "outputs": [
    {
     "ename": "SyntaxError",
     "evalue": "unexpected EOF while parsing (<ipython-input-17-86adf6a1257d>, line 5)",
     "output_type": "error",
     "traceback": [
      "\u001b[0;36m  File \u001b[0;32m\"<ipython-input-17-86adf6a1257d>\"\u001b[0;36m, line \u001b[0;32m5\u001b[0m\n\u001b[0;31m    column.apply(lambda x: wk(x)\u001b[0m\n\u001b[0m                                ^\u001b[0m\n\u001b[0;31mSyntaxError\u001b[0m\u001b[0;31m:\u001b[0m unexpected EOF while parsing\n"
     ]
    }
   ],
   "source": [
    "from sklearn.feature_extraction.text import CountVectorizer\n",
    "\n",
    "count_matrix = count.fit_transform(merged_df['metadata'])\n",
    "count_df = pd.DataFrame(count_matrix.toarray(), index=merged_df.index.tolist())\n",
    "count_df.head()\n",
    "  "
   ]
  },
  {
   "cell_type": "code",
   "execution_count": null,
   "id": "sized-evanescence",
   "metadata": {},
   "outputs": [],
   "source": []
  }
 ],
 "metadata": {
  "kernelspec": {
   "display_name": "Python 3",
   "language": "python",
   "name": "python3"
  },
  "language_info": {
   "codemirror_mode": {
    "name": "ipython",
    "version": 3
   },
   "file_extension": ".py",
   "mimetype": "text/x-python",
   "name": "python",
   "nbconvert_exporter": "python",
   "pygments_lexer": "ipython3",
   "version": "3.8.6"
  },
  "toc": {
   "base_numbering": 1,
   "nav_menu": {},
   "number_sections": true,
   "sideBar": true,
   "skip_h1_title": false,
   "title_cell": "Table of Contents",
   "title_sidebar": "Contents",
   "toc_cell": false,
   "toc_position": {},
   "toc_section_display": true,
   "toc_window_display": false
  },
  "varInspector": {
   "cols": {
    "lenName": 16,
    "lenType": 16,
    "lenVar": 40
   },
   "kernels_config": {
    "python": {
     "delete_cmd_postfix": "",
     "delete_cmd_prefix": "del ",
     "library": "var_list.py",
     "varRefreshCmd": "print(var_dic_list())"
    },
    "r": {
     "delete_cmd_postfix": ") ",
     "delete_cmd_prefix": "rm(",
     "library": "var_list.r",
     "varRefreshCmd": "cat(var_dic_list()) "
    }
   },
   "types_to_exclude": [
    "module",
    "function",
    "builtin_function_or_method",
    "instance",
    "_Feature"
   ],
   "window_display": false
  }
 },
 "nbformat": 4,
 "nbformat_minor": 5
}
