{
 "cells": [
  {
   "cell_type": "code",
   "execution_count": 1,
   "id": "material-handbook",
   "metadata": {},
   "outputs": [],
   "source": [
    "import time"
   ]
  },
  {
   "cell_type": "code",
   "execution_count": 2,
   "id": "allied-bridal",
   "metadata": {},
   "outputs": [],
   "source": [
    "import numpy as np\n",
    "import pandas as pd\n",
    "import requests\n",
    "\n",
    "class FetchUserGames(object):\n",
    "    \"\"\"\n",
    "        with given user_id of rawg, this class will return a list of game dictionaries. Can be used as json format \n",
    "        of API return results.\n",
    "    \"\"\"\n",
    "\n",
    "    def __init__(self, user_id):\n",
    "        self.user_id = user_id\n",
    "        self.results = None\n",
    "        self.url = f\"https://api.rawg.io/api/users/{user_id}/games?\"\n",
    "\n",
    "    def get_user_game(self, result):\n",
    "        user_rating = result[\"user_rating\"]\n",
    "        # print(user_rating)\n",
    "\n",
    "        metacritic = result[\"metacritic\"]\n",
    "        # print(metacritic)\n",
    "\n",
    "        rawg_rating = result[\"rating\"]\n",
    "        # print(rawg_rating)\n",
    "\n",
    "        game_release = result[\"released\"]\n",
    "        # print (game_release)\n",
    "\n",
    "        game_id = result['id']\n",
    "        # print(game_id)\n",
    "\n",
    "        game_slut = result[\"slug\"]\n",
    "        # print(game_slut)\n",
    "\n",
    "        game_name = result['name']\n",
    "        # print(game_name)\n",
    "        play_time = result['playtime']\n",
    "        # print(play_time)\n",
    "\n",
    "        user_game = {\"user_id\": self.user_id,\n",
    "                     \"game_id\": game_id,\n",
    "                     \"game_slug\": game_slut,\n",
    "                     \"game_name\": game_name,\n",
    "                     \"user_rating\": user_rating,\n",
    "                     \"metacritic\": metacritic,\n",
    "                     \"rawg_rating\": rawg_rating,\n",
    "                    \"released\": game_release,\n",
    "                    \"play_time\": play_time}\n",
    "\n",
    "        return user_game\n",
    "\n",
    "\n",
    "    def fetch_game(self):\n",
    "        response = requests.get(self.url)\n",
    "        data = response.json()\n",
    "        return data\n",
    "\n",
    "    def get_results(self):\n",
    "        user_games = []\n",
    "        for result in self.results:\n",
    "#             if result[\"user_rating\"] > 0:\n",
    "            game = self.get_user_game(result)\n",
    "    #         print(game)\n",
    "            user_games.append(game)\n",
    "        return user_games\n",
    "\n",
    "    def get_user_games(self):\n",
    "        total_user_games = []\n",
    "        try:\n",
    "            data = self.fetch_game()\n",
    "            self.results = data['results']\n",
    "            if data['count'] < 500:\n",
    "                games = self.get_results()\n",
    "                total_user_games.extend(games)\n",
    "                while data['next'] != None:\n",
    "                    self.url = data['next']\n",
    "                    data = self.fetch_game()\n",
    "                    self.results = data['results']\n",
    "                    games = self.get_results()\n",
    "                    total_user_games.extend(games)\n",
    "        except:\n",
    "            print (\"no user or no user games\")\n",
    "\n",
    "        return total_user_games"
   ]
  },
  {
   "cell_type": "code",
   "execution_count": 3,
   "id": "mediterranean-affiliation",
   "metadata": {},
   "outputs": [],
   "source": [
    "def get_user(id):\n",
    "    try:\n",
    "        # api_key=\"58eeb730ca1a47e8aa9d130c3127d412\"\n",
    "        url=f\"https://api.rawg.io/api/users/{id}\"\n",
    "        response = requests.get(url)\n",
    "        data = response.json()\n",
    "        if data[\"games_count\"]>0:\n",
    "            users.append({'id':id,\n",
    "                          \"games_count\": data[\"games_count\"],\n",
    "                          \"games_wishlist_count\":data[\"games_wishlist_count\"]})\n",
    "    except:\n",
    "        print (\"no user or no user games\")"
   ]
  },
  {
   "cell_type": "code",
   "execution_count": 22,
   "id": "answering-hopkins",
   "metadata": {},
   "outputs": [
    {
     "name": "stdout",
     "output_type": "stream",
     "text": [
      "no user or no user games\n",
      "no user or no user games\n",
      "no user or no user games\n",
      "no user or no user games\n",
      "no user or no user games\n",
      "no user or no user games\n",
      "no user or no user games\n",
      "no user or no user games\n",
      "no user or no user games\n",
      "no user or no user games\n",
      "no user or no user games\n",
      "no user or no user games\n",
      "no user or no user games\n",
      "no user or no user games\n",
      "no user or no user games\n",
      "no user or no user games\n",
      "no user or no user games\n",
      "no user or no user games\n"
     ]
    }
   ],
   "source": [
    "for user in range(4000, 5000):\n",
    "    fetch = FetchUserGames(user)\n",
    "    games = fetch.get_user_games()\n",
    "    df = pd.DataFrame(games)\n",
    "    df.to_csv('../raw_data/rawg_user_games_old.csv', index = False, mode = 'a', header=False)\n",
    "    time.sleep(1)"
   ]
  },
  {
   "cell_type": "code",
   "execution_count": 5,
   "id": "foster-machine",
   "metadata": {},
   "outputs": [
    {
     "data": {
      "text/html": [
       "<div>\n",
       "<style scoped>\n",
       "    .dataframe tbody tr th:only-of-type {\n",
       "        vertical-align: middle;\n",
       "    }\n",
       "\n",
       "    .dataframe tbody tr th {\n",
       "        vertical-align: top;\n",
       "    }\n",
       "\n",
       "    .dataframe thead th {\n",
       "        text-align: right;\n",
       "    }\n",
       "</style>\n",
       "<table border=\"1\" class=\"dataframe\">\n",
       "  <thead>\n",
       "    <tr style=\"text-align: right;\">\n",
       "      <th></th>\n",
       "    </tr>\n",
       "  </thead>\n",
       "  <tbody>\n",
       "  </tbody>\n",
       "</table>\n",
       "</div>"
      ],
      "text/plain": [
       "Empty DataFrame\n",
       "Columns: []\n",
       "Index: []"
      ]
     },
     "execution_count": 5,
     "metadata": {},
     "output_type": "execute_result"
    }
   ],
   "source": [
    "df"
   ]
  },
  {
   "cell_type": "code",
   "execution_count": 6,
   "id": "decimal-break",
   "metadata": {},
   "outputs": [
    {
     "data": {
      "text/plain": [
       "array([2, 3, 4])"
      ]
     },
     "execution_count": 6,
     "metadata": {},
     "output_type": "execute_result"
    }
   ],
   "source": [
    "np.arange(2,5)"
   ]
  },
  {
   "cell_type": "code",
   "execution_count": null,
   "id": "collectible-founder",
   "metadata": {},
   "outputs": [],
   "source": []
  },
  {
   "cell_type": "code",
   "execution_count": 34,
   "id": "federal-relay",
   "metadata": {},
   "outputs": [],
   "source": [
    "fetch = FetchUserGames('Guigsan')"
   ]
  },
  {
   "cell_type": "code",
   "execution_count": 35,
   "id": "purple-fiber",
   "metadata": {},
   "outputs": [],
   "source": [
    "games = fetch.get_user_games()"
   ]
  },
  {
   "cell_type": "code",
   "execution_count": 36,
   "id": "exceptional-sentence",
   "metadata": {},
   "outputs": [],
   "source": [
    "df = pd.DataFrame(games)"
   ]
  },
  {
   "cell_type": "code",
   "execution_count": 38,
   "id": "colored-chocolate",
   "metadata": {},
   "outputs": [],
   "source": [
    "df.to_csv('../raw_data/new_user_games.csv', index = False, mode = 'a', header=False)"
   ]
  },
  {
   "cell_type": "code",
   "execution_count": 16,
   "id": "streaming-dynamics",
   "metadata": {},
   "outputs": [
    {
     "name": "stderr",
     "output_type": "stream",
     "text": [
      "/Users/zongyizhu/.pyenv/versions/3.8.6/envs/game_one/lib/python3.8/site-packages/IPython/core/interactiveshell.py:3155: DtypeWarning: Columns (0) have mixed types.Specify dtype option on import or set low_memory=False.\n",
      "  has_raised = await self.run_ast_nodes(code_ast.body, cell_name,\n"
     ]
    }
   ],
   "source": [
    "new_games =  pd.read_csv('../raw_data/rawg_user_games_old.csv')"
   ]
  },
  {
   "cell_type": "code",
   "execution_count": 21,
   "id": "stuck-optimization",
   "metadata": {},
   "outputs": [
    {
     "data": {
      "text/html": [
       "<div>\n",
       "<style scoped>\n",
       "    .dataframe tbody tr th:only-of-type {\n",
       "        vertical-align: middle;\n",
       "    }\n",
       "\n",
       "    .dataframe tbody tr th {\n",
       "        vertical-align: top;\n",
       "    }\n",
       "\n",
       "    .dataframe thead th {\n",
       "        text-align: right;\n",
       "    }\n",
       "</style>\n",
       "<table border=\"1\" class=\"dataframe\">\n",
       "  <thead>\n",
       "    <tr style=\"text-align: right;\">\n",
       "      <th></th>\n",
       "      <th>user_id</th>\n",
       "      <th>game_id</th>\n",
       "      <th>game_slug</th>\n",
       "      <th>game_name</th>\n",
       "      <th>user_rating</th>\n",
       "      <th>metacritic</th>\n",
       "      <th>rawg_rating</th>\n",
       "      <th>released</th>\n",
       "      <th>play_time</th>\n",
       "    </tr>\n",
       "  </thead>\n",
       "  <tbody>\n",
       "    <tr>\n",
       "      <th>289125</th>\n",
       "      <td>3988</td>\n",
       "      <td>3070</td>\n",
       "      <td>fallout-4</td>\n",
       "      <td>Fallout 4</td>\n",
       "      <td>5</td>\n",
       "      <td>84.0</td>\n",
       "      <td>3.76</td>\n",
       "      <td>2015-11-09</td>\n",
       "      <td>44</td>\n",
       "    </tr>\n",
       "    <tr>\n",
       "      <th>289126</th>\n",
       "      <td>3988</td>\n",
       "      <td>3498</td>\n",
       "      <td>grand-theft-auto-v</td>\n",
       "      <td>Grand Theft Auto V</td>\n",
       "      <td>5</td>\n",
       "      <td>97.0</td>\n",
       "      <td>4.48</td>\n",
       "      <td>2013-09-17</td>\n",
       "      <td>69</td>\n",
       "    </tr>\n",
       "    <tr>\n",
       "      <th>289127</th>\n",
       "      <td>3990</td>\n",
       "      <td>193</td>\n",
       "      <td>fruit-ninja-classic</td>\n",
       "      <td>Fruit Ninja Classic</td>\n",
       "      <td>4</td>\n",
       "      <td>75.0</td>\n",
       "      <td>3.61</td>\n",
       "      <td>2010-04-21</td>\n",
       "      <td>6</td>\n",
       "    </tr>\n",
       "    <tr>\n",
       "      <th>289128</th>\n",
       "      <td>3990</td>\n",
       "      <td>19487</td>\n",
       "      <td>alan-wake</td>\n",
       "      <td>Alan Wake</td>\n",
       "      <td>4</td>\n",
       "      <td>83.0</td>\n",
       "      <td>4.13</td>\n",
       "      <td>2010-05-14</td>\n",
       "      <td>5</td>\n",
       "    </tr>\n",
       "    <tr>\n",
       "      <th>289129</th>\n",
       "      <td>3993</td>\n",
       "      <td>1256</td>\n",
       "      <td>xcom-2</td>\n",
       "      <td>XCOM 2</td>\n",
       "      <td>4</td>\n",
       "      <td>88.0</td>\n",
       "      <td>4.10</td>\n",
       "      <td>2016-02-04</td>\n",
       "      <td>19</td>\n",
       "    </tr>\n",
       "  </tbody>\n",
       "</table>\n",
       "</div>"
      ],
      "text/plain": [
       "       user_id  game_id            game_slug            game_name  \\\n",
       "289125    3988     3070            fallout-4            Fallout 4   \n",
       "289126    3988     3498   grand-theft-auto-v   Grand Theft Auto V   \n",
       "289127    3990      193  fruit-ninja-classic  Fruit Ninja Classic   \n",
       "289128    3990    19487            alan-wake            Alan Wake   \n",
       "289129    3993     1256               xcom-2               XCOM 2   \n",
       "\n",
       "        user_rating  metacritic  rawg_rating    released  play_time  \n",
       "289125            5        84.0         3.76  2015-11-09         44  \n",
       "289126            5        97.0         4.48  2013-09-17         69  \n",
       "289127            4        75.0         3.61  2010-04-21          6  \n",
       "289128            4        83.0         4.13  2010-05-14          5  \n",
       "289129            4        88.0         4.10  2016-02-04         19  "
      ]
     },
     "execution_count": 21,
     "metadata": {},
     "output_type": "execute_result"
    }
   ],
   "source": [
    "new_games.tail()"
   ]
  },
  {
   "cell_type": "code",
   "execution_count": 18,
   "id": "cognitive-louisiana",
   "metadata": {},
   "outputs": [],
   "source": [
    "games_ids = pd.unique(new_games['game_id'])"
   ]
  },
  {
   "cell_type": "code",
   "execution_count": 19,
   "id": "determined-narrative",
   "metadata": {},
   "outputs": [
    {
     "data": {
      "text/plain": [
       "(19661,)"
      ]
     },
     "execution_count": 19,
     "metadata": {},
     "output_type": "execute_result"
    }
   ],
   "source": [
    "games_ids.shape"
   ]
  },
  {
   "cell_type": "code",
   "execution_count": 44,
   "id": "controversial-vulnerability",
   "metadata": {},
   "outputs": [],
   "source": [
    "user_ids = pd.unique(new_games['user_id'])"
   ]
  },
  {
   "cell_type": "code",
   "execution_count": 45,
   "id": "earned-reading",
   "metadata": {},
   "outputs": [
    {
     "data": {
      "text/plain": [
       "(2245,)"
      ]
     },
     "execution_count": 45,
     "metadata": {},
     "output_type": "execute_result"
    }
   ],
   "source": [
    "user_ids.shape"
   ]
  },
  {
   "cell_type": "code",
   "execution_count": 48,
   "id": "spatial-millennium",
   "metadata": {},
   "outputs": [],
   "source": [
    "user_game_unique = pd.unique(new_games[['user_id','game_id']].values.ravel('K'))"
   ]
  },
  {
   "cell_type": "code",
   "execution_count": 49,
   "id": "spread-xerox",
   "metadata": {},
   "outputs": [
    {
     "data": {
      "text/plain": [
       "(12651,)"
      ]
     },
     "execution_count": 49,
     "metadata": {},
     "output_type": "execute_result"
    }
   ],
   "source": [
    "user_game_unique.shape"
   ]
  },
  {
   "cell_type": "code",
   "execution_count": null,
   "id": "elegant-match",
   "metadata": {},
   "outputs": [],
   "source": []
  },
  {
   "cell_type": "code",
   "execution_count": 13,
   "id": "confidential-valve",
   "metadata": {},
   "outputs": [],
   "source": [
    "old_games = pd.read_csv('../raw_data/rawg_user_games.csv')"
   ]
  },
  {
   "cell_type": "code",
   "execution_count": 14,
   "id": "regulated-diploma",
   "metadata": {},
   "outputs": [],
   "source": [
    "old_games_ids = pd.unique(old_games['game_id'])"
   ]
  },
  {
   "cell_type": "code",
   "execution_count": 15,
   "id": "respected-europe",
   "metadata": {},
   "outputs": [
    {
     "data": {
      "text/plain": [
       "(10406,)"
      ]
     },
     "execution_count": 15,
     "metadata": {},
     "output_type": "execute_result"
    }
   ],
   "source": [
    "old_games_ids.shape"
   ]
  },
  {
   "cell_type": "code",
   "execution_count": 25,
   "id": "compressed-flash",
   "metadata": {},
   "outputs": [],
   "source": [
    "import numpy as np"
   ]
  },
  {
   "cell_type": "code",
   "execution_count": 27,
   "id": "compatible-dispute",
   "metadata": {},
   "outputs": [],
   "source": [
    "for game_id in games_ids:\n",
    "    if not(game_id in old_games_ids):\n",
    "        np.append(old_games_ids, game_id)"
   ]
  },
  {
   "cell_type": "code",
   "execution_count": 28,
   "id": "civic-organic",
   "metadata": {},
   "outputs": [
    {
     "data": {
      "text/plain": [
       "(18603,)"
      ]
     },
     "execution_count": 28,
     "metadata": {},
     "output_type": "execute_result"
    }
   ],
   "source": [
    "old_games_ids.shape"
   ]
  },
  {
   "cell_type": "code",
   "execution_count": null,
   "id": "fleet-haven",
   "metadata": {},
   "outputs": [],
   "source": []
  }
 ],
 "metadata": {
  "kernelspec": {
   "display_name": "Python 3",
   "language": "python",
   "name": "python3"
  },
  "language_info": {
   "codemirror_mode": {
    "name": "ipython",
    "version": 3
   },
   "file_extension": ".py",
   "mimetype": "text/x-python",
   "name": "python",
   "nbconvert_exporter": "python",
   "pygments_lexer": "ipython3",
   "version": "3.8.6"
  },
  "toc": {
   "base_numbering": 1,
   "nav_menu": {},
   "number_sections": true,
   "sideBar": true,
   "skip_h1_title": false,
   "title_cell": "Table of Contents",
   "title_sidebar": "Contents",
   "toc_cell": false,
   "toc_position": {},
   "toc_section_display": true,
   "toc_window_display": false
  },
  "varInspector": {
   "cols": {
    "lenName": 16,
    "lenType": 16,
    "lenVar": 40
   },
   "kernels_config": {
    "python": {
     "delete_cmd_postfix": "",
     "delete_cmd_prefix": "del ",
     "library": "var_list.py",
     "varRefreshCmd": "print(var_dic_list())"
    },
    "r": {
     "delete_cmd_postfix": ") ",
     "delete_cmd_prefix": "rm(",
     "library": "var_list.r",
     "varRefreshCmd": "cat(var_dic_list()) "
    }
   },
   "types_to_exclude": [
    "module",
    "function",
    "builtin_function_or_method",
    "instance",
    "_Feature"
   ],
   "window_display": false
  }
 },
 "nbformat": 4,
 "nbformat_minor": 5
}
